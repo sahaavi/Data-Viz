{
 "cells": [
  {
   "cell_type": "code",
   "execution_count": 1,
   "metadata": {},
   "outputs": [],
   "source": [
    "import pandas as pd\n",
    "df = pd.read_csv('datasets/cleandata.csv')"
   ]
  },
  {
   "cell_type": "code",
   "execution_count": 2,
   "metadata": {},
   "outputs": [
    {
     "data": {
      "text/plain": [
       "Index(['Unnamed: 0', 'Country Name', 'Country Code', 'Series Name', '2014',\n",
       "       '2015', '2016', '2017', '2018', '2019'],\n",
       "      dtype='object')"
      ]
     },
     "execution_count": 2,
     "metadata": {},
     "output_type": "execute_result"
    }
   ],
   "source": [
    "df.columns"
   ]
  },
  {
   "cell_type": "code",
   "execution_count": 3,
   "metadata": {},
   "outputs": [
    {
     "data": {
      "text/plain": [
       "array(['Cost of business start-up procedures (% of GNI per capita)',\n",
       "       'Cost of business start-up procedures, female (% of GNI per capita)',\n",
       "       'Cost of business start-up procedures, male (% of GNI per capita)',\n",
       "       'Time required to start a business (days)',\n",
       "       'Time required to start a business, female (days)',\n",
       "       'Time required to start a business, male (days)',\n",
       "       'Unemployment with advanced education (% of total labor force with advanced education)',\n",
       "       'Unemployment with advanced education, female (% of female labor force with advanced education)',\n",
       "       'Unemployment with advanced education, male (% of male labor force with advanced education)',\n",
       "       'Unemployment with basic education (% of total labor force with basic education)',\n",
       "       'Unemployment with basic education, female (% of female labor force with basic education)',\n",
       "       'Unemployment with basic education, male (% of male labor force with basic education)',\n",
       "       'Unemployment with intermediate education (% of total labor force with intermediate education)',\n",
       "       'Unemployment with intermediate education, female (% of female labor force with intermediate education)',\n",
       "       'Unemployment with intermediate education, male (% of male labor force with intermediate education)',\n",
       "       'Interest rate spread (lending rate minus deposit rate, %)',\n",
       "       'Average time to clear exports through customs (days)',\n",
       "       'Logistics performance index: Overall (1=low to 5=high)',\n",
       "       'Time to export, border compliance (hours)',\n",
       "       'Time to export, documentary compliance (hours)',\n",
       "       'Time to import, border compliance (hours)',\n",
       "       'Time to import, documentary compliance (hours)'], dtype=object)"
      ]
     },
     "execution_count": 3,
     "metadata": {},
     "output_type": "execute_result"
    }
   ],
   "source": [
    "df['Series Name'].unique()"
   ]
  },
  {
   "cell_type": "code",
   "execution_count": 4,
   "metadata": {},
   "outputs": [
    {
     "data": {
      "text/plain": [
       "20               96\n",
       "42               10\n",
       "64         209.5714\n",
       "86               72\n",
       "108        61.33333\n",
       "           ...     \n",
       "5146    126.1642571\n",
       "5168    126.7982627\n",
       "5190    126.1642571\n",
       "5212    45.13404612\n",
       "5234    66.94549528\n",
       "Name: 2019, Length: 238, dtype: object"
      ]
     },
     "execution_count": 4,
     "metadata": {},
     "output_type": "execute_result"
    }
   ],
   "source": [
    "df[df['Series Name']==\"Time to import, border compliance (hours)\"][\"2019\"]"
   ]
  },
  {
   "cell_type": "code",
   "execution_count": 26,
   "metadata": {},
   "outputs": [
    {
     "data": {
      "text/plain": [
       "array(['..', '12.7', '7.7', '8.3', '6.3', '14.5', '6.9'], dtype=object)"
      ]
     },
     "execution_count": 26,
     "metadata": {},
     "output_type": "execute_result"
    }
   ],
   "source": [
    "df[df['Series Name']==\"Average time to clear exports through customs (days)\"][\"2015\"].unique()"
   ]
  },
  {
   "cell_type": "code",
   "execution_count": 58,
   "metadata": {},
   "outputs": [
    {
     "data": {
      "text/html": [
       "<div>\n",
       "<style scoped>\n",
       "    .dataframe tbody tr th:only-of-type {\n",
       "        vertical-align: middle;\n",
       "    }\n",
       "\n",
       "    .dataframe tbody tr th {\n",
       "        vertical-align: top;\n",
       "    }\n",
       "\n",
       "    .dataframe thead th {\n",
       "        text-align: right;\n",
       "    }\n",
       "</style>\n",
       "<table border=\"1\" class=\"dataframe\">\n",
       "  <thead>\n",
       "    <tr style=\"text-align: right;\">\n",
       "      <th></th>\n",
       "      <th>Country Name</th>\n",
       "      <th>Series Name</th>\n",
       "      <th>year</th>\n",
       "      <th>value</th>\n",
       "    </tr>\n",
       "  </thead>\n",
       "  <tbody>\n",
       "    <tr>\n",
       "      <th>0</th>\n",
       "      <td>Afghanistan</td>\n",
       "      <td>Cost of business start-up procedures (% of GNI...</td>\n",
       "      <td>2014</td>\n",
       "      <td>15.1</td>\n",
       "    </tr>\n",
       "    <tr>\n",
       "      <th>1</th>\n",
       "      <td>Afghanistan</td>\n",
       "      <td>Cost of business start-up procedures, female (...</td>\n",
       "      <td>2014</td>\n",
       "      <td>15.1</td>\n",
       "    </tr>\n",
       "    <tr>\n",
       "      <th>2</th>\n",
       "      <td>Afghanistan</td>\n",
       "      <td>Cost of business start-up procedures, male (% ...</td>\n",
       "      <td>2014</td>\n",
       "      <td>15.1</td>\n",
       "    </tr>\n",
       "    <tr>\n",
       "      <th>3</th>\n",
       "      <td>Afghanistan</td>\n",
       "      <td>Time required to start a business (days)</td>\n",
       "      <td>2014</td>\n",
       "      <td>8.5</td>\n",
       "    </tr>\n",
       "    <tr>\n",
       "      <th>4</th>\n",
       "      <td>Afghanistan</td>\n",
       "      <td>Time required to start a business, female (days)</td>\n",
       "      <td>2014</td>\n",
       "      <td>9</td>\n",
       "    </tr>\n",
       "  </tbody>\n",
       "</table>\n",
       "</div>"
      ],
      "text/plain": [
       "  Country Name                                        Series Name  year value\n",
       "0  Afghanistan  Cost of business start-up procedures (% of GNI...  2014  15.1\n",
       "1  Afghanistan  Cost of business start-up procedures, female (...  2014  15.1\n",
       "2  Afghanistan  Cost of business start-up procedures, male (% ...  2014  15.1\n",
       "3  Afghanistan           Time required to start a business (days)  2014   8.5\n",
       "4  Afghanistan   Time required to start a business, female (days)  2014     9"
      ]
     },
     "execution_count": 58,
     "metadata": {},
     "output_type": "execute_result"
    }
   ],
   "source": [
    "# columns to keep (Country Name, Series Name, and the year columns)\n",
    "cols_to_keep = ['Country Name', 'Series Name', '2014', '2015', '2016', '2017', '2018', '2019']\n",
    "\n",
    "# reshaping the df using melt()\n",
    "df_melted = pd.melt(df[cols_to_keep], id_vars=['Country Name', 'Series Name'], var_name='year', value_name='value')\n",
    "\n",
    "df_melted.head()\n"
   ]
  },
  {
   "cell_type": "code",
   "execution_count": 17,
   "metadata": {},
   "outputs": [],
   "source": [
    "df_melted['value'] = pd.to_numeric(df_melted['value'], errors='coerce')"
   ]
  },
  {
   "cell_type": "code",
   "execution_count": 20,
   "metadata": {},
   "outputs": [
    {
     "data": {
      "text/plain": [
       "numpy.float64"
      ]
     },
     "execution_count": 20,
     "metadata": {},
     "output_type": "execute_result"
    }
   ],
   "source": [
    "type(df_melted['value'][1])"
   ]
  },
  {
   "cell_type": "code",
   "execution_count": 21,
   "metadata": {},
   "outputs": [],
   "source": [
    "df_melted.to_csv('datasets/melted.csv', index=False)"
   ]
  },
  {
   "cell_type": "code",
   "execution_count": 57,
   "metadata": {},
   "outputs": [
    {
     "data": {
      "text/html": [
       "\n",
       "<div id=\"altair-viz-2f9ea65ae26741ef93ba603442164451\"></div>\n",
       "<script type=\"text/javascript\">\n",
       "  (function(spec, embedOpt){\n",
       "    let outputDiv = document.currentScript.previousElementSibling;\n",
       "    if (outputDiv.id !== \"altair-viz-2f9ea65ae26741ef93ba603442164451\") {\n",
       "      outputDiv = document.getElementById(\"altair-viz-2f9ea65ae26741ef93ba603442164451\");\n",
       "    }\n",
       "    const paths = {\n",
       "      \"vega\": \"https://cdn.jsdelivr.net/npm//vega@5?noext\",\n",
       "      \"vega-lib\": \"https://cdn.jsdelivr.net/npm//vega-lib?noext\",\n",
       "      \"vega-lite\": \"https://cdn.jsdelivr.net/npm//vega-lite@4.8.1?noext\",\n",
       "      \"vega-embed\": \"https://cdn.jsdelivr.net/npm//vega-embed@6?noext\",\n",
       "    };\n",
       "\n",
       "    function loadScript(lib) {\n",
       "      return new Promise(function(resolve, reject) {\n",
       "        var s = document.createElement('script');\n",
       "        s.src = paths[lib];\n",
       "        s.async = true;\n",
       "        s.onload = () => resolve(paths[lib]);\n",
       "        s.onerror = () => reject(`Error loading script: ${paths[lib]}`);\n",
       "        document.getElementsByTagName(\"head\")[0].appendChild(s);\n",
       "      });\n",
       "    }\n",
       "\n",
       "    function showError(err) {\n",
       "      outputDiv.innerHTML = `<div class=\"error\" style=\"color:red;\">${err}</div>`;\n",
       "      throw err;\n",
       "    }\n",
       "\n",
       "    function displayChart(vegaEmbed) {\n",
       "      vegaEmbed(outputDiv, spec, embedOpt)\n",
       "        .catch(err => showError(`Javascript Error: ${err.message}<br>This usually means there's a typo in your chart specification. See the javascript console for the full traceback.`));\n",
       "    }\n",
       "\n",
       "    if(typeof define === \"function\" && define.amd) {\n",
       "      requirejs.config({paths});\n",
       "      require([\"vega-embed\"], displayChart, err => showError(`Error loading script: ${err.message}`));\n",
       "    } else if (typeof vegaEmbed === \"function\") {\n",
       "      displayChart(vegaEmbed);\n",
       "    } else {\n",
       "      loadScript(\"vega\")\n",
       "        .then(() => loadScript(\"vega-lite\"))\n",
       "        .then(() => loadScript(\"vega-embed\"))\n",
       "        .catch(showError)\n",
       "        .then(() => displayChart(vegaEmbed));\n",
       "    }\n",
       "  })({\"config\": {\"view\": {\"continuousWidth\": 400, \"continuousHeight\": 300}}, \"data\": {\"name\": \"data-3ba1e1c27dcf69de5b50ef22000b9c88\"}, \"mark\": \"bar\", \"encoding\": {\"color\": {\"type\": \"nominal\", \"field\": \"Country Name\"}, \"column\": {\"type\": \"nominal\", \"field\": \"year\", \"header\": {\"title\": \"Year\"}}, \"tooltip\": {\"type\": \"nominal\", \"field\": \"year\"}, \"x\": {\"type\": \"nominal\", \"field\": \"Country Name\"}, \"y\": {\"type\": \"quantitative\", \"field\": \"value\"}}, \"$schema\": \"https://vega.github.io/schema/vega-lite/v4.8.1.json\", \"datasets\": {\"data-3ba1e1c27dcf69de5b50ef22000b9c88\": [{\"Country Name\": \"Afghanistan\", \"Series Name\": \"Average time to clear exports through customs (days)\", \"year\": \"2014\", \"value\": 8.1}, {\"Country Name\": \"India\", \"Series Name\": \"Average time to clear exports through customs (days)\", \"year\": \"2014\", \"value\": 5.8}, {\"Country Name\": \"Myanmar\", \"Series Name\": \"Average time to clear exports through customs (days)\", \"year\": \"2014\", \"value\": 4.4}, {\"Country Name\": \"Namibia\", \"Series Name\": \"Average time to clear exports through customs (days)\", \"year\": \"2014\", \"value\": 8.2}, {\"Country Name\": \"Nigeria\", \"Series Name\": \"Average time to clear exports through customs (days)\", \"year\": \"2014\", \"value\": 6.0}, {\"Country Name\": \"Senegal\", \"Series Name\": \"Average time to clear exports through customs (days)\", \"year\": \"2014\", \"value\": 7.1}, {\"Country Name\": \"Sweden\", \"Series Name\": \"Average time to clear exports through customs (days)\", \"year\": \"2014\", \"value\": 2.4}, {\"Country Name\": \"Ethiopia\", \"Series Name\": \"Average time to clear exports through customs (days)\", \"year\": \"2015\", \"value\": 7.7}, {\"Country Name\": \"Indonesia\", \"Series Name\": \"Average time to clear exports through customs (days)\", \"year\": \"2015\", \"value\": 8.3}, {\"Country Name\": \"Malaysia\", \"Series Name\": \"Average time to clear exports through customs (days)\", \"year\": \"2015\", \"value\": 6.3}, {\"Country Name\": \"Solomon Islands\", \"Series Name\": \"Average time to clear exports through customs (days)\", \"year\": \"2015\", \"value\": 6.3}, {\"Country Name\": \"Timor-Leste\", \"Series Name\": \"Average time to clear exports through customs (days)\", \"year\": \"2015\", \"value\": 6.3}, {\"Country Name\": \"Vietnam\", \"Series Name\": \"Average time to clear exports through customs (days)\", \"year\": \"2015\", \"value\": 6.9}, {\"Country Name\": \"Cambodia\", \"Series Name\": \"Average time to clear exports through customs (days)\", \"year\": \"2016\", \"value\": 4.9}, {\"Country Name\": \"Cameroon\", \"Series Name\": \"Average time to clear exports through customs (days)\", \"year\": \"2016\", \"value\": 6.7}, {\"Country Name\": \"Dominican Republic\", \"Series Name\": \"Average time to clear exports through customs (days)\", \"year\": \"2016\", \"value\": 9.4}, {\"Country Name\": \"Egypt, Arab Rep.\", \"Series Name\": \"Average time to clear exports through customs (days)\", \"year\": \"2016\", \"value\": 7.5}, {\"Country Name\": \"El Salvador\", \"Series Name\": \"Average time to clear exports through customs (days)\", \"year\": \"2016\", \"value\": 2.9}, {\"Country Name\": \"Eswatini\", \"Series Name\": \"Average time to clear exports through customs (days)\", \"year\": \"2016\", \"value\": 4.1}, {\"Country Name\": \"Honduras\", \"Series Name\": \"Average time to clear exports through customs (days)\", \"year\": \"2016\", \"value\": 3.8}, {\"Country Name\": \"Lao PDR\", \"Series Name\": \"Average time to clear exports through customs (days)\", \"year\": \"2016\", \"value\": 2.0}, {\"Country Name\": \"Lesotho\", \"Series Name\": \"Average time to clear exports through customs (days)\", \"year\": \"2016\", \"value\": 4.0}, {\"Country Name\": \"Nicaragua\", \"Series Name\": \"Average time to clear exports through customs (days)\", \"year\": \"2016\", \"value\": 5.2}, {\"Country Name\": \"Thailand\", \"Series Name\": \"Average time to clear exports through customs (days)\", \"year\": \"2016\", \"value\": 1.9}, {\"Country Name\": \"Togo\", \"Series Name\": \"Average time to clear exports through customs (days)\", \"year\": \"2016\", \"value\": 8.2}, {\"Country Name\": \"Zimbabwe\", \"Series Name\": \"Average time to clear exports through customs (days)\", \"year\": \"2016\", \"value\": 5.9}, {\"Country Name\": \"Argentina\", \"Series Name\": \"Average time to clear exports through customs (days)\", \"year\": \"2017\", \"value\": 6.5}, {\"Country Name\": \"Bolivia\", \"Series Name\": \"Average time to clear exports through customs (days)\", \"year\": \"2017\", \"value\": 9.7}, {\"Country Name\": \"Ecuador\", \"Series Name\": \"Average time to clear exports through customs (days)\", \"year\": \"2017\", \"value\": 9.2}, {\"Country Name\": \"Guatemala\", \"Series Name\": \"Average time to clear exports through customs (days)\", \"year\": \"2017\", \"value\": 4.5}, {\"Country Name\": \"Paraguay\", \"Series Name\": \"Average time to clear exports through customs (days)\", \"year\": \"2017\", \"value\": 8.6}, {\"Country Name\": \"Peru\", \"Series Name\": \"Average time to clear exports through customs (days)\", \"year\": \"2017\", \"value\": 8.4}, {\"Country Name\": \"Uruguay\", \"Series Name\": \"Average time to clear exports through customs (days)\", \"year\": \"2017\", \"value\": 2.1}, {\"Country Name\": \"Belarus\", \"Series Name\": \"Average time to clear exports through customs (days)\", \"year\": \"2018\", \"value\": 1.4}, {\"Country Name\": \"Gambia, The\", \"Series Name\": \"Average time to clear exports through customs (days)\", \"year\": \"2018\", \"value\": 4.8}, {\"Country Name\": \"Greece\", \"Series Name\": \"Average time to clear exports through customs (days)\", \"year\": \"2018\", \"value\": 2.4}, {\"Country Name\": \"Kenya\", \"Series Name\": \"Average time to clear exports through customs (days)\", \"year\": \"2018\", \"value\": 9.7}, {\"Country Name\": \"Lao PDR\", \"Series Name\": \"Average time to clear exports through customs (days)\", \"year\": \"2018\", \"value\": 7.2}]}}, {\"mode\": \"vega-lite\"});\n",
       "</script>"
      ],
      "text/plain": [
       "alt.Chart(...)"
      ]
     },
     "execution_count": 57,
     "metadata": {},
     "output_type": "execute_result"
    }
   ],
   "source": [
    "import altair as alt\n",
    "countries = df_melted['Country Name'].unique()\n",
    "years = ['2014', '2015', '2016', '2017', '2018']\n",
    "countries_years_series_filtered = df_melted[(df_melted['Country Name'].isin(countries)) & \n",
    "                                            (df_melted['year'].isin(years)) & \n",
    "                                            (df_melted['Series Name']==\"Average time to clear exports through customs (days)\") & \n",
    "                                            (df_melted['value']<10)]\n",
    "\n",
    "chart = alt.Chart(countries_years_series_filtered).mark_bar().encode(\n",
    "    x=alt.X('Country Name'),\n",
    "    y=alt.Y('value'),\n",
    "    color='Country Name',\n",
    "    column=alt.Column('year', header=alt.Header(title='Year')),\n",
    "    tooltip='year')\n",
    "\n",
    "\n",
    "\n",
    "chart"
   ]
  },
  {
   "cell_type": "code",
   "execution_count": 32,
   "metadata": {},
   "outputs": [
    {
     "data": {
      "text/plain": [
       "str"
      ]
     },
     "execution_count": 32,
     "metadata": {},
     "output_type": "execute_result"
    }
   ],
   "source": [
    "type(df_melted['year'][1])"
   ]
  },
  {
   "cell_type": "code",
   "execution_count": 34,
   "metadata": {},
   "outputs": [
    {
     "data": {
      "text/html": [
       "<div>\n",
       "<style scoped>\n",
       "    .dataframe tbody tr th:only-of-type {\n",
       "        vertical-align: middle;\n",
       "    }\n",
       "\n",
       "    .dataframe tbody tr th {\n",
       "        vertical-align: top;\n",
       "    }\n",
       "\n",
       "    .dataframe thead th {\n",
       "        text-align: right;\n",
       "    }\n",
       "</style>\n",
       "<table border=\"1\" class=\"dataframe\">\n",
       "  <thead>\n",
       "    <tr style=\"text-align: right;\">\n",
       "      <th></th>\n",
       "      <th>Country Name</th>\n",
       "      <th>Series Name</th>\n",
       "      <th>year</th>\n",
       "      <th>value</th>\n",
       "    </tr>\n",
       "  </thead>\n",
       "  <tbody>\n",
       "    <tr>\n",
       "      <th>16</th>\n",
       "      <td>Afghanistan</td>\n",
       "      <td>Average time to clear exports through customs ...</td>\n",
       "      <td>2014</td>\n",
       "      <td>8.1</td>\n",
       "    </tr>\n",
       "    <tr>\n",
       "      <th>1666</th>\n",
       "      <td>India</td>\n",
       "      <td>Average time to clear exports through customs ...</td>\n",
       "      <td>2014</td>\n",
       "      <td>5.8</td>\n",
       "    </tr>\n",
       "    <tr>\n",
       "      <th>2590</th>\n",
       "      <td>Myanmar</td>\n",
       "      <td>Average time to clear exports through customs ...</td>\n",
       "      <td>2014</td>\n",
       "      <td>4.4</td>\n",
       "    </tr>\n",
       "    <tr>\n",
       "      <th>2612</th>\n",
       "      <td>Namibia</td>\n",
       "      <td>Average time to clear exports through customs ...</td>\n",
       "      <td>2014</td>\n",
       "      <td>8.2</td>\n",
       "    </tr>\n",
       "    <tr>\n",
       "      <th>2744</th>\n",
       "      <td>Nigeria</td>\n",
       "      <td>Average time to clear exports through customs ...</td>\n",
       "      <td>2014</td>\n",
       "      <td>6.0</td>\n",
       "    </tr>\n",
       "  </tbody>\n",
       "</table>\n",
       "</div>"
      ],
      "text/plain": [
       "     Country Name                                        Series Name  year  \\\n",
       "16    Afghanistan  Average time to clear exports through customs ...  2014   \n",
       "1666        India  Average time to clear exports through customs ...  2014   \n",
       "2590      Myanmar  Average time to clear exports through customs ...  2014   \n",
       "2612      Namibia  Average time to clear exports through customs ...  2014   \n",
       "2744      Nigeria  Average time to clear exports through customs ...  2014   \n",
       "\n",
       "      value  \n",
       "16      8.1  \n",
       "1666    5.8  \n",
       "2590    4.4  \n",
       "2612    8.2  \n",
       "2744    6.0  "
      ]
     },
     "execution_count": 34,
     "metadata": {},
     "output_type": "execute_result"
    }
   ],
   "source": [
    "countries_years_series_filtered.head()"
   ]
  }
 ],
 "metadata": {
  "kernelspec": {
   "display_name": "base",
   "language": "python",
   "name": "python3"
  },
  "language_info": {
   "codemirror_mode": {
    "name": "ipython",
    "version": 3
   },
   "file_extension": ".py",
   "mimetype": "text/x-python",
   "name": "python",
   "nbconvert_exporter": "python",
   "pygments_lexer": "ipython3",
   "version": "3.9.13"
  },
  "orig_nbformat": 4,
  "vscode": {
   "interpreter": {
    "hash": "c2f9328c4057bdb5fbe50953ede31cc7e15ec368bd827de0c4f10bbd6d3b74b9"
   }
  }
 },
 "nbformat": 4,
 "nbformat_minor": 2
}

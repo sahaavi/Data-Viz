{
 "cells": [
  {
   "cell_type": "code",
   "execution_count": 34,
   "metadata": {},
   "outputs": [],
   "source": [
    "import pandas as pd\n",
    "df = pd.read_csv('datasets/cleandata.csv')"
   ]
  },
  {
   "cell_type": "code",
   "execution_count": 2,
   "metadata": {},
   "outputs": [
    {
     "data": {
      "text/plain": [
       "Index(['Unnamed: 0', 'Country Name', 'Country Code', 'Series Name', '2014',\n",
       "       '2015', '2016', '2017', '2018', '2019'],\n",
       "      dtype='object')"
      ]
     },
     "execution_count": 2,
     "metadata": {},
     "output_type": "execute_result"
    }
   ],
   "source": [
    "df.columns"
   ]
  },
  {
   "cell_type": "code",
   "execution_count": 3,
   "metadata": {},
   "outputs": [
    {
     "data": {
      "text/plain": [
       "array(['Cost of business start-up procedures (% of GNI per capita)',\n",
       "       'Cost of business start-up procedures, female (% of GNI per capita)',\n",
       "       'Cost of business start-up procedures, male (% of GNI per capita)',\n",
       "       'Time required to start a business (days)',\n",
       "       'Time required to start a business, female (days)',\n",
       "       'Time required to start a business, male (days)',\n",
       "       'Unemployment with advanced education (% of total labor force with advanced education)',\n",
       "       'Unemployment with advanced education, female (% of female labor force with advanced education)',\n",
       "       'Unemployment with advanced education, male (% of male labor force with advanced education)',\n",
       "       'Unemployment with basic education (% of total labor force with basic education)',\n",
       "       'Unemployment with basic education, female (% of female labor force with basic education)',\n",
       "       'Unemployment with basic education, male (% of male labor force with basic education)',\n",
       "       'Unemployment with intermediate education (% of total labor force with intermediate education)',\n",
       "       'Unemployment with intermediate education, female (% of female labor force with intermediate education)',\n",
       "       'Unemployment with intermediate education, male (% of male labor force with intermediate education)',\n",
       "       'Interest rate spread (lending rate minus deposit rate, %)',\n",
       "       'Average time to clear exports through customs (days)',\n",
       "       'Logistics performance index: Overall (1=low to 5=high)',\n",
       "       'Time to export, border compliance (hours)',\n",
       "       'Time to export, documentary compliance (hours)',\n",
       "       'Time to import, border compliance (hours)',\n",
       "       'Time to import, documentary compliance (hours)'], dtype=object)"
      ]
     },
     "execution_count": 3,
     "metadata": {},
     "output_type": "execute_result"
    }
   ],
   "source": [
    "df['Series Name'].unique()"
   ]
  },
  {
   "cell_type": "code",
   "execution_count": 4,
   "metadata": {},
   "outputs": [
    {
     "data": {
      "text/plain": [
       "20               96\n",
       "42               10\n",
       "64         209.5714\n",
       "86               72\n",
       "108        61.33333\n",
       "           ...     \n",
       "5146    126.1642571\n",
       "5168    126.7982627\n",
       "5190    126.1642571\n",
       "5212    45.13404612\n",
       "5234    66.94549528\n",
       "Name: 2019, Length: 238, dtype: object"
      ]
     },
     "execution_count": 4,
     "metadata": {},
     "output_type": "execute_result"
    }
   ],
   "source": [
    "df[df['Series Name']==\"Time to import, border compliance (hours)\"][\"2019\"]"
   ]
  },
  {
   "cell_type": "code",
   "execution_count": 26,
   "metadata": {},
   "outputs": [
    {
     "data": {
      "text/plain": [
       "array(['..', '12.7', '7.7', '8.3', '6.3', '14.5', '6.9'], dtype=object)"
      ]
     },
     "execution_count": 26,
     "metadata": {},
     "output_type": "execute_result"
    }
   ],
   "source": [
    "df[df['Series Name']==\"Average time to clear exports through customs (days)\"][\"2015\"].unique()"
   ]
  },
  {
   "cell_type": "code",
   "execution_count": 35,
   "metadata": {},
   "outputs": [
    {
     "data": {
      "text/html": [
       "<div>\n",
       "<style scoped>\n",
       "    .dataframe tbody tr th:only-of-type {\n",
       "        vertical-align: middle;\n",
       "    }\n",
       "\n",
       "    .dataframe tbody tr th {\n",
       "        vertical-align: top;\n",
       "    }\n",
       "\n",
       "    .dataframe thead th {\n",
       "        text-align: right;\n",
       "    }\n",
       "</style>\n",
       "<table border=\"1\" class=\"dataframe\">\n",
       "  <thead>\n",
       "    <tr style=\"text-align: right;\">\n",
       "      <th></th>\n",
       "      <th>Country Name</th>\n",
       "      <th>Series Name</th>\n",
       "      <th>year</th>\n",
       "      <th>value</th>\n",
       "    </tr>\n",
       "  </thead>\n",
       "  <tbody>\n",
       "    <tr>\n",
       "      <th>0</th>\n",
       "      <td>Afghanistan</td>\n",
       "      <td>Cost of business start-up procedures (% of GNI...</td>\n",
       "      <td>2014</td>\n",
       "      <td>15.1</td>\n",
       "    </tr>\n",
       "    <tr>\n",
       "      <th>1</th>\n",
       "      <td>Afghanistan</td>\n",
       "      <td>Cost of business start-up procedures, female (...</td>\n",
       "      <td>2014</td>\n",
       "      <td>15.1</td>\n",
       "    </tr>\n",
       "    <tr>\n",
       "      <th>2</th>\n",
       "      <td>Afghanistan</td>\n",
       "      <td>Cost of business start-up procedures, male (% ...</td>\n",
       "      <td>2014</td>\n",
       "      <td>15.1</td>\n",
       "    </tr>\n",
       "    <tr>\n",
       "      <th>3</th>\n",
       "      <td>Afghanistan</td>\n",
       "      <td>Time required to start a business (days)</td>\n",
       "      <td>2014</td>\n",
       "      <td>8.5</td>\n",
       "    </tr>\n",
       "    <tr>\n",
       "      <th>4</th>\n",
       "      <td>Afghanistan</td>\n",
       "      <td>Time required to start a business, female (days)</td>\n",
       "      <td>2014</td>\n",
       "      <td>9</td>\n",
       "    </tr>\n",
       "  </tbody>\n",
       "</table>\n",
       "</div>"
      ],
      "text/plain": [
       "  Country Name                                        Series Name  year value\n",
       "0  Afghanistan  Cost of business start-up procedures (% of GNI...  2014  15.1\n",
       "1  Afghanistan  Cost of business start-up procedures, female (...  2014  15.1\n",
       "2  Afghanistan  Cost of business start-up procedures, male (% ...  2014  15.1\n",
       "3  Afghanistan           Time required to start a business (days)  2014   8.5\n",
       "4  Afghanistan   Time required to start a business, female (days)  2014     9"
      ]
     },
     "execution_count": 35,
     "metadata": {},
     "output_type": "execute_result"
    }
   ],
   "source": [
    "# columns to keep (Country Name, Series Name, and the year columns)\n",
    "cols_to_keep = ['Country Name', 'Series Name', '2014', '2015', '2016', '2017', '2018', '2019']\n",
    "\n",
    "# reshaping the df using melt()\n",
    "df_melted = pd.melt(df[cols_to_keep], id_vars=['Country Name', 'Series Name'], var_name='year', value_name='value')\n",
    "\n",
    "df_melted.head()\n"
   ]
  },
  {
   "cell_type": "code",
   "execution_count": 37,
   "metadata": {},
   "outputs": [],
   "source": [
    "df_melted['value'] = pd.to_numeric(df_melted['value'], errors='coerce')"
   ]
  },
  {
   "cell_type": "code",
   "execution_count": 38,
   "metadata": {},
   "outputs": [
    {
     "data": {
      "text/plain": [
       "numpy.float64"
      ]
     },
     "execution_count": 38,
     "metadata": {},
     "output_type": "execute_result"
    }
   ],
   "source": [
    "type(df_melted['value'][1])"
   ]
  },
  {
   "cell_type": "code",
   "execution_count": 45,
   "metadata": {},
   "outputs": [
    {
     "data": {
      "text/plain": [
       "str"
      ]
     },
     "execution_count": 45,
     "metadata": {},
     "output_type": "execute_result"
    }
   ],
   "source": [
    "type(df_melted['year'][1])"
   ]
  },
  {
   "cell_type": "code",
   "execution_count": 50,
   "metadata": {},
   "outputs": [],
   "source": [
    "df_melted.to_csv('datasets/melted.csv', index=False)"
   ]
  },
  {
   "cell_type": "code",
   "execution_count": 57,
   "metadata": {},
   "outputs": [
    {
     "data": {
      "text/html": [
       "\n",
       "<div id=\"altair-viz-2f9ea65ae26741ef93ba603442164451\"></div>\n",
       "<script type=\"text/javascript\">\n",
       "  (function(spec, embedOpt){\n",
       "    let outputDiv = document.currentScript.previousElementSibling;\n",
       "    if (outputDiv.id !== \"altair-viz-2f9ea65ae26741ef93ba603442164451\") {\n",
       "      outputDiv = document.getElementById(\"altair-viz-2f9ea65ae26741ef93ba603442164451\");\n",
       "    }\n",
       "    const paths = {\n",
       "      \"vega\": \"https://cdn.jsdelivr.net/npm//vega@5?noext\",\n",
       "      \"vega-lib\": \"https://cdn.jsdelivr.net/npm//vega-lib?noext\",\n",
       "      \"vega-lite\": \"https://cdn.jsdelivr.net/npm//vega-lite@4.8.1?noext\",\n",
       "      \"vega-embed\": \"https://cdn.jsdelivr.net/npm//vega-embed@6?noext\",\n",
       "    };\n",
       "\n",
       "    function loadScript(lib) {\n",
       "      return new Promise(function(resolve, reject) {\n",
       "        var s = document.createElement('script');\n",
       "        s.src = paths[lib];\n",
       "        s.async = true;\n",
       "        s.onload = () => resolve(paths[lib]);\n",
       "        s.onerror = () => reject(`Error loading script: ${paths[lib]}`);\n",
       "        document.getElementsByTagName(\"head\")[0].appendChild(s);\n",
       "      });\n",
       "    }\n",
       "\n",
       "    function showError(err) {\n",
       "      outputDiv.innerHTML = `<div class=\"error\" style=\"color:red;\">${err}</div>`;\n",
       "      throw err;\n",
       "    }\n",
       "\n",
       "    function displayChart(vegaEmbed) {\n",
       "      vegaEmbed(outputDiv, spec, embedOpt)\n",
       "        .catch(err => showError(`Javascript Error: ${err.message}<br>This usually means there's a typo in your chart specification. See the javascript console for the full traceback.`));\n",
       "    }\n",
       "\n",
       "    if(typeof define === \"function\" && define.amd) {\n",
       "      requirejs.config({paths});\n",
       "      require([\"vega-embed\"], displayChart, err => showError(`Error loading script: ${err.message}`));\n",
       "    } else if (typeof vegaEmbed === \"function\") {\n",
       "      displayChart(vegaEmbed);\n",
       "    } else {\n",
       "      loadScript(\"vega\")\n",
       "        .then(() => loadScript(\"vega-lite\"))\n",
       "        .then(() => loadScript(\"vega-embed\"))\n",
       "        .catch(showError)\n",
       "        .then(() => displayChart(vegaEmbed));\n",
       "    }\n",
       "  })({\"config\": {\"view\": {\"continuousWidth\": 400, \"continuousHeight\": 300}}, \"data\": {\"name\": \"data-3ba1e1c27dcf69de5b50ef22000b9c88\"}, \"mark\": \"bar\", \"encoding\": {\"color\": {\"type\": \"nominal\", \"field\": \"Country Name\"}, \"column\": {\"type\": \"nominal\", \"field\": \"year\", \"header\": {\"title\": \"Year\"}}, \"tooltip\": {\"type\": \"nominal\", \"field\": \"year\"}, \"x\": {\"type\": \"nominal\", \"field\": \"Country Name\"}, \"y\": {\"type\": \"quantitative\", \"field\": \"value\"}}, \"$schema\": \"https://vega.github.io/schema/vega-lite/v4.8.1.json\", \"datasets\": {\"data-3ba1e1c27dcf69de5b50ef22000b9c88\": [{\"Country Name\": \"Afghanistan\", \"Series Name\": \"Average time to clear exports through customs (days)\", \"year\": \"2014\", \"value\": 8.1}, {\"Country Name\": \"India\", \"Series Name\": \"Average time to clear exports through customs (days)\", \"year\": \"2014\", \"value\": 5.8}, {\"Country Name\": \"Myanmar\", \"Series Name\": \"Average time to clear exports through customs (days)\", \"year\": \"2014\", \"value\": 4.4}, {\"Country Name\": \"Namibia\", \"Series Name\": \"Average time to clear exports through customs (days)\", \"year\": \"2014\", \"value\": 8.2}, {\"Country Name\": \"Nigeria\", \"Series Name\": \"Average time to clear exports through customs (days)\", \"year\": \"2014\", \"value\": 6.0}, {\"Country Name\": \"Senegal\", \"Series Name\": \"Average time to clear exports through customs (days)\", \"year\": \"2014\", \"value\": 7.1}, {\"Country Name\": \"Sweden\", \"Series Name\": \"Average time to clear exports through customs (days)\", \"year\": \"2014\", \"value\": 2.4}, {\"Country Name\": \"Ethiopia\", \"Series Name\": \"Average time to clear exports through customs (days)\", \"year\": \"2015\", \"value\": 7.7}, {\"Country Name\": \"Indonesia\", \"Series Name\": \"Average time to clear exports through customs (days)\", \"year\": \"2015\", \"value\": 8.3}, {\"Country Name\": \"Malaysia\", \"Series Name\": \"Average time to clear exports through customs (days)\", \"year\": \"2015\", \"value\": 6.3}, {\"Country Name\": \"Solomon Islands\", \"Series Name\": \"Average time to clear exports through customs (days)\", \"year\": \"2015\", \"value\": 6.3}, {\"Country Name\": \"Timor-Leste\", \"Series Name\": \"Average time to clear exports through customs (days)\", \"year\": \"2015\", \"value\": 6.3}, {\"Country Name\": \"Vietnam\", \"Series Name\": \"Average time to clear exports through customs (days)\", \"year\": \"2015\", \"value\": 6.9}, {\"Country Name\": \"Cambodia\", \"Series Name\": \"Average time to clear exports through customs (days)\", \"year\": \"2016\", \"value\": 4.9}, {\"Country Name\": \"Cameroon\", \"Series Name\": \"Average time to clear exports through customs (days)\", \"year\": \"2016\", \"value\": 6.7}, {\"Country Name\": \"Dominican Republic\", \"Series Name\": \"Average time to clear exports through customs (days)\", \"year\": \"2016\", \"value\": 9.4}, {\"Country Name\": \"Egypt, Arab Rep.\", \"Series Name\": \"Average time to clear exports through customs (days)\", \"year\": \"2016\", \"value\": 7.5}, {\"Country Name\": \"El Salvador\", \"Series Name\": \"Average time to clear exports through customs (days)\", \"year\": \"2016\", \"value\": 2.9}, {\"Country Name\": \"Eswatini\", \"Series Name\": \"Average time to clear exports through customs (days)\", \"year\": \"2016\", \"value\": 4.1}, {\"Country Name\": \"Honduras\", \"Series Name\": \"Average time to clear exports through customs (days)\", \"year\": \"2016\", \"value\": 3.8}, {\"Country Name\": \"Lao PDR\", \"Series Name\": \"Average time to clear exports through customs (days)\", \"year\": \"2016\", \"value\": 2.0}, {\"Country Name\": \"Lesotho\", \"Series Name\": \"Average time to clear exports through customs (days)\", \"year\": \"2016\", \"value\": 4.0}, {\"Country Name\": \"Nicaragua\", \"Series Name\": \"Average time to clear exports through customs (days)\", \"year\": \"2016\", \"value\": 5.2}, {\"Country Name\": \"Thailand\", \"Series Name\": \"Average time to clear exports through customs (days)\", \"year\": \"2016\", \"value\": 1.9}, {\"Country Name\": \"Togo\", \"Series Name\": \"Average time to clear exports through customs (days)\", \"year\": \"2016\", \"value\": 8.2}, {\"Country Name\": \"Zimbabwe\", \"Series Name\": \"Average time to clear exports through customs (days)\", \"year\": \"2016\", \"value\": 5.9}, {\"Country Name\": \"Argentina\", \"Series Name\": \"Average time to clear exports through customs (days)\", \"year\": \"2017\", \"value\": 6.5}, {\"Country Name\": \"Bolivia\", \"Series Name\": \"Average time to clear exports through customs (days)\", \"year\": \"2017\", \"value\": 9.7}, {\"Country Name\": \"Ecuador\", \"Series Name\": \"Average time to clear exports through customs (days)\", \"year\": \"2017\", \"value\": 9.2}, {\"Country Name\": \"Guatemala\", \"Series Name\": \"Average time to clear exports through customs (days)\", \"year\": \"2017\", \"value\": 4.5}, {\"Country Name\": \"Paraguay\", \"Series Name\": \"Average time to clear exports through customs (days)\", \"year\": \"2017\", \"value\": 8.6}, {\"Country Name\": \"Peru\", \"Series Name\": \"Average time to clear exports through customs (days)\", \"year\": \"2017\", \"value\": 8.4}, {\"Country Name\": \"Uruguay\", \"Series Name\": \"Average time to clear exports through customs (days)\", \"year\": \"2017\", \"value\": 2.1}, {\"Country Name\": \"Belarus\", \"Series Name\": \"Average time to clear exports through customs (days)\", \"year\": \"2018\", \"value\": 1.4}, {\"Country Name\": \"Gambia, The\", \"Series Name\": \"Average time to clear exports through customs (days)\", \"year\": \"2018\", \"value\": 4.8}, {\"Country Name\": \"Greece\", \"Series Name\": \"Average time to clear exports through customs (days)\", \"year\": \"2018\", \"value\": 2.4}, {\"Country Name\": \"Kenya\", \"Series Name\": \"Average time to clear exports through customs (days)\", \"year\": \"2018\", \"value\": 9.7}, {\"Country Name\": \"Lao PDR\", \"Series Name\": \"Average time to clear exports through customs (days)\", \"year\": \"2018\", \"value\": 7.2}]}}, {\"mode\": \"vega-lite\"});\n",
       "</script>"
      ],
      "text/plain": [
       "alt.Chart(...)"
      ]
     },
     "execution_count": 57,
     "metadata": {},
     "output_type": "execute_result"
    }
   ],
   "source": [
    "import altair as alt\n",
    "countries = df_melted['Country Name'].unique()\n",
    "years = ['2014', '2015', '2016', '2017', '2018']\n",
    "countries_years_series_filtered = df_melted[(df_melted['Country Name'].isin(countries)) & \n",
    "                                            (df_melted['year'].isin(years)) & \n",
    "                                            (df_melted['Series Name']==\"Average time to clear exports through customs (days)\") & \n",
    "                                            (df_melted['value']<10)]\n",
    "\n",
    "chart = alt.Chart(countries_years_series_filtered).mark_bar().encode(\n",
    "    x=alt.X('Country Name'),\n",
    "    y=alt.Y('value'),\n",
    "    color='Country Name',\n",
    "    column=alt.Column('year', header=alt.Header(title='Year')),\n",
    "    tooltip='year')\n",
    "\n",
    "\n",
    "\n",
    "chart"
   ]
  },
  {
   "cell_type": "code",
   "execution_count": 32,
   "metadata": {},
   "outputs": [
    {
     "data": {
      "text/plain": [
       "str"
      ]
     },
     "execution_count": 32,
     "metadata": {},
     "output_type": "execute_result"
    }
   ],
   "source": [
    "type(df_melted['year'][1])"
   ]
  },
  {
   "cell_type": "code",
   "execution_count": 34,
   "metadata": {},
   "outputs": [
    {
     "data": {
      "text/html": [
       "<div>\n",
       "<style scoped>\n",
       "    .dataframe tbody tr th:only-of-type {\n",
       "        vertical-align: middle;\n",
       "    }\n",
       "\n",
       "    .dataframe tbody tr th {\n",
       "        vertical-align: top;\n",
       "    }\n",
       "\n",
       "    .dataframe thead th {\n",
       "        text-align: right;\n",
       "    }\n",
       "</style>\n",
       "<table border=\"1\" class=\"dataframe\">\n",
       "  <thead>\n",
       "    <tr style=\"text-align: right;\">\n",
       "      <th></th>\n",
       "      <th>Country Name</th>\n",
       "      <th>Series Name</th>\n",
       "      <th>year</th>\n",
       "      <th>value</th>\n",
       "    </tr>\n",
       "  </thead>\n",
       "  <tbody>\n",
       "    <tr>\n",
       "      <th>16</th>\n",
       "      <td>Afghanistan</td>\n",
       "      <td>Average time to clear exports through customs ...</td>\n",
       "      <td>2014</td>\n",
       "      <td>8.1</td>\n",
       "    </tr>\n",
       "    <tr>\n",
       "      <th>1666</th>\n",
       "      <td>India</td>\n",
       "      <td>Average time to clear exports through customs ...</td>\n",
       "      <td>2014</td>\n",
       "      <td>5.8</td>\n",
       "    </tr>\n",
       "    <tr>\n",
       "      <th>2590</th>\n",
       "      <td>Myanmar</td>\n",
       "      <td>Average time to clear exports through customs ...</td>\n",
       "      <td>2014</td>\n",
       "      <td>4.4</td>\n",
       "    </tr>\n",
       "    <tr>\n",
       "      <th>2612</th>\n",
       "      <td>Namibia</td>\n",
       "      <td>Average time to clear exports through customs ...</td>\n",
       "      <td>2014</td>\n",
       "      <td>8.2</td>\n",
       "    </tr>\n",
       "    <tr>\n",
       "      <th>2744</th>\n",
       "      <td>Nigeria</td>\n",
       "      <td>Average time to clear exports through customs ...</td>\n",
       "      <td>2014</td>\n",
       "      <td>6.0</td>\n",
       "    </tr>\n",
       "  </tbody>\n",
       "</table>\n",
       "</div>"
      ],
      "text/plain": [
       "     Country Name                                        Series Name  year  \\\n",
       "16    Afghanistan  Average time to clear exports through customs ...  2014   \n",
       "1666        India  Average time to clear exports through customs ...  2014   \n",
       "2590      Myanmar  Average time to clear exports through customs ...  2014   \n",
       "2612      Namibia  Average time to clear exports through customs ...  2014   \n",
       "2744      Nigeria  Average time to clear exports through customs ...  2014   \n",
       "\n",
       "      value  \n",
       "16      8.1  \n",
       "1666    5.8  \n",
       "2590    4.4  \n",
       "2612    8.2  \n",
       "2744    6.0  "
      ]
     },
     "execution_count": 34,
     "metadata": {},
     "output_type": "execute_result"
    }
   ],
   "source": [
    "countries_years_series_filtered.head()"
   ]
  },
  {
   "cell_type": "code",
   "execution_count": 1,
   "metadata": {},
   "outputs": [
    {
     "data": {
      "application/vnd.plotly.v1+json": {
       "config": {
        "plotlyServerURL": "https://plot.ly"
       },
       "data": [
        {
         "fill": "toself",
         "name": "Product A",
         "r": [
          1,
          5,
          2,
          2,
          3
         ],
         "theta": [
          "processing cost",
          "mechanical properties",
          "chemical stability",
          "thermal stability",
          "device integration"
         ],
         "type": "scatterpolar"
        },
        {
         "fill": "toself",
         "name": "Product B",
         "r": [
          4,
          3,
          2.5,
          1,
          2
         ],
         "theta": [
          "processing cost",
          "mechanical properties",
          "chemical stability",
          "thermal stability",
          "device integration"
         ],
         "type": "scatterpolar"
        }
       ],
       "layout": {
        "polar": {
         "radialaxis": {
          "range": [
           0,
           5
          ],
          "visible": true
         }
        },
        "showlegend": false,
        "template": {
         "data": {
          "bar": [
           {
            "error_x": {
             "color": "#2a3f5f"
            },
            "error_y": {
             "color": "#2a3f5f"
            },
            "marker": {
             "line": {
              "color": "#E5ECF6",
              "width": 0.5
             },
             "pattern": {
              "fillmode": "overlay",
              "size": 10,
              "solidity": 0.2
             }
            },
            "type": "bar"
           }
          ],
          "barpolar": [
           {
            "marker": {
             "line": {
              "color": "#E5ECF6",
              "width": 0.5
             },
             "pattern": {
              "fillmode": "overlay",
              "size": 10,
              "solidity": 0.2
             }
            },
            "type": "barpolar"
           }
          ],
          "carpet": [
           {
            "aaxis": {
             "endlinecolor": "#2a3f5f",
             "gridcolor": "white",
             "linecolor": "white",
             "minorgridcolor": "white",
             "startlinecolor": "#2a3f5f"
            },
            "baxis": {
             "endlinecolor": "#2a3f5f",
             "gridcolor": "white",
             "linecolor": "white",
             "minorgridcolor": "white",
             "startlinecolor": "#2a3f5f"
            },
            "type": "carpet"
           }
          ],
          "choropleth": [
           {
            "colorbar": {
             "outlinewidth": 0,
             "ticks": ""
            },
            "type": "choropleth"
           }
          ],
          "contour": [
           {
            "colorbar": {
             "outlinewidth": 0,
             "ticks": ""
            },
            "colorscale": [
             [
              0,
              "#0d0887"
             ],
             [
              0.1111111111111111,
              "#46039f"
             ],
             [
              0.2222222222222222,
              "#7201a8"
             ],
             [
              0.3333333333333333,
              "#9c179e"
             ],
             [
              0.4444444444444444,
              "#bd3786"
             ],
             [
              0.5555555555555556,
              "#d8576b"
             ],
             [
              0.6666666666666666,
              "#ed7953"
             ],
             [
              0.7777777777777778,
              "#fb9f3a"
             ],
             [
              0.8888888888888888,
              "#fdca26"
             ],
             [
              1,
              "#f0f921"
             ]
            ],
            "type": "contour"
           }
          ],
          "contourcarpet": [
           {
            "colorbar": {
             "outlinewidth": 0,
             "ticks": ""
            },
            "type": "contourcarpet"
           }
          ],
          "heatmap": [
           {
            "colorbar": {
             "outlinewidth": 0,
             "ticks": ""
            },
            "colorscale": [
             [
              0,
              "#0d0887"
             ],
             [
              0.1111111111111111,
              "#46039f"
             ],
             [
              0.2222222222222222,
              "#7201a8"
             ],
             [
              0.3333333333333333,
              "#9c179e"
             ],
             [
              0.4444444444444444,
              "#bd3786"
             ],
             [
              0.5555555555555556,
              "#d8576b"
             ],
             [
              0.6666666666666666,
              "#ed7953"
             ],
             [
              0.7777777777777778,
              "#fb9f3a"
             ],
             [
              0.8888888888888888,
              "#fdca26"
             ],
             [
              1,
              "#f0f921"
             ]
            ],
            "type": "heatmap"
           }
          ],
          "heatmapgl": [
           {
            "colorbar": {
             "outlinewidth": 0,
             "ticks": ""
            },
            "colorscale": [
             [
              0,
              "#0d0887"
             ],
             [
              0.1111111111111111,
              "#46039f"
             ],
             [
              0.2222222222222222,
              "#7201a8"
             ],
             [
              0.3333333333333333,
              "#9c179e"
             ],
             [
              0.4444444444444444,
              "#bd3786"
             ],
             [
              0.5555555555555556,
              "#d8576b"
             ],
             [
              0.6666666666666666,
              "#ed7953"
             ],
             [
              0.7777777777777778,
              "#fb9f3a"
             ],
             [
              0.8888888888888888,
              "#fdca26"
             ],
             [
              1,
              "#f0f921"
             ]
            ],
            "type": "heatmapgl"
           }
          ],
          "histogram": [
           {
            "marker": {
             "pattern": {
              "fillmode": "overlay",
              "size": 10,
              "solidity": 0.2
             }
            },
            "type": "histogram"
           }
          ],
          "histogram2d": [
           {
            "colorbar": {
             "outlinewidth": 0,
             "ticks": ""
            },
            "colorscale": [
             [
              0,
              "#0d0887"
             ],
             [
              0.1111111111111111,
              "#46039f"
             ],
             [
              0.2222222222222222,
              "#7201a8"
             ],
             [
              0.3333333333333333,
              "#9c179e"
             ],
             [
              0.4444444444444444,
              "#bd3786"
             ],
             [
              0.5555555555555556,
              "#d8576b"
             ],
             [
              0.6666666666666666,
              "#ed7953"
             ],
             [
              0.7777777777777778,
              "#fb9f3a"
             ],
             [
              0.8888888888888888,
              "#fdca26"
             ],
             [
              1,
              "#f0f921"
             ]
            ],
            "type": "histogram2d"
           }
          ],
          "histogram2dcontour": [
           {
            "colorbar": {
             "outlinewidth": 0,
             "ticks": ""
            },
            "colorscale": [
             [
              0,
              "#0d0887"
             ],
             [
              0.1111111111111111,
              "#46039f"
             ],
             [
              0.2222222222222222,
              "#7201a8"
             ],
             [
              0.3333333333333333,
              "#9c179e"
             ],
             [
              0.4444444444444444,
              "#bd3786"
             ],
             [
              0.5555555555555556,
              "#d8576b"
             ],
             [
              0.6666666666666666,
              "#ed7953"
             ],
             [
              0.7777777777777778,
              "#fb9f3a"
             ],
             [
              0.8888888888888888,
              "#fdca26"
             ],
             [
              1,
              "#f0f921"
             ]
            ],
            "type": "histogram2dcontour"
           }
          ],
          "mesh3d": [
           {
            "colorbar": {
             "outlinewidth": 0,
             "ticks": ""
            },
            "type": "mesh3d"
           }
          ],
          "parcoords": [
           {
            "line": {
             "colorbar": {
              "outlinewidth": 0,
              "ticks": ""
             }
            },
            "type": "parcoords"
           }
          ],
          "pie": [
           {
            "automargin": true,
            "type": "pie"
           }
          ],
          "scatter": [
           {
            "fillpattern": {
             "fillmode": "overlay",
             "size": 10,
             "solidity": 0.2
            },
            "type": "scatter"
           }
          ],
          "scatter3d": [
           {
            "line": {
             "colorbar": {
              "outlinewidth": 0,
              "ticks": ""
             }
            },
            "marker": {
             "colorbar": {
              "outlinewidth": 0,
              "ticks": ""
             }
            },
            "type": "scatter3d"
           }
          ],
          "scattercarpet": [
           {
            "marker": {
             "colorbar": {
              "outlinewidth": 0,
              "ticks": ""
             }
            },
            "type": "scattercarpet"
           }
          ],
          "scattergeo": [
           {
            "marker": {
             "colorbar": {
              "outlinewidth": 0,
              "ticks": ""
             }
            },
            "type": "scattergeo"
           }
          ],
          "scattergl": [
           {
            "marker": {
             "colorbar": {
              "outlinewidth": 0,
              "ticks": ""
             }
            },
            "type": "scattergl"
           }
          ],
          "scattermapbox": [
           {
            "marker": {
             "colorbar": {
              "outlinewidth": 0,
              "ticks": ""
             }
            },
            "type": "scattermapbox"
           }
          ],
          "scatterpolar": [
           {
            "marker": {
             "colorbar": {
              "outlinewidth": 0,
              "ticks": ""
             }
            },
            "type": "scatterpolar"
           }
          ],
          "scatterpolargl": [
           {
            "marker": {
             "colorbar": {
              "outlinewidth": 0,
              "ticks": ""
             }
            },
            "type": "scatterpolargl"
           }
          ],
          "scatterternary": [
           {
            "marker": {
             "colorbar": {
              "outlinewidth": 0,
              "ticks": ""
             }
            },
            "type": "scatterternary"
           }
          ],
          "surface": [
           {
            "colorbar": {
             "outlinewidth": 0,
             "ticks": ""
            },
            "colorscale": [
             [
              0,
              "#0d0887"
             ],
             [
              0.1111111111111111,
              "#46039f"
             ],
             [
              0.2222222222222222,
              "#7201a8"
             ],
             [
              0.3333333333333333,
              "#9c179e"
             ],
             [
              0.4444444444444444,
              "#bd3786"
             ],
             [
              0.5555555555555556,
              "#d8576b"
             ],
             [
              0.6666666666666666,
              "#ed7953"
             ],
             [
              0.7777777777777778,
              "#fb9f3a"
             ],
             [
              0.8888888888888888,
              "#fdca26"
             ],
             [
              1,
              "#f0f921"
             ]
            ],
            "type": "surface"
           }
          ],
          "table": [
           {
            "cells": {
             "fill": {
              "color": "#EBF0F8"
             },
             "line": {
              "color": "white"
             }
            },
            "header": {
             "fill": {
              "color": "#C8D4E3"
             },
             "line": {
              "color": "white"
             }
            },
            "type": "table"
           }
          ]
         },
         "layout": {
          "annotationdefaults": {
           "arrowcolor": "#2a3f5f",
           "arrowhead": 0,
           "arrowwidth": 1
          },
          "autotypenumbers": "strict",
          "coloraxis": {
           "colorbar": {
            "outlinewidth": 0,
            "ticks": ""
           }
          },
          "colorscale": {
           "diverging": [
            [
             0,
             "#8e0152"
            ],
            [
             0.1,
             "#c51b7d"
            ],
            [
             0.2,
             "#de77ae"
            ],
            [
             0.3,
             "#f1b6da"
            ],
            [
             0.4,
             "#fde0ef"
            ],
            [
             0.5,
             "#f7f7f7"
            ],
            [
             0.6,
             "#e6f5d0"
            ],
            [
             0.7,
             "#b8e186"
            ],
            [
             0.8,
             "#7fbc41"
            ],
            [
             0.9,
             "#4d9221"
            ],
            [
             1,
             "#276419"
            ]
           ],
           "sequential": [
            [
             0,
             "#0d0887"
            ],
            [
             0.1111111111111111,
             "#46039f"
            ],
            [
             0.2222222222222222,
             "#7201a8"
            ],
            [
             0.3333333333333333,
             "#9c179e"
            ],
            [
             0.4444444444444444,
             "#bd3786"
            ],
            [
             0.5555555555555556,
             "#d8576b"
            ],
            [
             0.6666666666666666,
             "#ed7953"
            ],
            [
             0.7777777777777778,
             "#fb9f3a"
            ],
            [
             0.8888888888888888,
             "#fdca26"
            ],
            [
             1,
             "#f0f921"
            ]
           ],
           "sequentialminus": [
            [
             0,
             "#0d0887"
            ],
            [
             0.1111111111111111,
             "#46039f"
            ],
            [
             0.2222222222222222,
             "#7201a8"
            ],
            [
             0.3333333333333333,
             "#9c179e"
            ],
            [
             0.4444444444444444,
             "#bd3786"
            ],
            [
             0.5555555555555556,
             "#d8576b"
            ],
            [
             0.6666666666666666,
             "#ed7953"
            ],
            [
             0.7777777777777778,
             "#fb9f3a"
            ],
            [
             0.8888888888888888,
             "#fdca26"
            ],
            [
             1,
             "#f0f921"
            ]
           ]
          },
          "colorway": [
           "#636efa",
           "#EF553B",
           "#00cc96",
           "#ab63fa",
           "#FFA15A",
           "#19d3f3",
           "#FF6692",
           "#B6E880",
           "#FF97FF",
           "#FECB52"
          ],
          "font": {
           "color": "#2a3f5f"
          },
          "geo": {
           "bgcolor": "white",
           "lakecolor": "white",
           "landcolor": "#E5ECF6",
           "showlakes": true,
           "showland": true,
           "subunitcolor": "white"
          },
          "hoverlabel": {
           "align": "left"
          },
          "hovermode": "closest",
          "mapbox": {
           "style": "light"
          },
          "paper_bgcolor": "white",
          "plot_bgcolor": "#E5ECF6",
          "polar": {
           "angularaxis": {
            "gridcolor": "white",
            "linecolor": "white",
            "ticks": ""
           },
           "bgcolor": "#E5ECF6",
           "radialaxis": {
            "gridcolor": "white",
            "linecolor": "white",
            "ticks": ""
           }
          },
          "scene": {
           "xaxis": {
            "backgroundcolor": "#E5ECF6",
            "gridcolor": "white",
            "gridwidth": 2,
            "linecolor": "white",
            "showbackground": true,
            "ticks": "",
            "zerolinecolor": "white"
           },
           "yaxis": {
            "backgroundcolor": "#E5ECF6",
            "gridcolor": "white",
            "gridwidth": 2,
            "linecolor": "white",
            "showbackground": true,
            "ticks": "",
            "zerolinecolor": "white"
           },
           "zaxis": {
            "backgroundcolor": "#E5ECF6",
            "gridcolor": "white",
            "gridwidth": 2,
            "linecolor": "white",
            "showbackground": true,
            "ticks": "",
            "zerolinecolor": "white"
           }
          },
          "shapedefaults": {
           "line": {
            "color": "#2a3f5f"
           }
          },
          "ternary": {
           "aaxis": {
            "gridcolor": "white",
            "linecolor": "white",
            "ticks": ""
           },
           "baxis": {
            "gridcolor": "white",
            "linecolor": "white",
            "ticks": ""
           },
           "bgcolor": "#E5ECF6",
           "caxis": {
            "gridcolor": "white",
            "linecolor": "white",
            "ticks": ""
           }
          },
          "title": {
           "x": 0.05
          },
          "xaxis": {
           "automargin": true,
           "gridcolor": "white",
           "linecolor": "white",
           "ticks": "",
           "title": {
            "standoff": 15
           },
           "zerolinecolor": "white",
           "zerolinewidth": 2
          },
          "yaxis": {
           "automargin": true,
           "gridcolor": "white",
           "linecolor": "white",
           "ticks": "",
           "title": {
            "standoff": 15
           },
           "zerolinecolor": "white",
           "zerolinewidth": 2
          }
         }
        }
       }
      }
     },
     "metadata": {},
     "output_type": "display_data"
    }
   ],
   "source": [
    "import plotly.graph_objects as go\n",
    "\n",
    "categories = ['processing cost','mechanical properties','chemical stability',\n",
    "              'thermal stability', 'device integration']\n",
    "\n",
    "fig = go.Figure()\n",
    "\n",
    "# tracing layout\n",
    "fig.add_trace(go.Scatterpolar(\n",
    "      r=[1, 5, 2, 2, 3],\n",
    "      theta=categories,\n",
    "      fill='toself',\n",
    "      name='Product A'\n",
    "))\n",
    "\n",
    "# tracing layout\n",
    "fig.add_trace(go.Scatterpolar(\n",
    "      r=[4, 3, 2.5, 1, 2],\n",
    "      theta=categories,\n",
    "      fill='toself',\n",
    "      name='Product B'\n",
    "))\n",
    "\n",
    "# each circle values\n",
    "fig.update_layout(\n",
    "  polar=dict(\n",
    "    radialaxis=dict(\n",
    "      visible=True,\n",
    "      range=[0, 5]\n",
    "    )),\n",
    "  showlegend=False\n",
    ")\n",
    "\n",
    "fig.show()"
   ]
  },
  {
   "cell_type": "code",
   "execution_count": 2,
   "metadata": {},
   "outputs": [],
   "source": [
    "import pandas as pd\n",
    "df = pd.read_csv(\"datasets/melted.csv\")"
   ]
  },
  {
   "cell_type": "code",
   "execution_count": 41,
   "metadata": {},
   "outputs": [
    {
     "data": {
      "text/plain": [
       "numpy.ndarray"
      ]
     },
     "execution_count": 41,
     "metadata": {},
     "output_type": "execute_result"
    }
   ],
   "source": [
    "type(df['year'].unique())"
   ]
  },
  {
   "cell_type": "code",
   "execution_count": 11,
   "metadata": {},
   "outputs": [],
   "source": [
    "import math"
   ]
  },
  {
   "cell_type": "code",
   "execution_count": 51,
   "metadata": {},
   "outputs": [
    {
     "data": {
      "text/plain": [
       "numpy.int64"
      ]
     },
     "execution_count": 51,
     "metadata": {},
     "output_type": "execute_result"
    }
   ],
   "source": [
    "#type(df_melted['year'][1])\n",
    "type(df['year'][1])"
   ]
  },
  {
   "cell_type": "code",
   "execution_count": 12,
   "metadata": {},
   "outputs": [
    {
     "data": {
      "application/vnd.plotly.v1+json": {
       "config": {
        "plotlyServerURL": "https://plot.ly"
       },
       "data": [
        {
         "connectgaps": true,
         "fill": "toself",
         "name": "Afghanistan",
         "r": [
          2.069573,
          null,
          2.141282,
          null,
          1.95,
          null
         ],
         "theta": [
          "2014",
          "2015",
          "2016",
          "2017",
          "2018",
          "2019"
         ],
         "type": "scatterpolar"
        },
        {
         "connectgaps": true,
         "fill": "toself",
         "name": "Albania",
         "r": [
          null,
          null,
          2.412498,
          null,
          2.66,
          null
         ],
         "theta": [
          "2014",
          "2015",
          "2016",
          "2017",
          "2018",
          "2019"
         ],
         "type": "scatterpolar"
        },
        {
         "connectgaps": true,
         "fill": "toself",
         "name": "Algeria",
         "r": [
          2.649451,
          null,
          2.769683,
          null,
          2.45,
          null
         ],
         "theta": [
          "2014",
          "2015",
          "2016",
          "2017",
          "2018",
          "2019"
         ],
         "type": "scatterpolar"
        },
        {
         "connectgaps": true,
         "fill": "toself",
         "name": "Angola",
         "r": [
          2.54298,
          null,
          2.241183,
          null,
          2.05,
          null
         ],
         "theta": [
          "2014",
          "2015",
          "2016",
          "2017",
          "2018",
          "2019"
         ],
         "type": "scatterpolar"
        },
        {
         "connectgaps": true,
         "fill": "toself",
         "name": "Antigua and Barbuda",
         "r": [
          null,
          null,
          null,
          null,
          null,
          null
         ],
         "theta": [
          "2014",
          "2015",
          "2016",
          "2017",
          "2018",
          "2019"
         ],
         "type": "scatterpolar"
        }
       ],
       "layout": {
        "polar": {
         "radialaxis": {
          "range": [
           1,
           5
          ],
          "visible": true
         }
        },
        "showlegend": false,
        "template": {
         "data": {
          "bar": [
           {
            "error_x": {
             "color": "#2a3f5f"
            },
            "error_y": {
             "color": "#2a3f5f"
            },
            "marker": {
             "line": {
              "color": "#E5ECF6",
              "width": 0.5
             },
             "pattern": {
              "fillmode": "overlay",
              "size": 10,
              "solidity": 0.2
             }
            },
            "type": "bar"
           }
          ],
          "barpolar": [
           {
            "marker": {
             "line": {
              "color": "#E5ECF6",
              "width": 0.5
             },
             "pattern": {
              "fillmode": "overlay",
              "size": 10,
              "solidity": 0.2
             }
            },
            "type": "barpolar"
           }
          ],
          "carpet": [
           {
            "aaxis": {
             "endlinecolor": "#2a3f5f",
             "gridcolor": "white",
             "linecolor": "white",
             "minorgridcolor": "white",
             "startlinecolor": "#2a3f5f"
            },
            "baxis": {
             "endlinecolor": "#2a3f5f",
             "gridcolor": "white",
             "linecolor": "white",
             "minorgridcolor": "white",
             "startlinecolor": "#2a3f5f"
            },
            "type": "carpet"
           }
          ],
          "choropleth": [
           {
            "colorbar": {
             "outlinewidth": 0,
             "ticks": ""
            },
            "type": "choropleth"
           }
          ],
          "contour": [
           {
            "colorbar": {
             "outlinewidth": 0,
             "ticks": ""
            },
            "colorscale": [
             [
              0,
              "#0d0887"
             ],
             [
              0.1111111111111111,
              "#46039f"
             ],
             [
              0.2222222222222222,
              "#7201a8"
             ],
             [
              0.3333333333333333,
              "#9c179e"
             ],
             [
              0.4444444444444444,
              "#bd3786"
             ],
             [
              0.5555555555555556,
              "#d8576b"
             ],
             [
              0.6666666666666666,
              "#ed7953"
             ],
             [
              0.7777777777777778,
              "#fb9f3a"
             ],
             [
              0.8888888888888888,
              "#fdca26"
             ],
             [
              1,
              "#f0f921"
             ]
            ],
            "type": "contour"
           }
          ],
          "contourcarpet": [
           {
            "colorbar": {
             "outlinewidth": 0,
             "ticks": ""
            },
            "type": "contourcarpet"
           }
          ],
          "heatmap": [
           {
            "colorbar": {
             "outlinewidth": 0,
             "ticks": ""
            },
            "colorscale": [
             [
              0,
              "#0d0887"
             ],
             [
              0.1111111111111111,
              "#46039f"
             ],
             [
              0.2222222222222222,
              "#7201a8"
             ],
             [
              0.3333333333333333,
              "#9c179e"
             ],
             [
              0.4444444444444444,
              "#bd3786"
             ],
             [
              0.5555555555555556,
              "#d8576b"
             ],
             [
              0.6666666666666666,
              "#ed7953"
             ],
             [
              0.7777777777777778,
              "#fb9f3a"
             ],
             [
              0.8888888888888888,
              "#fdca26"
             ],
             [
              1,
              "#f0f921"
             ]
            ],
            "type": "heatmap"
           }
          ],
          "heatmapgl": [
           {
            "colorbar": {
             "outlinewidth": 0,
             "ticks": ""
            },
            "colorscale": [
             [
              0,
              "#0d0887"
             ],
             [
              0.1111111111111111,
              "#46039f"
             ],
             [
              0.2222222222222222,
              "#7201a8"
             ],
             [
              0.3333333333333333,
              "#9c179e"
             ],
             [
              0.4444444444444444,
              "#bd3786"
             ],
             [
              0.5555555555555556,
              "#d8576b"
             ],
             [
              0.6666666666666666,
              "#ed7953"
             ],
             [
              0.7777777777777778,
              "#fb9f3a"
             ],
             [
              0.8888888888888888,
              "#fdca26"
             ],
             [
              1,
              "#f0f921"
             ]
            ],
            "type": "heatmapgl"
           }
          ],
          "histogram": [
           {
            "marker": {
             "pattern": {
              "fillmode": "overlay",
              "size": 10,
              "solidity": 0.2
             }
            },
            "type": "histogram"
           }
          ],
          "histogram2d": [
           {
            "colorbar": {
             "outlinewidth": 0,
             "ticks": ""
            },
            "colorscale": [
             [
              0,
              "#0d0887"
             ],
             [
              0.1111111111111111,
              "#46039f"
             ],
             [
              0.2222222222222222,
              "#7201a8"
             ],
             [
              0.3333333333333333,
              "#9c179e"
             ],
             [
              0.4444444444444444,
              "#bd3786"
             ],
             [
              0.5555555555555556,
              "#d8576b"
             ],
             [
              0.6666666666666666,
              "#ed7953"
             ],
             [
              0.7777777777777778,
              "#fb9f3a"
             ],
             [
              0.8888888888888888,
              "#fdca26"
             ],
             [
              1,
              "#f0f921"
             ]
            ],
            "type": "histogram2d"
           }
          ],
          "histogram2dcontour": [
           {
            "colorbar": {
             "outlinewidth": 0,
             "ticks": ""
            },
            "colorscale": [
             [
              0,
              "#0d0887"
             ],
             [
              0.1111111111111111,
              "#46039f"
             ],
             [
              0.2222222222222222,
              "#7201a8"
             ],
             [
              0.3333333333333333,
              "#9c179e"
             ],
             [
              0.4444444444444444,
              "#bd3786"
             ],
             [
              0.5555555555555556,
              "#d8576b"
             ],
             [
              0.6666666666666666,
              "#ed7953"
             ],
             [
              0.7777777777777778,
              "#fb9f3a"
             ],
             [
              0.8888888888888888,
              "#fdca26"
             ],
             [
              1,
              "#f0f921"
             ]
            ],
            "type": "histogram2dcontour"
           }
          ],
          "mesh3d": [
           {
            "colorbar": {
             "outlinewidth": 0,
             "ticks": ""
            },
            "type": "mesh3d"
           }
          ],
          "parcoords": [
           {
            "line": {
             "colorbar": {
              "outlinewidth": 0,
              "ticks": ""
             }
            },
            "type": "parcoords"
           }
          ],
          "pie": [
           {
            "automargin": true,
            "type": "pie"
           }
          ],
          "scatter": [
           {
            "fillpattern": {
             "fillmode": "overlay",
             "size": 10,
             "solidity": 0.2
            },
            "type": "scatter"
           }
          ],
          "scatter3d": [
           {
            "line": {
             "colorbar": {
              "outlinewidth": 0,
              "ticks": ""
             }
            },
            "marker": {
             "colorbar": {
              "outlinewidth": 0,
              "ticks": ""
             }
            },
            "type": "scatter3d"
           }
          ],
          "scattercarpet": [
           {
            "marker": {
             "colorbar": {
              "outlinewidth": 0,
              "ticks": ""
             }
            },
            "type": "scattercarpet"
           }
          ],
          "scattergeo": [
           {
            "marker": {
             "colorbar": {
              "outlinewidth": 0,
              "ticks": ""
             }
            },
            "type": "scattergeo"
           }
          ],
          "scattergl": [
           {
            "marker": {
             "colorbar": {
              "outlinewidth": 0,
              "ticks": ""
             }
            },
            "type": "scattergl"
           }
          ],
          "scattermapbox": [
           {
            "marker": {
             "colorbar": {
              "outlinewidth": 0,
              "ticks": ""
             }
            },
            "type": "scattermapbox"
           }
          ],
          "scatterpolar": [
           {
            "marker": {
             "colorbar": {
              "outlinewidth": 0,
              "ticks": ""
             }
            },
            "type": "scatterpolar"
           }
          ],
          "scatterpolargl": [
           {
            "marker": {
             "colorbar": {
              "outlinewidth": 0,
              "ticks": ""
             }
            },
            "type": "scatterpolargl"
           }
          ],
          "scatterternary": [
           {
            "marker": {
             "colorbar": {
              "outlinewidth": 0,
              "ticks": ""
             }
            },
            "type": "scatterternary"
           }
          ],
          "surface": [
           {
            "colorbar": {
             "outlinewidth": 0,
             "ticks": ""
            },
            "colorscale": [
             [
              0,
              "#0d0887"
             ],
             [
              0.1111111111111111,
              "#46039f"
             ],
             [
              0.2222222222222222,
              "#7201a8"
             ],
             [
              0.3333333333333333,
              "#9c179e"
             ],
             [
              0.4444444444444444,
              "#bd3786"
             ],
             [
              0.5555555555555556,
              "#d8576b"
             ],
             [
              0.6666666666666666,
              "#ed7953"
             ],
             [
              0.7777777777777778,
              "#fb9f3a"
             ],
             [
              0.8888888888888888,
              "#fdca26"
             ],
             [
              1,
              "#f0f921"
             ]
            ],
            "type": "surface"
           }
          ],
          "table": [
           {
            "cells": {
             "fill": {
              "color": "#EBF0F8"
             },
             "line": {
              "color": "white"
             }
            },
            "header": {
             "fill": {
              "color": "#C8D4E3"
             },
             "line": {
              "color": "white"
             }
            },
            "type": "table"
           }
          ]
         },
         "layout": {
          "annotationdefaults": {
           "arrowcolor": "#2a3f5f",
           "arrowhead": 0,
           "arrowwidth": 1
          },
          "autotypenumbers": "strict",
          "coloraxis": {
           "colorbar": {
            "outlinewidth": 0,
            "ticks": ""
           }
          },
          "colorscale": {
           "diverging": [
            [
             0,
             "#8e0152"
            ],
            [
             0.1,
             "#c51b7d"
            ],
            [
             0.2,
             "#de77ae"
            ],
            [
             0.3,
             "#f1b6da"
            ],
            [
             0.4,
             "#fde0ef"
            ],
            [
             0.5,
             "#f7f7f7"
            ],
            [
             0.6,
             "#e6f5d0"
            ],
            [
             0.7,
             "#b8e186"
            ],
            [
             0.8,
             "#7fbc41"
            ],
            [
             0.9,
             "#4d9221"
            ],
            [
             1,
             "#276419"
            ]
           ],
           "sequential": [
            [
             0,
             "#0d0887"
            ],
            [
             0.1111111111111111,
             "#46039f"
            ],
            [
             0.2222222222222222,
             "#7201a8"
            ],
            [
             0.3333333333333333,
             "#9c179e"
            ],
            [
             0.4444444444444444,
             "#bd3786"
            ],
            [
             0.5555555555555556,
             "#d8576b"
            ],
            [
             0.6666666666666666,
             "#ed7953"
            ],
            [
             0.7777777777777778,
             "#fb9f3a"
            ],
            [
             0.8888888888888888,
             "#fdca26"
            ],
            [
             1,
             "#f0f921"
            ]
           ],
           "sequentialminus": [
            [
             0,
             "#0d0887"
            ],
            [
             0.1111111111111111,
             "#46039f"
            ],
            [
             0.2222222222222222,
             "#7201a8"
            ],
            [
             0.3333333333333333,
             "#9c179e"
            ],
            [
             0.4444444444444444,
             "#bd3786"
            ],
            [
             0.5555555555555556,
             "#d8576b"
            ],
            [
             0.6666666666666666,
             "#ed7953"
            ],
            [
             0.7777777777777778,
             "#fb9f3a"
            ],
            [
             0.8888888888888888,
             "#fdca26"
            ],
            [
             1,
             "#f0f921"
            ]
           ]
          },
          "colorway": [
           "#636efa",
           "#EF553B",
           "#00cc96",
           "#ab63fa",
           "#FFA15A",
           "#19d3f3",
           "#FF6692",
           "#B6E880",
           "#FF97FF",
           "#FECB52"
          ],
          "font": {
           "color": "#2a3f5f"
          },
          "geo": {
           "bgcolor": "white",
           "lakecolor": "white",
           "landcolor": "#E5ECF6",
           "showlakes": true,
           "showland": true,
           "subunitcolor": "white"
          },
          "hoverlabel": {
           "align": "left"
          },
          "hovermode": "closest",
          "mapbox": {
           "style": "light"
          },
          "paper_bgcolor": "white",
          "plot_bgcolor": "#E5ECF6",
          "polar": {
           "angularaxis": {
            "gridcolor": "white",
            "linecolor": "white",
            "ticks": ""
           },
           "bgcolor": "#E5ECF6",
           "radialaxis": {
            "gridcolor": "white",
            "linecolor": "white",
            "ticks": ""
           }
          },
          "scene": {
           "xaxis": {
            "backgroundcolor": "#E5ECF6",
            "gridcolor": "white",
            "gridwidth": 2,
            "linecolor": "white",
            "showbackground": true,
            "ticks": "",
            "zerolinecolor": "white"
           },
           "yaxis": {
            "backgroundcolor": "#E5ECF6",
            "gridcolor": "white",
            "gridwidth": 2,
            "linecolor": "white",
            "showbackground": true,
            "ticks": "",
            "zerolinecolor": "white"
           },
           "zaxis": {
            "backgroundcolor": "#E5ECF6",
            "gridcolor": "white",
            "gridwidth": 2,
            "linecolor": "white",
            "showbackground": true,
            "ticks": "",
            "zerolinecolor": "white"
           }
          },
          "shapedefaults": {
           "line": {
            "color": "#2a3f5f"
           }
          },
          "ternary": {
           "aaxis": {
            "gridcolor": "white",
            "linecolor": "white",
            "ticks": ""
           },
           "baxis": {
            "gridcolor": "white",
            "linecolor": "white",
            "ticks": ""
           },
           "bgcolor": "#E5ECF6",
           "caxis": {
            "gridcolor": "white",
            "linecolor": "white",
            "ticks": ""
           }
          },
          "title": {
           "x": 0.05
          },
          "xaxis": {
           "automargin": true,
           "gridcolor": "white",
           "linecolor": "white",
           "ticks": "",
           "title": {
            "standoff": 15
           },
           "zerolinecolor": "white",
           "zerolinewidth": 2
          },
          "yaxis": {
           "automargin": true,
           "gridcolor": "white",
           "linecolor": "white",
           "ticks": "",
           "title": {
            "standoff": 15
           },
           "zerolinecolor": "white",
           "zerolinewidth": 2
          }
         }
        }
       }
      }
     },
     "metadata": {},
     "output_type": "display_data"
    }
   ],
   "source": [
    "import plotly.graph_objects as go\n",
    "df['year'] = df['year'].astype(str)\n",
    "\n",
    "categories = df['year'].unique()\n",
    "max = math.ceil(df[df[\"Series Name\"]==\"Logistics performance index: Overall (1=low to 5=high)\"][\"value\"].max())\n",
    "min = math.floor(df[df[\"Series Name\"]==\"Logistics performance index: Overall (1=low to 5=high)\"][\"value\"].min())\n",
    "countries = df['Country Name'].unique()[0:5]\n",
    "\n",
    "fig = go.Figure()\n",
    "\n",
    "\n",
    "for i in countries:\n",
    "    fig.add_trace(go.Scatterpolar(\n",
    "      r=df[(df[\"Series Name\"]==\"Logistics performance index: Overall (1=low to 5=high)\") &\n",
    "       (df[\"Country Name\"]==i) &\n",
    "       (df[\"year\"].isin(categories))][\"value\"].values.tolist(),\n",
    "      theta=categories,\n",
    "      fill='toself',\n",
    "      name=i,\n",
    "      connectgaps=True\n",
    "))\n",
    "\n",
    "# tracing layout\n",
    "# fig.add_trace(go.Scatterpolar(\n",
    "#       r=df[(df[\"Series Name\"]==\"Logistics performance index: Overall (1=low to 5=high)\") &\n",
    "#        (df[\"Country Name\"]==\"Albania\") &\n",
    "#        (df[\"year\"].isin(categories))][\"value\"].values.tolist(),\n",
    "#       theta=categories,\n",
    "#       fill='toself',\n",
    "#       name='Product A',\n",
    "#       connectgaps=True\n",
    "# ))\n",
    "\n",
    "# tracing layout\n",
    "# fig.add_trace(go.Scatterpolar(\n",
    "#       r=[4, 3, 0, 0, 2],\n",
    "#       theta=categories,\n",
    "#       fill='toself',\n",
    "#       name='Product B',\n",
    "#       connectgaps=True\n",
    "# ))\n",
    "\n",
    "# each circle values\n",
    "fig.update_layout(\n",
    "  polar=dict(\n",
    "    radialaxis=dict(\n",
    "      visible=True,\n",
    "      range=[min, max]\n",
    "    )),\n",
    "  showlegend=False\n",
    ")\n",
    "\n",
    "fig.show()"
   ]
  },
  {
   "cell_type": "code",
   "execution_count": 54,
   "metadata": {},
   "outputs": [
    {
     "data": {
      "text/plain": [
       "str"
      ]
     },
     "execution_count": 54,
     "metadata": {},
     "output_type": "execute_result"
    }
   ],
   "source": [
    "type(df['year'][1])"
   ]
  },
  {
   "cell_type": "code",
   "execution_count": 14,
   "metadata": {},
   "outputs": [
    {
     "name": "stdout",
     "output_type": "stream",
     "text": [
      "<class 'pandas.core.series.Series'>\n",
      "<class 'pandas.core.series.Series'>\n",
      "<class 'pandas.core.series.Series'>\n",
      "<class 'pandas.core.series.Series'>\n",
      "<class 'pandas.core.series.Series'>\n"
     ]
    }
   ],
   "source": [
    "for i in countries:\n",
    "    print(type(df[(df[\"Series Name\"]==\"Logistics performance index: Overall (1=low to 5=high)\") &\n",
    "       (df[\"Country Name\"]==i) &\n",
    "       (df[\"year\"].isin(categories))][\"value\"]))"
   ]
  },
  {
   "cell_type": "code",
   "execution_count": 22,
   "metadata": {},
   "outputs": [
    {
     "data": {
      "text/plain": [
       "[nan, nan, 2.412498, nan, 2.66, nan]"
      ]
     },
     "execution_count": 22,
     "metadata": {},
     "output_type": "execute_result"
    }
   ],
   "source": [
    "df[(df[\"Series Name\"]==\"Logistics performance index: Overall (1=low to 5=high)\") &\n",
    "       (df[\"Country Name\"]==\"Albania\") &\n",
    "       (df[\"year\"].isin(categories))][\"value\"].values.tolist()"
   ]
  },
  {
   "cell_type": "code",
   "execution_count": 26,
   "metadata": {},
   "outputs": [
    {
     "data": {
      "application/vnd.plotly.v1+json": {
       "config": {
        "plotlyServerURL": "https://plot.ly"
       },
       "data": [
        {
         "mode": "markers",
         "name": "Afghanistan",
         "type": "scatter",
         "x": [
          61.33333,
          61.33333,
          61.33333,
          61.33333,
          61.33333
         ],
         "y": [
          "border compliance",
          "documentary compliance"
         ]
        },
        {
         "mode": "markers",
         "name": "Albania",
         "type": "scatter",
         "x": [
          61.33333,
          61.33333,
          61.33333,
          61.33333,
          61.33333
         ],
         "y": [
          "border compliance",
          "documentary compliance"
         ]
        },
        {
         "mode": "markers",
         "name": "Algeria",
         "type": "scatter",
         "x": [
          61.33333,
          61.33333,
          61.33333,
          61.33333,
          61.33333
         ],
         "y": [
          "border compliance",
          "documentary compliance"
         ]
        },
        {
         "mode": "markers",
         "name": "Angola",
         "type": "scatter",
         "x": [
          61.33333,
          61.33333,
          61.33333,
          61.33333,
          61.33333
         ],
         "y": [
          "border compliance",
          "documentary compliance"
         ]
        },
        {
         "mode": "markers",
         "name": "Antigua and Barbuda",
         "type": "scatter",
         "x": [
          61.33333,
          61.33333,
          61.33333,
          61.33333,
          61.33333
         ],
         "y": [
          "border compliance",
          "documentary compliance"
         ]
        }
       ],
       "layout": {
        "template": {
         "data": {
          "bar": [
           {
            "error_x": {
             "color": "#2a3f5f"
            },
            "error_y": {
             "color": "#2a3f5f"
            },
            "marker": {
             "line": {
              "color": "#E5ECF6",
              "width": 0.5
             },
             "pattern": {
              "fillmode": "overlay",
              "size": 10,
              "solidity": 0.2
             }
            },
            "type": "bar"
           }
          ],
          "barpolar": [
           {
            "marker": {
             "line": {
              "color": "#E5ECF6",
              "width": 0.5
             },
             "pattern": {
              "fillmode": "overlay",
              "size": 10,
              "solidity": 0.2
             }
            },
            "type": "barpolar"
           }
          ],
          "carpet": [
           {
            "aaxis": {
             "endlinecolor": "#2a3f5f",
             "gridcolor": "white",
             "linecolor": "white",
             "minorgridcolor": "white",
             "startlinecolor": "#2a3f5f"
            },
            "baxis": {
             "endlinecolor": "#2a3f5f",
             "gridcolor": "white",
             "linecolor": "white",
             "minorgridcolor": "white",
             "startlinecolor": "#2a3f5f"
            },
            "type": "carpet"
           }
          ],
          "choropleth": [
           {
            "colorbar": {
             "outlinewidth": 0,
             "ticks": ""
            },
            "type": "choropleth"
           }
          ],
          "contour": [
           {
            "colorbar": {
             "outlinewidth": 0,
             "ticks": ""
            },
            "colorscale": [
             [
              0,
              "#0d0887"
             ],
             [
              0.1111111111111111,
              "#46039f"
             ],
             [
              0.2222222222222222,
              "#7201a8"
             ],
             [
              0.3333333333333333,
              "#9c179e"
             ],
             [
              0.4444444444444444,
              "#bd3786"
             ],
             [
              0.5555555555555556,
              "#d8576b"
             ],
             [
              0.6666666666666666,
              "#ed7953"
             ],
             [
              0.7777777777777778,
              "#fb9f3a"
             ],
             [
              0.8888888888888888,
              "#fdca26"
             ],
             [
              1,
              "#f0f921"
             ]
            ],
            "type": "contour"
           }
          ],
          "contourcarpet": [
           {
            "colorbar": {
             "outlinewidth": 0,
             "ticks": ""
            },
            "type": "contourcarpet"
           }
          ],
          "heatmap": [
           {
            "colorbar": {
             "outlinewidth": 0,
             "ticks": ""
            },
            "colorscale": [
             [
              0,
              "#0d0887"
             ],
             [
              0.1111111111111111,
              "#46039f"
             ],
             [
              0.2222222222222222,
              "#7201a8"
             ],
             [
              0.3333333333333333,
              "#9c179e"
             ],
             [
              0.4444444444444444,
              "#bd3786"
             ],
             [
              0.5555555555555556,
              "#d8576b"
             ],
             [
              0.6666666666666666,
              "#ed7953"
             ],
             [
              0.7777777777777778,
              "#fb9f3a"
             ],
             [
              0.8888888888888888,
              "#fdca26"
             ],
             [
              1,
              "#f0f921"
             ]
            ],
            "type": "heatmap"
           }
          ],
          "heatmapgl": [
           {
            "colorbar": {
             "outlinewidth": 0,
             "ticks": ""
            },
            "colorscale": [
             [
              0,
              "#0d0887"
             ],
             [
              0.1111111111111111,
              "#46039f"
             ],
             [
              0.2222222222222222,
              "#7201a8"
             ],
             [
              0.3333333333333333,
              "#9c179e"
             ],
             [
              0.4444444444444444,
              "#bd3786"
             ],
             [
              0.5555555555555556,
              "#d8576b"
             ],
             [
              0.6666666666666666,
              "#ed7953"
             ],
             [
              0.7777777777777778,
              "#fb9f3a"
             ],
             [
              0.8888888888888888,
              "#fdca26"
             ],
             [
              1,
              "#f0f921"
             ]
            ],
            "type": "heatmapgl"
           }
          ],
          "histogram": [
           {
            "marker": {
             "pattern": {
              "fillmode": "overlay",
              "size": 10,
              "solidity": 0.2
             }
            },
            "type": "histogram"
           }
          ],
          "histogram2d": [
           {
            "colorbar": {
             "outlinewidth": 0,
             "ticks": ""
            },
            "colorscale": [
             [
              0,
              "#0d0887"
             ],
             [
              0.1111111111111111,
              "#46039f"
             ],
             [
              0.2222222222222222,
              "#7201a8"
             ],
             [
              0.3333333333333333,
              "#9c179e"
             ],
             [
              0.4444444444444444,
              "#bd3786"
             ],
             [
              0.5555555555555556,
              "#d8576b"
             ],
             [
              0.6666666666666666,
              "#ed7953"
             ],
             [
              0.7777777777777778,
              "#fb9f3a"
             ],
             [
              0.8888888888888888,
              "#fdca26"
             ],
             [
              1,
              "#f0f921"
             ]
            ],
            "type": "histogram2d"
           }
          ],
          "histogram2dcontour": [
           {
            "colorbar": {
             "outlinewidth": 0,
             "ticks": ""
            },
            "colorscale": [
             [
              0,
              "#0d0887"
             ],
             [
              0.1111111111111111,
              "#46039f"
             ],
             [
              0.2222222222222222,
              "#7201a8"
             ],
             [
              0.3333333333333333,
              "#9c179e"
             ],
             [
              0.4444444444444444,
              "#bd3786"
             ],
             [
              0.5555555555555556,
              "#d8576b"
             ],
             [
              0.6666666666666666,
              "#ed7953"
             ],
             [
              0.7777777777777778,
              "#fb9f3a"
             ],
             [
              0.8888888888888888,
              "#fdca26"
             ],
             [
              1,
              "#f0f921"
             ]
            ],
            "type": "histogram2dcontour"
           }
          ],
          "mesh3d": [
           {
            "colorbar": {
             "outlinewidth": 0,
             "ticks": ""
            },
            "type": "mesh3d"
           }
          ],
          "parcoords": [
           {
            "line": {
             "colorbar": {
              "outlinewidth": 0,
              "ticks": ""
             }
            },
            "type": "parcoords"
           }
          ],
          "pie": [
           {
            "automargin": true,
            "type": "pie"
           }
          ],
          "scatter": [
           {
            "fillpattern": {
             "fillmode": "overlay",
             "size": 10,
             "solidity": 0.2
            },
            "type": "scatter"
           }
          ],
          "scatter3d": [
           {
            "line": {
             "colorbar": {
              "outlinewidth": 0,
              "ticks": ""
             }
            },
            "marker": {
             "colorbar": {
              "outlinewidth": 0,
              "ticks": ""
             }
            },
            "type": "scatter3d"
           }
          ],
          "scattercarpet": [
           {
            "marker": {
             "colorbar": {
              "outlinewidth": 0,
              "ticks": ""
             }
            },
            "type": "scattercarpet"
           }
          ],
          "scattergeo": [
           {
            "marker": {
             "colorbar": {
              "outlinewidth": 0,
              "ticks": ""
             }
            },
            "type": "scattergeo"
           }
          ],
          "scattergl": [
           {
            "marker": {
             "colorbar": {
              "outlinewidth": 0,
              "ticks": ""
             }
            },
            "type": "scattergl"
           }
          ],
          "scattermapbox": [
           {
            "marker": {
             "colorbar": {
              "outlinewidth": 0,
              "ticks": ""
             }
            },
            "type": "scattermapbox"
           }
          ],
          "scatterpolar": [
           {
            "marker": {
             "colorbar": {
              "outlinewidth": 0,
              "ticks": ""
             }
            },
            "type": "scatterpolar"
           }
          ],
          "scatterpolargl": [
           {
            "marker": {
             "colorbar": {
              "outlinewidth": 0,
              "ticks": ""
             }
            },
            "type": "scatterpolargl"
           }
          ],
          "scatterternary": [
           {
            "marker": {
             "colorbar": {
              "outlinewidth": 0,
              "ticks": ""
             }
            },
            "type": "scatterternary"
           }
          ],
          "surface": [
           {
            "colorbar": {
             "outlinewidth": 0,
             "ticks": ""
            },
            "colorscale": [
             [
              0,
              "#0d0887"
             ],
             [
              0.1111111111111111,
              "#46039f"
             ],
             [
              0.2222222222222222,
              "#7201a8"
             ],
             [
              0.3333333333333333,
              "#9c179e"
             ],
             [
              0.4444444444444444,
              "#bd3786"
             ],
             [
              0.5555555555555556,
              "#d8576b"
             ],
             [
              0.6666666666666666,
              "#ed7953"
             ],
             [
              0.7777777777777778,
              "#fb9f3a"
             ],
             [
              0.8888888888888888,
              "#fdca26"
             ],
             [
              1,
              "#f0f921"
             ]
            ],
            "type": "surface"
           }
          ],
          "table": [
           {
            "cells": {
             "fill": {
              "color": "#EBF0F8"
             },
             "line": {
              "color": "white"
             }
            },
            "header": {
             "fill": {
              "color": "#C8D4E3"
             },
             "line": {
              "color": "white"
             }
            },
            "type": "table"
           }
          ]
         },
         "layout": {
          "annotationdefaults": {
           "arrowcolor": "#2a3f5f",
           "arrowhead": 0,
           "arrowwidth": 1
          },
          "autotypenumbers": "strict",
          "coloraxis": {
           "colorbar": {
            "outlinewidth": 0,
            "ticks": ""
           }
          },
          "colorscale": {
           "diverging": [
            [
             0,
             "#8e0152"
            ],
            [
             0.1,
             "#c51b7d"
            ],
            [
             0.2,
             "#de77ae"
            ],
            [
             0.3,
             "#f1b6da"
            ],
            [
             0.4,
             "#fde0ef"
            ],
            [
             0.5,
             "#f7f7f7"
            ],
            [
             0.6,
             "#e6f5d0"
            ],
            [
             0.7,
             "#b8e186"
            ],
            [
             0.8,
             "#7fbc41"
            ],
            [
             0.9,
             "#4d9221"
            ],
            [
             1,
             "#276419"
            ]
           ],
           "sequential": [
            [
             0,
             "#0d0887"
            ],
            [
             0.1111111111111111,
             "#46039f"
            ],
            [
             0.2222222222222222,
             "#7201a8"
            ],
            [
             0.3333333333333333,
             "#9c179e"
            ],
            [
             0.4444444444444444,
             "#bd3786"
            ],
            [
             0.5555555555555556,
             "#d8576b"
            ],
            [
             0.6666666666666666,
             "#ed7953"
            ],
            [
             0.7777777777777778,
             "#fb9f3a"
            ],
            [
             0.8888888888888888,
             "#fdca26"
            ],
            [
             1,
             "#f0f921"
            ]
           ],
           "sequentialminus": [
            [
             0,
             "#0d0887"
            ],
            [
             0.1111111111111111,
             "#46039f"
            ],
            [
             0.2222222222222222,
             "#7201a8"
            ],
            [
             0.3333333333333333,
             "#9c179e"
            ],
            [
             0.4444444444444444,
             "#bd3786"
            ],
            [
             0.5555555555555556,
             "#d8576b"
            ],
            [
             0.6666666666666666,
             "#ed7953"
            ],
            [
             0.7777777777777778,
             "#fb9f3a"
            ],
            [
             0.8888888888888888,
             "#fdca26"
            ],
            [
             1,
             "#f0f921"
            ]
           ]
          },
          "colorway": [
           "#636efa",
           "#EF553B",
           "#00cc96",
           "#ab63fa",
           "#FFA15A",
           "#19d3f3",
           "#FF6692",
           "#B6E880",
           "#FF97FF",
           "#FECB52"
          ],
          "font": {
           "color": "#2a3f5f"
          },
          "geo": {
           "bgcolor": "white",
           "lakecolor": "white",
           "landcolor": "#E5ECF6",
           "showlakes": true,
           "showland": true,
           "subunitcolor": "white"
          },
          "hoverlabel": {
           "align": "left"
          },
          "hovermode": "closest",
          "mapbox": {
           "style": "light"
          },
          "paper_bgcolor": "white",
          "plot_bgcolor": "#E5ECF6",
          "polar": {
           "angularaxis": {
            "gridcolor": "white",
            "linecolor": "white",
            "ticks": ""
           },
           "bgcolor": "#E5ECF6",
           "radialaxis": {
            "gridcolor": "white",
            "linecolor": "white",
            "ticks": ""
           }
          },
          "scene": {
           "xaxis": {
            "backgroundcolor": "#E5ECF6",
            "gridcolor": "white",
            "gridwidth": 2,
            "linecolor": "white",
            "showbackground": true,
            "ticks": "",
            "zerolinecolor": "white"
           },
           "yaxis": {
            "backgroundcolor": "#E5ECF6",
            "gridcolor": "white",
            "gridwidth": 2,
            "linecolor": "white",
            "showbackground": true,
            "ticks": "",
            "zerolinecolor": "white"
           },
           "zaxis": {
            "backgroundcolor": "#E5ECF6",
            "gridcolor": "white",
            "gridwidth": 2,
            "linecolor": "white",
            "showbackground": true,
            "ticks": "",
            "zerolinecolor": "white"
           }
          },
          "shapedefaults": {
           "line": {
            "color": "#2a3f5f"
           }
          },
          "ternary": {
           "aaxis": {
            "gridcolor": "white",
            "linecolor": "white",
            "ticks": ""
           },
           "baxis": {
            "gridcolor": "white",
            "linecolor": "white",
            "ticks": ""
           },
           "bgcolor": "#E5ECF6",
           "caxis": {
            "gridcolor": "white",
            "linecolor": "white",
            "ticks": ""
           }
          },
          "title": {
           "x": 0.05
          },
          "xaxis": {
           "automargin": true,
           "gridcolor": "white",
           "linecolor": "white",
           "ticks": "",
           "title": {
            "standoff": 15
           },
           "zerolinecolor": "white",
           "zerolinewidth": 2
          },
          "yaxis": {
           "automargin": true,
           "gridcolor": "white",
           "linecolor": "white",
           "ticks": "",
           "title": {
            "standoff": 15
           },
           "zerolinecolor": "white",
           "zerolinewidth": 2
          }
         }
        },
        "xaxis": {
         "title": {
          "text": "Time (Hours)"
         }
        }
       }
      }
     },
     "metadata": {},
     "output_type": "display_data"
    }
   ],
   "source": [
    "import plotly.graph_objects as go\n",
    "\n",
    "type = [\"border compliance\", \"documentary compliance\"]\n",
    "\n",
    "fig = go.Figure()\n",
    "\n",
    "border_compliance = []\n",
    "for country in countries:\n",
    "  border_compliance\n",
    "\n",
    "fig.add_trace(go.Scatter(\n",
    "x=df[(df[\"Series Name\"]=='Time to export, border compliance (hours)') &\n",
    "    (df[\"Country Name\"]==i) &\n",
    "    (df[\"year\"].isin(years))][\"value\"].values.tolist(),\n",
    "y=type,\n",
    "#marker=dict(color=\"crimson\", size=12),\n",
    "mode=\"markers\",\n",
    "name=country,\n",
    "))\n",
    "\n",
    "# fig.add_trace(go.Scatter(\n",
    "#     x=[100, 32],\n",
    "#     y=type,\n",
    "#     #marker=dict(color=\"crimson\", size=12),\n",
    "#     mode=\"markers\",\n",
    "#     name=\"Women\",\n",
    "# ))\n",
    "\n",
    "# fig.add_trace(go.Scatter(\n",
    "#     x=[92, 94, 100, 107, 112, 114, 114, 118, 119, 124, 131, 137, 141, 151, 152, 165],\n",
    "#     y=type,\n",
    "#     marker=dict(size=20),\n",
    "#     mode=\"markers\",\n",
    "#     name=\"Men\",\n",
    "# ))\n",
    "\n",
    "fig.update_layout(xaxis_title=\"Time (Hours)\",\n",
    "                  #yaxis_title=\"School\"\n",
    "                )\n",
    "\n",
    "fig.show()"
   ]
  },
  {
   "cell_type": "code",
   "execution_count": 28,
   "metadata": {},
   "outputs": [
    {
     "data": {
      "text/plain": [
       "[48.0, 48.0, 48.0, 48.0, 48.0]"
      ]
     },
     "execution_count": 28,
     "metadata": {},
     "output_type": "execute_result"
    }
   ],
   "source": [
    "df[(df[\"Series Name\"]=='Time to export, border compliance (hours)') &\n",
    "       (df[\"Country Name\"]==\"Afghanistan\") &\n",
    "       (df[\"year\"].isin(years))][\"value\"].values.tolist()"
   ]
  },
  {
   "cell_type": "code",
   "execution_count": 29,
   "metadata": {},
   "outputs": [
    {
     "data": {
      "text/plain": [
       "array(['Afghanistan', 'Albania', 'Algeria', 'Angola',\n",
       "       'Antigua and Barbuda', 'Argentina', 'Armenia', 'Australia',\n",
       "       'Austria', 'Azerbaijan', 'Bahamas, The', 'Bahrain', 'Bangladesh',\n",
       "       'Barbados', 'Belarus', 'Belgium', 'Belize', 'Benin', 'Bhutan',\n",
       "       'Bolivia', 'Bosnia and Herzegovina', 'Botswana', 'Brazil',\n",
       "       'Brunei Darussalam', 'Bulgaria', 'Burkina Faso', 'Burundi',\n",
       "       'Cabo Verde', 'Cambodia', 'Cameroon', 'Canada',\n",
       "       'Central African Republic', 'Chad', 'Chile', 'China', 'Colombia',\n",
       "       'Comoros', 'Congo, Dem. Rep.', 'Congo, Rep.', 'Costa Rica',\n",
       "       \"Cote d'Ivoire\", 'Croatia', 'Cyprus', 'Czechia', 'Denmark',\n",
       "       'Djibouti', 'Dominica', 'Dominican Republic', 'Ecuador',\n",
       "       'Egypt, Arab Rep.', 'El Salvador', 'Equatorial Guinea', 'Eritrea',\n",
       "       'Estonia', 'Eswatini', 'Ethiopia', 'Fiji', 'Finland', 'France',\n",
       "       'Gabon', 'Gambia, The', 'Georgia', 'Germany', 'Ghana', 'Greece',\n",
       "       'Grenada', 'Guatemala', 'Guinea', 'Guinea-Bissau', 'Guyana',\n",
       "       'Haiti', 'Honduras', 'Hong Kong SAR, China', 'Hungary', 'Iceland',\n",
       "       'India', 'Indonesia', 'Iran, Islamic Rep.', 'Iraq', 'Ireland',\n",
       "       'Israel', 'Italy', 'Jamaica', 'Japan', 'Jordan', 'Kazakhstan',\n",
       "       'Kenya', 'Kiribati', 'Korea, Rep.', 'Kosovo', 'Kuwait',\n",
       "       'Kyrgyz Republic', 'Lao PDR', 'Latvia', 'Lebanon', 'Lesotho',\n",
       "       'Liberia', 'Libya', 'Liechtenstein', 'Lithuania', 'Luxembourg',\n",
       "       'Madagascar', 'Malawi', 'Malaysia', 'Maldives', 'Mali', 'Malta',\n",
       "       'Marshall Islands', 'Mauritania', 'Mauritius', 'Mexico',\n",
       "       'Micronesia, Fed. Sts.', 'Moldova', 'Mongolia', 'Montenegro',\n",
       "       'Morocco', 'Mozambique', 'Myanmar', 'Namibia', 'Nepal',\n",
       "       'Netherlands', 'New Zealand', 'Nicaragua', 'Niger', 'Nigeria',\n",
       "       'North Macedonia', 'Norway', 'Oman', 'Pakistan', 'Palau', 'Panama',\n",
       "       'Papua New Guinea', 'Paraguay', 'Peru', 'Philippines', 'Poland',\n",
       "       'Portugal', 'Puerto Rico', 'Qatar', 'Romania',\n",
       "       'Russian Federation', 'Rwanda', 'Samoa', 'San Marino',\n",
       "       'Sao Tome and Principe', 'Saudi Arabia', 'Senegal', 'Serbia',\n",
       "       'Seychelles', 'Sierra Leone', 'Singapore', 'Slovak Republic',\n",
       "       'Slovenia', 'Solomon Islands', 'Somalia', 'South Africa',\n",
       "       'South Sudan', 'Spain', 'Sri Lanka', 'St. Kitts and Nevis',\n",
       "       'St. Lucia', 'St. Vincent and the Grenadines', 'Sudan', 'Suriname',\n",
       "       'Sweden', 'Switzerland', 'Syrian Arab Republic', 'Tajikistan',\n",
       "       'Tanzania', 'Thailand', 'Timor-Leste', 'Togo', 'Tonga',\n",
       "       'Trinidad and Tobago', 'Tunisia', 'Turkiye', 'Uganda', 'Ukraine',\n",
       "       'United Arab Emirates', 'United Kingdom', 'United States',\n",
       "       'Uruguay', 'Uzbekistan', 'Vanuatu', 'Venezuela, RB', 'Vietnam',\n",
       "       'West Bank and Gaza', 'Yemen, Rep.', 'Zambia', 'Zimbabwe',\n",
       "       'Africa Eastern and Southern', 'Africa Western and Central',\n",
       "       'Arab World', 'Caribbean small states',\n",
       "       'Central Europe and the Baltics', 'Early-demographic dividend',\n",
       "       'East Asia & Pacific',\n",
       "       'East Asia & Pacific (excluding high income)',\n",
       "       'East Asia & Pacific (IDA & IBRD countries)', 'Euro area',\n",
       "       'Europe & Central Asia',\n",
       "       'Europe & Central Asia (excluding high income)',\n",
       "       'Europe & Central Asia (IDA & IBRD countries)', 'European Union',\n",
       "       'Fragile and conflict affected situations',\n",
       "       'Heavily indebted poor countries (HIPC)', 'High income',\n",
       "       'IBRD only', 'IDA & IBRD total', 'IDA blend', 'IDA only',\n",
       "       'IDA total', 'Late-demographic dividend',\n",
       "       'Latin America & Caribbean',\n",
       "       'Latin America & Caribbean (excluding high income)',\n",
       "       'Latin America & the Caribbean (IDA & IBRD countries)',\n",
       "       'Least developed countries: UN classification',\n",
       "       'Low & middle income', 'Low income', 'Lower middle income',\n",
       "       'Middle East & North Africa',\n",
       "       'Middle East & North Africa (excluding high income)',\n",
       "       'Middle East & North Africa (IDA & IBRD countries)',\n",
       "       'Middle income', 'North America', 'OECD members',\n",
       "       'Other small states', 'Pacific island small states',\n",
       "       'Post-demographic dividend', 'Pre-demographic dividend',\n",
       "       'Small states', 'South Asia', 'South Asia (IDA & IBRD)',\n",
       "       'Sub-Saharan Africa', 'Sub-Saharan Africa (excluding high income)',\n",
       "       'Sub-Saharan Africa (IDA & IBRD countries)', 'Upper middle income',\n",
       "       'World'], dtype=object)"
      ]
     },
     "execution_count": 29,
     "metadata": {},
     "output_type": "execute_result"
    }
   ],
   "source": [
    "df[\"Country Name\"].unique()"
   ]
  },
  {
   "cell_type": "code",
   "execution_count": 21,
   "metadata": {},
   "outputs": [
    {
     "data": {
      "application/vnd.plotly.v1+json": {
       "config": {
        "plotlyServerURL": "https://plot.ly"
       },
       "data": [
        {
         "mode": "markers",
         "name": "Antigua and Barbuda",
         "type": "scatter",
         "x": [
          61.33333,
          50.66667
         ],
         "y": [
          "border compliance",
          "documentary compliance"
         ]
        },
        {
         "mode": "markers",
         "name": "Antigua and Barbuda",
         "type": "scatter",
         "x": [
          61.33333,
          50.66667
         ],
         "y": [
          "border compliance",
          "documentary compliance"
         ]
        },
        {
         "mode": "markers",
         "name": "Antigua and Barbuda",
         "type": "scatter",
         "x": [
          61.33333,
          50.66667
         ],
         "y": [
          "border compliance",
          "documentary compliance"
         ]
        },
        {
         "mode": "markers",
         "name": "Antigua and Barbuda",
         "type": "scatter",
         "x": [
          61.33333,
          50.66667
         ],
         "y": [
          "border compliance",
          "documentary compliance"
         ]
        },
        {
         "mode": "markers",
         "name": "Antigua and Barbuda",
         "type": "scatter",
         "x": [
          61.33333,
          50.66667
         ],
         "y": [
          "border compliance",
          "documentary compliance"
         ]
        },
        {
         "mode": "markers",
         "name": "Antigua and Barbuda",
         "type": "scatter",
         "x": [
          61.33333,
          50.66667
         ],
         "y": [
          "border compliance",
          "documentary compliance"
         ]
        },
        {
         "mode": "markers",
         "name": "Antigua and Barbuda",
         "type": "scatter",
         "x": [
          61.33333,
          50.66667
         ],
         "y": [
          "border compliance",
          "documentary compliance"
         ]
        },
        {
         "mode": "markers",
         "name": "Antigua and Barbuda",
         "type": "scatter",
         "x": [
          61.33333,
          50.66667
         ],
         "y": [
          "border compliance",
          "documentary compliance"
         ]
        },
        {
         "mode": "markers",
         "name": "Antigua and Barbuda",
         "type": "scatter",
         "x": [
          61.33333,
          50.66667
         ],
         "y": [
          "border compliance",
          "documentary compliance"
         ]
        },
        {
         "mode": "markers",
         "name": "Antigua and Barbuda",
         "type": "scatter",
         "x": [
          61.33333,
          50.66667
         ],
         "y": [
          "border compliance",
          "documentary compliance"
         ]
        },
        {
         "mode": "markers",
         "name": "Antigua and Barbuda",
         "type": "scatter",
         "x": [
          61.33333,
          50.66667
         ],
         "y": [
          "border compliance",
          "documentary compliance"
         ]
        },
        {
         "mode": "markers",
         "name": "Antigua and Barbuda",
         "type": "scatter",
         "x": [
          61.33333,
          50.66667
         ],
         "y": [
          "border compliance",
          "documentary compliance"
         ]
        },
        {
         "mode": "markers",
         "name": "Antigua and Barbuda",
         "type": "scatter",
         "x": [
          61.33333,
          50.66667
         ],
         "y": [
          "border compliance",
          "documentary compliance"
         ]
        },
        {
         "mode": "markers",
         "name": "Antigua and Barbuda",
         "type": "scatter",
         "x": [
          61.33333,
          50.66667
         ],
         "y": [
          "border compliance",
          "documentary compliance"
         ]
        },
        {
         "mode": "markers",
         "name": "Antigua and Barbuda",
         "type": "scatter",
         "x": [
          61.33333,
          50.66667
         ],
         "y": [
          "border compliance",
          "documentary compliance"
         ]
        },
        {
         "mode": "markers",
         "name": "Antigua and Barbuda",
         "type": "scatter",
         "x": [
          61.33333,
          50.66667
         ],
         "y": [
          "border compliance",
          "documentary compliance"
         ]
        },
        {
         "mode": "markers",
         "name": "Antigua and Barbuda",
         "type": "scatter",
         "x": [
          61.33333,
          50.66667
         ],
         "y": [
          "border compliance",
          "documentary compliance"
         ]
        },
        {
         "mode": "markers",
         "name": "Antigua and Barbuda",
         "type": "scatter",
         "x": [
          61.33333,
          50.66667
         ],
         "y": [
          "border compliance",
          "documentary compliance"
         ]
        },
        {
         "mode": "markers",
         "name": "Antigua and Barbuda",
         "type": "scatter",
         "x": [
          61.33333,
          50.66667
         ],
         "y": [
          "border compliance",
          "documentary compliance"
         ]
        },
        {
         "mode": "markers",
         "name": "Antigua and Barbuda",
         "type": "scatter",
         "x": [
          61.33333,
          50.66667
         ],
         "y": [
          "border compliance",
          "documentary compliance"
         ]
        },
        {
         "mode": "markers",
         "name": "Antigua and Barbuda",
         "type": "scatter",
         "x": [
          61.33333,
          50.66667
         ],
         "y": [
          "border compliance",
          "documentary compliance"
         ]
        },
        {
         "mode": "markers",
         "name": "Antigua and Barbuda",
         "type": "scatter",
         "x": [
          61.33333,
          50.66667
         ],
         "y": [
          "border compliance",
          "documentary compliance"
         ]
        },
        {
         "mode": "markers",
         "name": "Antigua and Barbuda",
         "type": "scatter",
         "x": [
          61.33333,
          50.66667
         ],
         "y": [
          "border compliance",
          "documentary compliance"
         ]
        },
        {
         "mode": "markers",
         "name": "Antigua and Barbuda",
         "type": "scatter",
         "x": [
          61.33333,
          50.66667
         ],
         "y": [
          "border compliance",
          "documentary compliance"
         ]
        },
        {
         "mode": "markers",
         "name": "Antigua and Barbuda",
         "type": "scatter",
         "x": [
          61.33333,
          50.66667
         ],
         "y": [
          "border compliance",
          "documentary compliance"
         ]
        },
        {
         "mode": "markers",
         "name": "Antigua and Barbuda",
         "type": "scatter",
         "x": [
          61.33333,
          50.66667
         ],
         "y": [
          "border compliance",
          "documentary compliance"
         ]
        },
        {
         "mode": "markers",
         "name": "Antigua and Barbuda",
         "type": "scatter",
         "x": [
          61.33333,
          50.66667
         ],
         "y": [
          "border compliance",
          "documentary compliance"
         ]
        },
        {
         "mode": "markers",
         "name": "Antigua and Barbuda",
         "type": "scatter",
         "x": [
          61.33333,
          50.66667
         ],
         "y": [
          "border compliance",
          "documentary compliance"
         ]
        },
        {
         "mode": "markers",
         "name": "Antigua and Barbuda",
         "type": "scatter",
         "x": [
          61.33333,
          50.66667
         ],
         "y": [
          "border compliance",
          "documentary compliance"
         ]
        },
        {
         "mode": "markers",
         "name": "Antigua and Barbuda",
         "type": "scatter",
         "x": [
          61.33333,
          50.66667
         ],
         "y": [
          "border compliance",
          "documentary compliance"
         ]
        },
        {
         "mode": "markers",
         "name": "Antigua and Barbuda",
         "type": "scatter",
         "x": [
          61.33333,
          50.66667
         ],
         "y": [
          "border compliance",
          "documentary compliance"
         ]
        },
        {
         "mode": "markers",
         "name": "Antigua and Barbuda",
         "type": "scatter",
         "x": [
          61.33333,
          50.66667
         ],
         "y": [
          "border compliance",
          "documentary compliance"
         ]
        },
        {
         "mode": "markers",
         "name": "Antigua and Barbuda",
         "type": "scatter",
         "x": [
          61.33333,
          50.66667
         ],
         "y": [
          "border compliance",
          "documentary compliance"
         ]
        },
        {
         "mode": "markers",
         "name": "Antigua and Barbuda",
         "type": "scatter",
         "x": [
          61.33333,
          50.66667
         ],
         "y": [
          "border compliance",
          "documentary compliance"
         ]
        },
        {
         "mode": "markers",
         "name": "Antigua and Barbuda",
         "type": "scatter",
         "x": [
          61.33333,
          50.66667
         ],
         "y": [
          "border compliance",
          "documentary compliance"
         ]
        },
        {
         "mode": "markers",
         "name": "Antigua and Barbuda",
         "type": "scatter",
         "x": [
          61.33333,
          50.66667
         ],
         "y": [
          "border compliance",
          "documentary compliance"
         ]
        },
        {
         "mode": "markers",
         "name": "Antigua and Barbuda",
         "type": "scatter",
         "x": [
          61.33333,
          50.66667
         ],
         "y": [
          "border compliance",
          "documentary compliance"
         ]
        },
        {
         "mode": "markers",
         "name": "Antigua and Barbuda",
         "type": "scatter",
         "x": [
          61.33333,
          50.66667
         ],
         "y": [
          "border compliance",
          "documentary compliance"
         ]
        },
        {
         "mode": "markers",
         "name": "Antigua and Barbuda",
         "type": "scatter",
         "x": [
          61.33333,
          50.66667
         ],
         "y": [
          "border compliance",
          "documentary compliance"
         ]
        },
        {
         "mode": "markers",
         "name": "Antigua and Barbuda",
         "type": "scatter",
         "x": [
          61.33333,
          50.66667
         ],
         "y": [
          "border compliance",
          "documentary compliance"
         ]
        },
        {
         "mode": "markers",
         "name": "Antigua and Barbuda",
         "type": "scatter",
         "x": [
          61.33333,
          50.66667
         ],
         "y": [
          "border compliance",
          "documentary compliance"
         ]
        },
        {
         "mode": "markers",
         "name": "Antigua and Barbuda",
         "type": "scatter",
         "x": [
          61.33333,
          50.66667
         ],
         "y": [
          "border compliance",
          "documentary compliance"
         ]
        },
        {
         "mode": "markers",
         "name": "Antigua and Barbuda",
         "type": "scatter",
         "x": [
          61.33333,
          50.66667
         ],
         "y": [
          "border compliance",
          "documentary compliance"
         ]
        },
        {
         "mode": "markers",
         "name": "Antigua and Barbuda",
         "type": "scatter",
         "x": [
          61.33333,
          50.66667
         ],
         "y": [
          "border compliance",
          "documentary compliance"
         ]
        },
        {
         "mode": "markers",
         "name": "Antigua and Barbuda",
         "type": "scatter",
         "x": [
          61.33333,
          50.66667
         ],
         "y": [
          "border compliance",
          "documentary compliance"
         ]
        },
        {
         "mode": "markers",
         "name": "Antigua and Barbuda",
         "type": "scatter",
         "x": [
          61.33333,
          50.66667
         ],
         "y": [
          "border compliance",
          "documentary compliance"
         ]
        },
        {
         "mode": "markers",
         "name": "Antigua and Barbuda",
         "type": "scatter",
         "x": [
          61.33333,
          50.66667
         ],
         "y": [
          "border compliance",
          "documentary compliance"
         ]
        },
        {
         "mode": "markers",
         "name": "Antigua and Barbuda",
         "type": "scatter",
         "x": [
          61.33333,
          50.66667
         ],
         "y": [
          "border compliance",
          "documentary compliance"
         ]
        },
        {
         "mode": "markers",
         "name": "Antigua and Barbuda",
         "type": "scatter",
         "x": [
          61.33333,
          50.66667
         ],
         "y": [
          "border compliance",
          "documentary compliance"
         ]
        },
        {
         "mode": "markers",
         "name": "Antigua and Barbuda",
         "type": "scatter",
         "x": [
          61.33333,
          50.66667
         ],
         "y": [
          "border compliance",
          "documentary compliance"
         ]
        },
        {
         "mode": "markers",
         "name": "Antigua and Barbuda",
         "type": "scatter",
         "x": [
          61.33333,
          50.66667
         ],
         "y": [
          "border compliance",
          "documentary compliance"
         ]
        },
        {
         "mode": "markers",
         "name": "Antigua and Barbuda",
         "type": "scatter",
         "x": [
          61.33333,
          50.66667
         ],
         "y": [
          "border compliance",
          "documentary compliance"
         ]
        },
        {
         "mode": "markers",
         "name": "Antigua and Barbuda",
         "type": "scatter",
         "x": [
          61.33333,
          50.66667
         ],
         "y": [
          "border compliance",
          "documentary compliance"
         ]
        },
        {
         "mode": "markers",
         "name": "Antigua and Barbuda",
         "type": "scatter",
         "x": [
          61.33333,
          50.66667
         ],
         "y": [
          "border compliance",
          "documentary compliance"
         ]
        },
        {
         "mode": "markers",
         "name": "Antigua and Barbuda",
         "type": "scatter",
         "x": [
          61.33333,
          50.66667
         ],
         "y": [
          "border compliance",
          "documentary compliance"
         ]
        },
        {
         "mode": "markers",
         "name": "Antigua and Barbuda",
         "type": "scatter",
         "x": [
          61.33333,
          50.66667
         ],
         "y": [
          "border compliance",
          "documentary compliance"
         ]
        },
        {
         "mode": "markers",
         "name": "Antigua and Barbuda",
         "type": "scatter",
         "x": [
          61.33333,
          50.66667
         ],
         "y": [
          "border compliance",
          "documentary compliance"
         ]
        },
        {
         "mode": "markers",
         "name": "Antigua and Barbuda",
         "type": "scatter",
         "x": [
          61.33333,
          50.66667
         ],
         "y": [
          "border compliance",
          "documentary compliance"
         ]
        },
        {
         "mode": "markers",
         "name": "Antigua and Barbuda",
         "type": "scatter",
         "x": [
          61.33333,
          50.66667
         ],
         "y": [
          "border compliance",
          "documentary compliance"
         ]
        },
        {
         "mode": "markers",
         "name": "Antigua and Barbuda",
         "type": "scatter",
         "x": [
          61.33333,
          50.66667
         ],
         "y": [
          "border compliance",
          "documentary compliance"
         ]
        },
        {
         "mode": "markers",
         "name": "Antigua and Barbuda",
         "type": "scatter",
         "x": [
          61.33333,
          50.66667
         ],
         "y": [
          "border compliance",
          "documentary compliance"
         ]
        },
        {
         "mode": "markers",
         "name": "Antigua and Barbuda",
         "type": "scatter",
         "x": [
          61.33333,
          50.66667
         ],
         "y": [
          "border compliance",
          "documentary compliance"
         ]
        },
        {
         "mode": "markers",
         "name": "Antigua and Barbuda",
         "type": "scatter",
         "x": [
          61.33333,
          50.66667
         ],
         "y": [
          "border compliance",
          "documentary compliance"
         ]
        },
        {
         "mode": "markers",
         "name": "Antigua and Barbuda",
         "type": "scatter",
         "x": [
          61.33333,
          50.66667
         ],
         "y": [
          "border compliance",
          "documentary compliance"
         ]
        },
        {
         "mode": "markers",
         "name": "Antigua and Barbuda",
         "type": "scatter",
         "x": [
          61.33333,
          50.66667
         ],
         "y": [
          "border compliance",
          "documentary compliance"
         ]
        },
        {
         "mode": "markers",
         "name": "Antigua and Barbuda",
         "type": "scatter",
         "x": [
          61.33333,
          50.66667
         ],
         "y": [
          "border compliance",
          "documentary compliance"
         ]
        },
        {
         "mode": "markers",
         "name": "Antigua and Barbuda",
         "type": "scatter",
         "x": [
          61.33333,
          50.66667
         ],
         "y": [
          "border compliance",
          "documentary compliance"
         ]
        },
        {
         "mode": "markers",
         "name": "Antigua and Barbuda",
         "type": "scatter",
         "x": [
          61.33333,
          50.66667
         ],
         "y": [
          "border compliance",
          "documentary compliance"
         ]
        },
        {
         "mode": "markers",
         "name": "Antigua and Barbuda",
         "type": "scatter",
         "x": [
          61.33333,
          50.66667
         ],
         "y": [
          "border compliance",
          "documentary compliance"
         ]
        },
        {
         "mode": "markers",
         "name": "Antigua and Barbuda",
         "type": "scatter",
         "x": [
          61.33333,
          50.66667
         ],
         "y": [
          "border compliance",
          "documentary compliance"
         ]
        },
        {
         "mode": "markers",
         "name": "Antigua and Barbuda",
         "type": "scatter",
         "x": [
          61.33333,
          50.66667
         ],
         "y": [
          "border compliance",
          "documentary compliance"
         ]
        },
        {
         "mode": "markers",
         "name": "Antigua and Barbuda",
         "type": "scatter",
         "x": [
          61.33333,
          50.66667
         ],
         "y": [
          "border compliance",
          "documentary compliance"
         ]
        },
        {
         "mode": "markers",
         "name": "Antigua and Barbuda",
         "type": "scatter",
         "x": [
          61.33333,
          50.66667
         ],
         "y": [
          "border compliance",
          "documentary compliance"
         ]
        },
        {
         "mode": "markers",
         "name": "Antigua and Barbuda",
         "type": "scatter",
         "x": [
          61.33333,
          50.66667
         ],
         "y": [
          "border compliance",
          "documentary compliance"
         ]
        },
        {
         "mode": "markers",
         "name": "Antigua and Barbuda",
         "type": "scatter",
         "x": [
          61.33333,
          50.66667
         ],
         "y": [
          "border compliance",
          "documentary compliance"
         ]
        }
       ],
       "layout": {
        "template": {
         "data": {
          "bar": [
           {
            "error_x": {
             "color": "#2a3f5f"
            },
            "error_y": {
             "color": "#2a3f5f"
            },
            "marker": {
             "line": {
              "color": "#E5ECF6",
              "width": 0.5
             },
             "pattern": {
              "fillmode": "overlay",
              "size": 10,
              "solidity": 0.2
             }
            },
            "type": "bar"
           }
          ],
          "barpolar": [
           {
            "marker": {
             "line": {
              "color": "#E5ECF6",
              "width": 0.5
             },
             "pattern": {
              "fillmode": "overlay",
              "size": 10,
              "solidity": 0.2
             }
            },
            "type": "barpolar"
           }
          ],
          "carpet": [
           {
            "aaxis": {
             "endlinecolor": "#2a3f5f",
             "gridcolor": "white",
             "linecolor": "white",
             "minorgridcolor": "white",
             "startlinecolor": "#2a3f5f"
            },
            "baxis": {
             "endlinecolor": "#2a3f5f",
             "gridcolor": "white",
             "linecolor": "white",
             "minorgridcolor": "white",
             "startlinecolor": "#2a3f5f"
            },
            "type": "carpet"
           }
          ],
          "choropleth": [
           {
            "colorbar": {
             "outlinewidth": 0,
             "ticks": ""
            },
            "type": "choropleth"
           }
          ],
          "contour": [
           {
            "colorbar": {
             "outlinewidth": 0,
             "ticks": ""
            },
            "colorscale": [
             [
              0,
              "#0d0887"
             ],
             [
              0.1111111111111111,
              "#46039f"
             ],
             [
              0.2222222222222222,
              "#7201a8"
             ],
             [
              0.3333333333333333,
              "#9c179e"
             ],
             [
              0.4444444444444444,
              "#bd3786"
             ],
             [
              0.5555555555555556,
              "#d8576b"
             ],
             [
              0.6666666666666666,
              "#ed7953"
             ],
             [
              0.7777777777777778,
              "#fb9f3a"
             ],
             [
              0.8888888888888888,
              "#fdca26"
             ],
             [
              1,
              "#f0f921"
             ]
            ],
            "type": "contour"
           }
          ],
          "contourcarpet": [
           {
            "colorbar": {
             "outlinewidth": 0,
             "ticks": ""
            },
            "type": "contourcarpet"
           }
          ],
          "heatmap": [
           {
            "colorbar": {
             "outlinewidth": 0,
             "ticks": ""
            },
            "colorscale": [
             [
              0,
              "#0d0887"
             ],
             [
              0.1111111111111111,
              "#46039f"
             ],
             [
              0.2222222222222222,
              "#7201a8"
             ],
             [
              0.3333333333333333,
              "#9c179e"
             ],
             [
              0.4444444444444444,
              "#bd3786"
             ],
             [
              0.5555555555555556,
              "#d8576b"
             ],
             [
              0.6666666666666666,
              "#ed7953"
             ],
             [
              0.7777777777777778,
              "#fb9f3a"
             ],
             [
              0.8888888888888888,
              "#fdca26"
             ],
             [
              1,
              "#f0f921"
             ]
            ],
            "type": "heatmap"
           }
          ],
          "heatmapgl": [
           {
            "colorbar": {
             "outlinewidth": 0,
             "ticks": ""
            },
            "colorscale": [
             [
              0,
              "#0d0887"
             ],
             [
              0.1111111111111111,
              "#46039f"
             ],
             [
              0.2222222222222222,
              "#7201a8"
             ],
             [
              0.3333333333333333,
              "#9c179e"
             ],
             [
              0.4444444444444444,
              "#bd3786"
             ],
             [
              0.5555555555555556,
              "#d8576b"
             ],
             [
              0.6666666666666666,
              "#ed7953"
             ],
             [
              0.7777777777777778,
              "#fb9f3a"
             ],
             [
              0.8888888888888888,
              "#fdca26"
             ],
             [
              1,
              "#f0f921"
             ]
            ],
            "type": "heatmapgl"
           }
          ],
          "histogram": [
           {
            "marker": {
             "pattern": {
              "fillmode": "overlay",
              "size": 10,
              "solidity": 0.2
             }
            },
            "type": "histogram"
           }
          ],
          "histogram2d": [
           {
            "colorbar": {
             "outlinewidth": 0,
             "ticks": ""
            },
            "colorscale": [
             [
              0,
              "#0d0887"
             ],
             [
              0.1111111111111111,
              "#46039f"
             ],
             [
              0.2222222222222222,
              "#7201a8"
             ],
             [
              0.3333333333333333,
              "#9c179e"
             ],
             [
              0.4444444444444444,
              "#bd3786"
             ],
             [
              0.5555555555555556,
              "#d8576b"
             ],
             [
              0.6666666666666666,
              "#ed7953"
             ],
             [
              0.7777777777777778,
              "#fb9f3a"
             ],
             [
              0.8888888888888888,
              "#fdca26"
             ],
             [
              1,
              "#f0f921"
             ]
            ],
            "type": "histogram2d"
           }
          ],
          "histogram2dcontour": [
           {
            "colorbar": {
             "outlinewidth": 0,
             "ticks": ""
            },
            "colorscale": [
             [
              0,
              "#0d0887"
             ],
             [
              0.1111111111111111,
              "#46039f"
             ],
             [
              0.2222222222222222,
              "#7201a8"
             ],
             [
              0.3333333333333333,
              "#9c179e"
             ],
             [
              0.4444444444444444,
              "#bd3786"
             ],
             [
              0.5555555555555556,
              "#d8576b"
             ],
             [
              0.6666666666666666,
              "#ed7953"
             ],
             [
              0.7777777777777778,
              "#fb9f3a"
             ],
             [
              0.8888888888888888,
              "#fdca26"
             ],
             [
              1,
              "#f0f921"
             ]
            ],
            "type": "histogram2dcontour"
           }
          ],
          "mesh3d": [
           {
            "colorbar": {
             "outlinewidth": 0,
             "ticks": ""
            },
            "type": "mesh3d"
           }
          ],
          "parcoords": [
           {
            "line": {
             "colorbar": {
              "outlinewidth": 0,
              "ticks": ""
             }
            },
            "type": "parcoords"
           }
          ],
          "pie": [
           {
            "automargin": true,
            "type": "pie"
           }
          ],
          "scatter": [
           {
            "fillpattern": {
             "fillmode": "overlay",
             "size": 10,
             "solidity": 0.2
            },
            "type": "scatter"
           }
          ],
          "scatter3d": [
           {
            "line": {
             "colorbar": {
              "outlinewidth": 0,
              "ticks": ""
             }
            },
            "marker": {
             "colorbar": {
              "outlinewidth": 0,
              "ticks": ""
             }
            },
            "type": "scatter3d"
           }
          ],
          "scattercarpet": [
           {
            "marker": {
             "colorbar": {
              "outlinewidth": 0,
              "ticks": ""
             }
            },
            "type": "scattercarpet"
           }
          ],
          "scattergeo": [
           {
            "marker": {
             "colorbar": {
              "outlinewidth": 0,
              "ticks": ""
             }
            },
            "type": "scattergeo"
           }
          ],
          "scattergl": [
           {
            "marker": {
             "colorbar": {
              "outlinewidth": 0,
              "ticks": ""
             }
            },
            "type": "scattergl"
           }
          ],
          "scattermapbox": [
           {
            "marker": {
             "colorbar": {
              "outlinewidth": 0,
              "ticks": ""
             }
            },
            "type": "scattermapbox"
           }
          ],
          "scatterpolar": [
           {
            "marker": {
             "colorbar": {
              "outlinewidth": 0,
              "ticks": ""
             }
            },
            "type": "scatterpolar"
           }
          ],
          "scatterpolargl": [
           {
            "marker": {
             "colorbar": {
              "outlinewidth": 0,
              "ticks": ""
             }
            },
            "type": "scatterpolargl"
           }
          ],
          "scatterternary": [
           {
            "marker": {
             "colorbar": {
              "outlinewidth": 0,
              "ticks": ""
             }
            },
            "type": "scatterternary"
           }
          ],
          "surface": [
           {
            "colorbar": {
             "outlinewidth": 0,
             "ticks": ""
            },
            "colorscale": [
             [
              0,
              "#0d0887"
             ],
             [
              0.1111111111111111,
              "#46039f"
             ],
             [
              0.2222222222222222,
              "#7201a8"
             ],
             [
              0.3333333333333333,
              "#9c179e"
             ],
             [
              0.4444444444444444,
              "#bd3786"
             ],
             [
              0.5555555555555556,
              "#d8576b"
             ],
             [
              0.6666666666666666,
              "#ed7953"
             ],
             [
              0.7777777777777778,
              "#fb9f3a"
             ],
             [
              0.8888888888888888,
              "#fdca26"
             ],
             [
              1,
              "#f0f921"
             ]
            ],
            "type": "surface"
           }
          ],
          "table": [
           {
            "cells": {
             "fill": {
              "color": "#EBF0F8"
             },
             "line": {
              "color": "white"
             }
            },
            "header": {
             "fill": {
              "color": "#C8D4E3"
             },
             "line": {
              "color": "white"
             }
            },
            "type": "table"
           }
          ]
         },
         "layout": {
          "annotationdefaults": {
           "arrowcolor": "#2a3f5f",
           "arrowhead": 0,
           "arrowwidth": 1
          },
          "autotypenumbers": "strict",
          "coloraxis": {
           "colorbar": {
            "outlinewidth": 0,
            "ticks": ""
           }
          },
          "colorscale": {
           "diverging": [
            [
             0,
             "#8e0152"
            ],
            [
             0.1,
             "#c51b7d"
            ],
            [
             0.2,
             "#de77ae"
            ],
            [
             0.3,
             "#f1b6da"
            ],
            [
             0.4,
             "#fde0ef"
            ],
            [
             0.5,
             "#f7f7f7"
            ],
            [
             0.6,
             "#e6f5d0"
            ],
            [
             0.7,
             "#b8e186"
            ],
            [
             0.8,
             "#7fbc41"
            ],
            [
             0.9,
             "#4d9221"
            ],
            [
             1,
             "#276419"
            ]
           ],
           "sequential": [
            [
             0,
             "#0d0887"
            ],
            [
             0.1111111111111111,
             "#46039f"
            ],
            [
             0.2222222222222222,
             "#7201a8"
            ],
            [
             0.3333333333333333,
             "#9c179e"
            ],
            [
             0.4444444444444444,
             "#bd3786"
            ],
            [
             0.5555555555555556,
             "#d8576b"
            ],
            [
             0.6666666666666666,
             "#ed7953"
            ],
            [
             0.7777777777777778,
             "#fb9f3a"
            ],
            [
             0.8888888888888888,
             "#fdca26"
            ],
            [
             1,
             "#f0f921"
            ]
           ],
           "sequentialminus": [
            [
             0,
             "#0d0887"
            ],
            [
             0.1111111111111111,
             "#46039f"
            ],
            [
             0.2222222222222222,
             "#7201a8"
            ],
            [
             0.3333333333333333,
             "#9c179e"
            ],
            [
             0.4444444444444444,
             "#bd3786"
            ],
            [
             0.5555555555555556,
             "#d8576b"
            ],
            [
             0.6666666666666666,
             "#ed7953"
            ],
            [
             0.7777777777777778,
             "#fb9f3a"
            ],
            [
             0.8888888888888888,
             "#fdca26"
            ],
            [
             1,
             "#f0f921"
            ]
           ]
          },
          "colorway": [
           "#636efa",
           "#EF553B",
           "#00cc96",
           "#ab63fa",
           "#FFA15A",
           "#19d3f3",
           "#FF6692",
           "#B6E880",
           "#FF97FF",
           "#FECB52"
          ],
          "font": {
           "color": "#2a3f5f"
          },
          "geo": {
           "bgcolor": "white",
           "lakecolor": "white",
           "landcolor": "#E5ECF6",
           "showlakes": true,
           "showland": true,
           "subunitcolor": "white"
          },
          "hoverlabel": {
           "align": "left"
          },
          "hovermode": "closest",
          "mapbox": {
           "style": "light"
          },
          "paper_bgcolor": "white",
          "plot_bgcolor": "#E5ECF6",
          "polar": {
           "angularaxis": {
            "gridcolor": "white",
            "linecolor": "white",
            "ticks": ""
           },
           "bgcolor": "#E5ECF6",
           "radialaxis": {
            "gridcolor": "white",
            "linecolor": "white",
            "ticks": ""
           }
          },
          "scene": {
           "xaxis": {
            "backgroundcolor": "#E5ECF6",
            "gridcolor": "white",
            "gridwidth": 2,
            "linecolor": "white",
            "showbackground": true,
            "ticks": "",
            "zerolinecolor": "white"
           },
           "yaxis": {
            "backgroundcolor": "#E5ECF6",
            "gridcolor": "white",
            "gridwidth": 2,
            "linecolor": "white",
            "showbackground": true,
            "ticks": "",
            "zerolinecolor": "white"
           },
           "zaxis": {
            "backgroundcolor": "#E5ECF6",
            "gridcolor": "white",
            "gridwidth": 2,
            "linecolor": "white",
            "showbackground": true,
            "ticks": "",
            "zerolinecolor": "white"
           }
          },
          "shapedefaults": {
           "line": {
            "color": "#2a3f5f"
           }
          },
          "ternary": {
           "aaxis": {
            "gridcolor": "white",
            "linecolor": "white",
            "ticks": ""
           },
           "baxis": {
            "gridcolor": "white",
            "linecolor": "white",
            "ticks": ""
           },
           "bgcolor": "#E5ECF6",
           "caxis": {
            "gridcolor": "white",
            "linecolor": "white",
            "ticks": ""
           }
          },
          "title": {
           "x": 0.05
          },
          "xaxis": {
           "automargin": true,
           "gridcolor": "white",
           "linecolor": "white",
           "ticks": "",
           "title": {
            "standoff": 15
           },
           "zerolinecolor": "white",
           "zerolinewidth": 2
          },
          "yaxis": {
           "automargin": true,
           "gridcolor": "white",
           "linecolor": "white",
           "ticks": "",
           "title": {
            "standoff": 15
           },
           "zerolinecolor": "white",
           "zerolinewidth": 2
          }
         }
        },
        "xaxis": {
         "title": {
          "text": "Time (Hours)"
         }
        }
       }
      }
     },
     "metadata": {},
     "output_type": "display_data"
    }
   ],
   "source": [
    "# for country in countries:\n",
    "#     for year in years:\n",
    "#         # fig.add_trace(go.Scatter(\n",
    "#         # x=\n",
    "#         df[(df[\"Series Name\"]=='Time to export, border compliance (hours)') &\n",
    "#             (df[\"Country Name\"]==i) &\n",
    "#             (df[\"year\"]==year)][\"value\"].values.tolist(),\n",
    "#         # y=type,\n",
    "#         # #marker=dict(color=\"crimson\", size=12),\n",
    "#         # mode=\"markers\",\n",
    "#         # name=i,\n",
    "#         # ))\n",
    "# #fig.show()"
   ]
  },
  {
   "cell_type": "code",
   "execution_count": 16,
   "metadata": {},
   "outputs": [
    {
     "data": {
      "text/plain": [
       "[61.33333,\n",
       " 50.66667,\n",
       " 61.33333,\n",
       " 50.66667,\n",
       " 61.33333,\n",
       " 50.66667,\n",
       " 61.33333,\n",
       " 50.66667,\n",
       " 61.33333,\n",
       " 50.66667]"
      ]
     },
     "execution_count": 16,
     "metadata": {},
     "output_type": "execute_result"
    }
   ],
   "source": [
    "years = [\"2014\", \"2015\", \"2016\", \"2017\", \"2018\"]\n",
    "df[(df[\"Series Name\"]=='Time to export, border compliance (hours)') |\n",
    "       (df[\"Series Name\"]=='Time to export, documentary compliance (hours)') &\n",
    "       (df[\"Country Name\"]==i) &\n",
    "       (df[\"year\"].isin(years))][\"value\"].values.tolist()"
   ]
  },
  {
   "cell_type": "code",
   "execution_count": null,
   "metadata": {},
   "outputs": [],
   "source": []
  }
 ],
 "metadata": {
  "kernelspec": {
   "display_name": "base",
   "language": "python",
   "name": "python3"
  },
  "language_info": {
   "codemirror_mode": {
    "name": "ipython",
    "version": 3
   },
   "file_extension": ".py",
   "mimetype": "text/x-python",
   "name": "python",
   "nbconvert_exporter": "python",
   "pygments_lexer": "ipython3",
   "version": "3.9.13"
  },
  "orig_nbformat": 4,
  "vscode": {
   "interpreter": {
    "hash": "c2f9328c4057bdb5fbe50953ede31cc7e15ec368bd827de0c4f10bbd6d3b74b9"
   }
  }
 },
 "nbformat": 4,
 "nbformat_minor": 2
}

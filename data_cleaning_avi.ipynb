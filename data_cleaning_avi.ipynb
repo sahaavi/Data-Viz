{
 "cells": [
  {
   "cell_type": "code",
   "execution_count": 10,
   "metadata": {},
   "outputs": [],
   "source": [
    "import pandas as pd\n",
    "df = pd.read_csv('datasets/melted_data.csv')\n",
    "df['year'] = df['year'].astype(str)"
   ]
  },
  {
   "cell_type": "code",
   "execution_count": 2,
   "metadata": {},
   "outputs": [
    {
     "data": {
      "text/plain": [
       "Index(['Country Name', 'Series Name', 'year', 'value'], dtype='object')"
      ]
     },
     "execution_count": 2,
     "metadata": {},
     "output_type": "execute_result"
    }
   ],
   "source": [
    "df.columns"
   ]
  },
  {
   "cell_type": "code",
   "execution_count": 14,
   "metadata": {},
   "outputs": [
    {
     "data": {
      "text/plain": [
       "array(['Cost of business start-up procedures (% of GNI per capita)',\n",
       "       'Cost of business start-up procedures, female (% of GNI per capita)',\n",
       "       'Cost of business start-up procedures, male (% of GNI per capita)',\n",
       "       'Time required to start a business (days)',\n",
       "       'Time required to start a business, female (days)',\n",
       "       'Time required to start a business, male (days)',\n",
       "       'Unemployment with advanced education (% of total labor force with advanced education)',\n",
       "       'Unemployment with advanced education, female (% of female labor force with advanced education)',\n",
       "       'Unemployment with advanced education, male (% of male labor force with advanced education)',\n",
       "       'Unemployment with basic education (% of total labor force with basic education)',\n",
       "       'Unemployment with basic education, female (% of female labor force with basic education)',\n",
       "       'Unemployment with basic education, male (% of male labor force with basic education)',\n",
       "       'Unemployment with intermediate education (% of total labor force with intermediate education)',\n",
       "       'Unemployment with intermediate education, female (% of female labor force with intermediate education)',\n",
       "       'Unemployment with intermediate education, male (% of male labor force with intermediate education)',\n",
       "       'Interest rate spread (lending rate minus deposit rate, %)',\n",
       "       'Average time to clear exports through customs (days)',\n",
       "       'Logistics performance index: Overall (1=low to 5=high)',\n",
       "       'Time to export, border compliance (hours)',\n",
       "       'Time to export, documentary compliance (hours)',\n",
       "       'Time to import, border compliance (hours)',\n",
       "       'Time to import, documentary compliance (hours)'], dtype=object)"
      ]
     },
     "execution_count": 14,
     "metadata": {},
     "output_type": "execute_result"
    }
   ],
   "source": [
    "df['Series Name'].unique()"
   ]
  },
  {
   "cell_type": "code",
   "execution_count": 11,
   "metadata": {},
   "outputs": [
    {
     "data": {
      "text/html": [
       "\n",
       "<div id=\"altair-viz-2ac62eb812e04eeabbe4e4d1c17844bc\"></div>\n",
       "<script type=\"text/javascript\">\n",
       "  (function(spec, embedOpt){\n",
       "    let outputDiv = document.currentScript.previousElementSibling;\n",
       "    if (outputDiv.id !== \"altair-viz-2ac62eb812e04eeabbe4e4d1c17844bc\") {\n",
       "      outputDiv = document.getElementById(\"altair-viz-2ac62eb812e04eeabbe4e4d1c17844bc\");\n",
       "    }\n",
       "    const paths = {\n",
       "      \"vega\": \"https://cdn.jsdelivr.net/npm//vega@5?noext\",\n",
       "      \"vega-lib\": \"https://cdn.jsdelivr.net/npm//vega-lib?noext\",\n",
       "      \"vega-lite\": \"https://cdn.jsdelivr.net/npm//vega-lite@4.8.1?noext\",\n",
       "      \"vega-embed\": \"https://cdn.jsdelivr.net/npm//vega-embed@6?noext\",\n",
       "    };\n",
       "\n",
       "    function loadScript(lib) {\n",
       "      return new Promise(function(resolve, reject) {\n",
       "        var s = document.createElement('script');\n",
       "        s.src = paths[lib];\n",
       "        s.async = true;\n",
       "        s.onload = () => resolve(paths[lib]);\n",
       "        s.onerror = () => reject(`Error loading script: ${paths[lib]}`);\n",
       "        document.getElementsByTagName(\"head\")[0].appendChild(s);\n",
       "      });\n",
       "    }\n",
       "\n",
       "    function showError(err) {\n",
       "      outputDiv.innerHTML = `<div class=\"error\" style=\"color:red;\">${err}</div>`;\n",
       "      throw err;\n",
       "    }\n",
       "\n",
       "    function displayChart(vegaEmbed) {\n",
       "      vegaEmbed(outputDiv, spec, embedOpt)\n",
       "        .catch(err => showError(`Javascript Error: ${err.message}<br>This usually means there's a typo in your chart specification. See the javascript console for the full traceback.`));\n",
       "    }\n",
       "\n",
       "    if(typeof define === \"function\" && define.amd) {\n",
       "      requirejs.config({paths});\n",
       "      require([\"vega-embed\"], displayChart, err => showError(`Error loading script: ${err.message}`));\n",
       "    } else if (typeof vegaEmbed === \"function\") {\n",
       "      displayChart(vegaEmbed);\n",
       "    } else {\n",
       "      loadScript(\"vega\")\n",
       "        .then(() => loadScript(\"vega-lite\"))\n",
       "        .then(() => loadScript(\"vega-embed\"))\n",
       "        .catch(showError)\n",
       "        .then(() => displayChart(vegaEmbed));\n",
       "    }\n",
       "  })({\"config\": {\"view\": {\"continuousWidth\": 400, \"continuousHeight\": 300}}, \"data\": {\"name\": \"data-c09e99e2c9930e971845168b2e7b51d3\"}, \"mark\": \"bar\", \"encoding\": {\"color\": {\"type\": \"nominal\", \"field\": \"Country Name\"}, \"column\": {\"type\": \"nominal\", \"field\": \"year\", \"title\": null}, \"tooltip\": [{\"type\": \"nominal\", \"field\": \"Country Name\"}, {\"type\": \"nominal\", \"field\": \"year\"}, {\"type\": \"quantitative\", \"field\": \"value\"}], \"x\": {\"type\": \"nominal\", \"field\": \"Country Name\", \"title\": null}, \"y\": {\"type\": \"quantitative\", \"field\": \"value\", \"title\": \"Days\"}}, \"$schema\": \"https://vega.github.io/schema/vega-lite/v4.8.1.json\", \"datasets\": {\"data-c09e99e2c9930e971845168b2e7b51d3\": [{\"Country Name\": \"Afghanistan\", \"Series Name\": \"Average time to clear exports through customs (days)\", \"year\": \"2014\", \"value\": 8.1}, {\"Country Name\": \"India\", \"Series Name\": \"Average time to clear exports through customs (days)\", \"year\": \"2014\", \"value\": 5.8}, {\"Country Name\": \"Myanmar\", \"Series Name\": \"Average time to clear exports through customs (days)\", \"year\": \"2014\", \"value\": 4.4}, {\"Country Name\": \"Namibia\", \"Series Name\": \"Average time to clear exports through customs (days)\", \"year\": \"2014\", \"value\": 8.2}, {\"Country Name\": \"Nigeria\", \"Series Name\": \"Average time to clear exports through customs (days)\", \"year\": \"2014\", \"value\": 6.0}, {\"Country Name\": \"Senegal\", \"Series Name\": \"Average time to clear exports through customs (days)\", \"year\": \"2014\", \"value\": 7.1}, {\"Country Name\": \"Sweden\", \"Series Name\": \"Average time to clear exports through customs (days)\", \"year\": \"2014\", \"value\": 2.4}, {\"Country Name\": \"Ethiopia\", \"Series Name\": \"Average time to clear exports through customs (days)\", \"year\": \"2015\", \"value\": 7.7}, {\"Country Name\": \"Indonesia\", \"Series Name\": \"Average time to clear exports through customs (days)\", \"year\": \"2015\", \"value\": 8.3}, {\"Country Name\": \"Malaysia\", \"Series Name\": \"Average time to clear exports through customs (days)\", \"year\": \"2015\", \"value\": 6.3}, {\"Country Name\": \"Solomon Islands\", \"Series Name\": \"Average time to clear exports through customs (days)\", \"year\": \"2015\", \"value\": 6.3}, {\"Country Name\": \"Timor-Leste\", \"Series Name\": \"Average time to clear exports through customs (days)\", \"year\": \"2015\", \"value\": 6.3}, {\"Country Name\": \"Vietnam\", \"Series Name\": \"Average time to clear exports through customs (days)\", \"year\": \"2015\", \"value\": 6.9}, {\"Country Name\": \"Cambodia\", \"Series Name\": \"Average time to clear exports through customs (days)\", \"year\": \"2016\", \"value\": 4.9}, {\"Country Name\": \"Cameroon\", \"Series Name\": \"Average time to clear exports through customs (days)\", \"year\": \"2016\", \"value\": 6.7}, {\"Country Name\": \"Dominican Republic\", \"Series Name\": \"Average time to clear exports through customs (days)\", \"year\": \"2016\", \"value\": 9.4}, {\"Country Name\": \"Egypt, Arab Rep.\", \"Series Name\": \"Average time to clear exports through customs (days)\", \"year\": \"2016\", \"value\": 7.5}, {\"Country Name\": \"El Salvador\", \"Series Name\": \"Average time to clear exports through customs (days)\", \"year\": \"2016\", \"value\": 2.9}, {\"Country Name\": \"Eswatini\", \"Series Name\": \"Average time to clear exports through customs (days)\", \"year\": \"2016\", \"value\": 4.1}, {\"Country Name\": \"Honduras\", \"Series Name\": \"Average time to clear exports through customs (days)\", \"year\": \"2016\", \"value\": 3.8}, {\"Country Name\": \"Lao PDR\", \"Series Name\": \"Average time to clear exports through customs (days)\", \"year\": \"2016\", \"value\": 2.0}, {\"Country Name\": \"Lesotho\", \"Series Name\": \"Average time to clear exports through customs (days)\", \"year\": \"2016\", \"value\": 4.0}, {\"Country Name\": \"Nicaragua\", \"Series Name\": \"Average time to clear exports through customs (days)\", \"year\": \"2016\", \"value\": 5.2}, {\"Country Name\": \"Thailand\", \"Series Name\": \"Average time to clear exports through customs (days)\", \"year\": \"2016\", \"value\": 1.9}, {\"Country Name\": \"Togo\", \"Series Name\": \"Average time to clear exports through customs (days)\", \"year\": \"2016\", \"value\": 8.2}, {\"Country Name\": \"Zimbabwe\", \"Series Name\": \"Average time to clear exports through customs (days)\", \"year\": \"2016\", \"value\": 5.9}, {\"Country Name\": \"Argentina\", \"Series Name\": \"Average time to clear exports through customs (days)\", \"year\": \"2017\", \"value\": 6.5}, {\"Country Name\": \"Bolivia\", \"Series Name\": \"Average time to clear exports through customs (days)\", \"year\": \"2017\", \"value\": 9.7}, {\"Country Name\": \"Ecuador\", \"Series Name\": \"Average time to clear exports through customs (days)\", \"year\": \"2017\", \"value\": 9.2}, {\"Country Name\": \"Guatemala\", \"Series Name\": \"Average time to clear exports through customs (days)\", \"year\": \"2017\", \"value\": 4.5}, {\"Country Name\": \"Paraguay\", \"Series Name\": \"Average time to clear exports through customs (days)\", \"year\": \"2017\", \"value\": 8.6}, {\"Country Name\": \"Peru\", \"Series Name\": \"Average time to clear exports through customs (days)\", \"year\": \"2017\", \"value\": 8.4}, {\"Country Name\": \"Uruguay\", \"Series Name\": \"Average time to clear exports through customs (days)\", \"year\": \"2017\", \"value\": 2.1}, {\"Country Name\": \"Belarus\", \"Series Name\": \"Average time to clear exports through customs (days)\", \"year\": \"2018\", \"value\": 1.4}, {\"Country Name\": \"Gambia, The\", \"Series Name\": \"Average time to clear exports through customs (days)\", \"year\": \"2018\", \"value\": 4.8}, {\"Country Name\": \"Greece\", \"Series Name\": \"Average time to clear exports through customs (days)\", \"year\": \"2018\", \"value\": 2.4}, {\"Country Name\": \"Kenya\", \"Series Name\": \"Average time to clear exports through customs (days)\", \"year\": \"2018\", \"value\": 9.7}, {\"Country Name\": \"Lao PDR\", \"Series Name\": \"Average time to clear exports through customs (days)\", \"year\": \"2018\", \"value\": 7.2}, {\"Country Name\": \"Albania\", \"Series Name\": \"Average time to clear exports through customs (days)\", \"year\": \"2019\", \"value\": 1.1}, {\"Country Name\": \"Azerbaijan\", \"Series Name\": \"Average time to clear exports through customs (days)\", \"year\": \"2019\", \"value\": 2.9}, {\"Country Name\": \"Bosnia and Herzegovina\", \"Series Name\": \"Average time to clear exports through customs (days)\", \"year\": \"2019\", \"value\": 1.3}, {\"Country Name\": \"Bulgaria\", \"Series Name\": \"Average time to clear exports through customs (days)\", \"year\": \"2019\", \"value\": 4.8}, {\"Country Name\": \"Croatia\", \"Series Name\": \"Average time to clear exports through customs (days)\", \"year\": \"2019\", \"value\": 2.1}, {\"Country Name\": \"Czechia\", \"Series Name\": \"Average time to clear exports through customs (days)\", \"year\": \"2019\", \"value\": 3.8}, {\"Country Name\": \"Estonia\", \"Series Name\": \"Average time to clear exports through customs (days)\", \"year\": \"2019\", \"value\": 1.8}, {\"Country Name\": \"Georgia\", \"Series Name\": \"Average time to clear exports through customs (days)\", \"year\": \"2019\", \"value\": 2.5}, {\"Country Name\": \"Hungary\", \"Series Name\": \"Average time to clear exports through customs (days)\", \"year\": \"2019\", \"value\": 1.9}, {\"Country Name\": \"Italy\", \"Series Name\": \"Average time to clear exports through customs (days)\", \"year\": \"2019\", \"value\": 5.5}, {\"Country Name\": \"Jordan\", \"Series Name\": \"Average time to clear exports through customs (days)\", \"year\": \"2019\", \"value\": 4.7}, {\"Country Name\": \"Kazakhstan\", \"Series Name\": \"Average time to clear exports through customs (days)\", \"year\": \"2019\", \"value\": 9.0}, {\"Country Name\": \"Kosovo\", \"Series Name\": \"Average time to clear exports through customs (days)\", \"year\": \"2019\", \"value\": 2.8}, {\"Country Name\": \"Kyrgyz Republic\", \"Series Name\": \"Average time to clear exports through customs (days)\", \"year\": \"2019\", \"value\": 1.8}, {\"Country Name\": \"Latvia\", \"Series Name\": \"Average time to clear exports through customs (days)\", \"year\": \"2019\", \"value\": 2.1}, {\"Country Name\": \"Lithuania\", \"Series Name\": \"Average time to clear exports through customs (days)\", \"year\": \"2019\", \"value\": 4.0}, {\"Country Name\": \"Malaysia\", \"Series Name\": \"Average time to clear exports through customs (days)\", \"year\": \"2019\", \"value\": 4.6}, {\"Country Name\": \"Malta\", \"Series Name\": \"Average time to clear exports through customs (days)\", \"year\": \"2019\", \"value\": 3.5}, {\"Country Name\": \"Moldova\", \"Series Name\": \"Average time to clear exports through customs (days)\", \"year\": \"2019\", \"value\": 2.3}, {\"Country Name\": \"Mongolia\", \"Series Name\": \"Average time to clear exports through customs (days)\", \"year\": \"2019\", \"value\": 4.6}, {\"Country Name\": \"Montenegro\", \"Series Name\": \"Average time to clear exports through customs (days)\", \"year\": \"2019\", \"value\": 1.3}, {\"Country Name\": \"Morocco\", \"Series Name\": \"Average time to clear exports through customs (days)\", \"year\": \"2019\", \"value\": 6.7}, {\"Country Name\": \"North Macedonia\", \"Series Name\": \"Average time to clear exports through customs (days)\", \"year\": \"2019\", \"value\": 4.4}, {\"Country Name\": \"Poland\", \"Series Name\": \"Average time to clear exports through customs (days)\", \"year\": \"2019\", \"value\": 3.1}, {\"Country Name\": \"Romania\", \"Series Name\": \"Average time to clear exports through customs (days)\", \"year\": \"2019\", \"value\": 3.2}, {\"Country Name\": \"Rwanda\", \"Series Name\": \"Average time to clear exports through customs (days)\", \"year\": \"2019\", \"value\": 8.0}, {\"Country Name\": \"Serbia\", \"Series Name\": \"Average time to clear exports through customs (days)\", \"year\": \"2019\", \"value\": 1.6}, {\"Country Name\": \"Slovak Republic\", \"Series Name\": \"Average time to clear exports through customs (days)\", \"year\": \"2019\", \"value\": 2.5}, {\"Country Name\": \"Slovenia\", \"Series Name\": \"Average time to clear exports through customs (days)\", \"year\": \"2019\", \"value\": 4.7}, {\"Country Name\": \"Tajikistan\", \"Series Name\": \"Average time to clear exports through customs (days)\", \"year\": \"2019\", \"value\": 2.1}, {\"Country Name\": \"Turkiye\", \"Series Name\": \"Average time to clear exports through customs (days)\", \"year\": \"2019\", \"value\": 2.6}, {\"Country Name\": \"Ukraine\", \"Series Name\": \"Average time to clear exports through customs (days)\", \"year\": \"2019\", \"value\": 3.9}, {\"Country Name\": \"Uzbekistan\", \"Series Name\": \"Average time to clear exports through customs (days)\", \"year\": \"2019\", \"value\": 3.7}, {\"Country Name\": \"West Bank and Gaza\", \"Series Name\": \"Average time to clear exports through customs (days)\", \"year\": \"2019\", \"value\": 5.3}]}}, {\"mode\": \"vega-lite\"});\n",
       "</script>"
      ],
      "text/plain": [
       "alt.Chart(...)"
      ]
     },
     "execution_count": 11,
     "metadata": {},
     "output_type": "execute_result"
    }
   ],
   "source": [
    "import altair as alt\n",
    "countries = df['Country Name'].unique()\n",
    "years = ['2014', '2015', '2016', '2017', '2018', \"2019\"]\n",
    "countries_years_series_filtered = df[(df['Country Name'].isin(countries)) & \n",
    "                                                (df['year'].isin(years)) & \n",
    "                                                (df['Series Name']==\"Average time to clear exports through customs (days)\") & \n",
    "                                                (df['value']<10.00)]\n",
    "chart = alt.Chart(countries_years_series_filtered).mark_bar().encode(\n",
    "    x=alt.X('Country Name', title=None),\n",
    "    y=alt.Y('value', title='Days'),\n",
    "    color='Country Name',\n",
    "    column=alt.Column('year', title=None),\n",
    "    tooltip=['Country Name', 'year', 'value'])\n",
    "\n",
    "chart"
   ]
  },
  {
   "cell_type": "code",
   "execution_count": 37,
   "metadata": {},
   "outputs": [
    {
     "data": {
      "text/html": [
       "\n",
       "<div id=\"altair-viz-dd1c495bf9c8498a93721870f6f177fe\"></div>\n",
       "<script type=\"text/javascript\">\n",
       "  (function(spec, embedOpt){\n",
       "    let outputDiv = document.currentScript.previousElementSibling;\n",
       "    if (outputDiv.id !== \"altair-viz-dd1c495bf9c8498a93721870f6f177fe\") {\n",
       "      outputDiv = document.getElementById(\"altair-viz-dd1c495bf9c8498a93721870f6f177fe\");\n",
       "    }\n",
       "    const paths = {\n",
       "      \"vega\": \"https://cdn.jsdelivr.net/npm//vega@5?noext\",\n",
       "      \"vega-lib\": \"https://cdn.jsdelivr.net/npm//vega-lib?noext\",\n",
       "      \"vega-lite\": \"https://cdn.jsdelivr.net/npm//vega-lite@4.8.1?noext\",\n",
       "      \"vega-embed\": \"https://cdn.jsdelivr.net/npm//vega-embed@6?noext\",\n",
       "    };\n",
       "\n",
       "    function loadScript(lib) {\n",
       "      return new Promise(function(resolve, reject) {\n",
       "        var s = document.createElement('script');\n",
       "        s.src = paths[lib];\n",
       "        s.async = true;\n",
       "        s.onload = () => resolve(paths[lib]);\n",
       "        s.onerror = () => reject(`Error loading script: ${paths[lib]}`);\n",
       "        document.getElementsByTagName(\"head\")[0].appendChild(s);\n",
       "      });\n",
       "    }\n",
       "\n",
       "    function showError(err) {\n",
       "      outputDiv.innerHTML = `<div class=\"error\" style=\"color:red;\">${err}</div>`;\n",
       "      throw err;\n",
       "    }\n",
       "\n",
       "    function displayChart(vegaEmbed) {\n",
       "      vegaEmbed(outputDiv, spec, embedOpt)\n",
       "        .catch(err => showError(`Javascript Error: ${err.message}<br>This usually means there's a typo in your chart specification. See the javascript console for the full traceback.`));\n",
       "    }\n",
       "\n",
       "    if(typeof define === \"function\" && define.amd) {\n",
       "      requirejs.config({paths});\n",
       "      require([\"vega-embed\"], displayChart, err => showError(`Error loading script: ${err.message}`));\n",
       "    } else if (typeof vegaEmbed === \"function\") {\n",
       "      displayChart(vegaEmbed);\n",
       "    } else {\n",
       "      loadScript(\"vega\")\n",
       "        .then(() => loadScript(\"vega-lite\"))\n",
       "        .then(() => loadScript(\"vega-embed\"))\n",
       "        .catch(showError)\n",
       "        .then(() => displayChart(vegaEmbed));\n",
       "    }\n",
       "  })({\"config\": {\"view\": {\"continuousWidth\": 400, \"continuousHeight\": 300}}, \"data\": {\"name\": \"data-dafc78da770d79341b58518be53de983\"}, \"mark\": {\"type\": \"bar\", \"orient\": \"horizontal\"}, \"encoding\": {\"color\": {\"type\": \"nominal\", \"field\": \"Country Name\"}, \"row\": {\"type\": \"nominal\", \"field\": \"Series Name\", \"title\": null}, \"tooltip\": [{\"type\": \"nominal\", \"field\": \"Country Name\"}, {\"type\": \"nominal\", \"field\": \"year\"}, {\"type\": \"quantitative\", \"field\": \"value\"}], \"x\": {\"type\": \"quantitative\", \"aggregate\": \"sum\", \"field\": \"value\", \"title\": \"Days\"}, \"y\": {\"type\": \"nominal\", \"field\": \"year\", \"title\": null}}, \"$schema\": \"https://vega.github.io/schema/vega-lite/v4.8.1.json\", \"datasets\": {\"data-dafc78da770d79341b58518be53de983\": [{\"Country Name\": \"Armenia\", \"Series Name\": \"Time to export, documentary compliance (hours)\", \"year\": \"2014\", \"value\": 2.0}, {\"Country Name\": \"Austria\", \"Series Name\": \"Time to export, border compliance (hours)\", \"year\": \"2014\", \"value\": 0.0}, {\"Country Name\": \"Austria\", \"Series Name\": \"Time to export, documentary compliance (hours)\", \"year\": \"2014\", \"value\": 0.5}, {\"Country Name\": \"Belarus\", \"Series Name\": \"Time to export, documentary compliance (hours)\", \"year\": \"2014\", \"value\": 4.0}, {\"Country Name\": \"Belgium\", \"Series Name\": \"Time to export, border compliance (hours)\", \"year\": \"2014\", \"value\": 0.0}, {\"Country Name\": \"Belgium\", \"Series Name\": \"Time to export, documentary compliance (hours)\", \"year\": \"2014\", \"value\": 0.5}, {\"Country Name\": \"Bosnia and Herzegovina\", \"Series Name\": \"Time to export, documentary compliance (hours)\", \"year\": \"2014\", \"value\": 4.333333}, {\"Country Name\": \"Bulgaria\", \"Series Name\": \"Time to export, border compliance (hours)\", \"year\": \"2014\", \"value\": 4.4}, {\"Country Name\": \"Bulgaria\", \"Series Name\": \"Time to export, documentary compliance (hours)\", \"year\": \"2014\", \"value\": 1.75}, {\"Country Name\": \"Canada\", \"Series Name\": \"Time to export, border compliance (hours)\", \"year\": \"2014\", \"value\": 2.0}, {\"Country Name\": \"Canada\", \"Series Name\": \"Time to export, documentary compliance (hours)\", \"year\": \"2014\", \"value\": 1.0}, {\"Country Name\": \"Croatia\", \"Series Name\": \"Time to export, border compliance (hours)\", \"year\": \"2014\", \"value\": 0.1285714}, {\"Country Name\": \"Croatia\", \"Series Name\": \"Time to export, documentary compliance (hours)\", \"year\": \"2014\", \"value\": 0.5}, {\"Country Name\": \"Cyprus\", \"Series Name\": \"Time to export, documentary compliance (hours)\", \"year\": \"2014\", \"value\": 2.0}, {\"Country Name\": \"Czechia\", \"Series Name\": \"Time to export, border compliance (hours)\", \"year\": \"2014\", \"value\": 0.0}, {\"Country Name\": \"Czechia\", \"Series Name\": \"Time to export, documentary compliance (hours)\", \"year\": \"2014\", \"value\": 0.5}, {\"Country Name\": \"Denmark\", \"Series Name\": \"Time to export, border compliance (hours)\", \"year\": \"2014\", \"value\": 0.0}, {\"Country Name\": \"Denmark\", \"Series Name\": \"Time to export, documentary compliance (hours)\", \"year\": \"2014\", \"value\": 0.5}, {\"Country Name\": \"Estonia\", \"Series Name\": \"Time to export, border compliance (hours)\", \"year\": \"2014\", \"value\": 2.0}, {\"Country Name\": \"Estonia\", \"Series Name\": \"Time to export, documentary compliance (hours)\", \"year\": \"2014\", \"value\": 0.5}, {\"Country Name\": \"Eswatini\", \"Series Name\": \"Time to export, border compliance (hours)\", \"year\": \"2014\", \"value\": 2.722222}, {\"Country Name\": \"Eswatini\", \"Series Name\": \"Time to export, documentary compliance (hours)\", \"year\": \"2014\", \"value\": 3.555556}, {\"Country Name\": \"Finland\", \"Series Name\": \"Time to export, documentary compliance (hours)\", \"year\": \"2014\", \"value\": 2.0}, {\"Country Name\": \"France\", \"Series Name\": \"Time to export, border compliance (hours)\", \"year\": \"2014\", \"value\": 0.0}, {\"Country Name\": \"France\", \"Series Name\": \"Time to export, documentary compliance (hours)\", \"year\": \"2014\", \"value\": 0.5}, {\"Country Name\": \"Germany\", \"Series Name\": \"Time to export, documentary compliance (hours)\", \"year\": \"2014\", \"value\": 1.0}, {\"Country Name\": \"Greece\", \"Series Name\": \"Time to export, documentary compliance (hours)\", \"year\": \"2014\", \"value\": 1.0}, {\"Country Name\": \"Hong Kong SAR, China\", \"Series Name\": \"Time to export, border compliance (hours)\", \"year\": \"2014\", \"value\": 1.0}, {\"Country Name\": \"Hong Kong SAR, China\", \"Series Name\": \"Time to export, documentary compliance (hours)\", \"year\": \"2014\", \"value\": 0.666}, {\"Country Name\": \"Hungary\", \"Series Name\": \"Time to export, border compliance (hours)\", \"year\": \"2014\", \"value\": 0.0}, {\"Country Name\": \"Hungary\", \"Series Name\": \"Time to export, documentary compliance (hours)\", \"year\": \"2014\", \"value\": 0.75}, {\"Country Name\": \"Iceland\", \"Series Name\": \"Time to export, documentary compliance (hours)\", \"year\": \"2014\", \"value\": 2.0}, {\"Country Name\": \"Ireland\", \"Series Name\": \"Time to export, documentary compliance (hours)\", \"year\": \"2014\", \"value\": 1.0}, {\"Country Name\": \"Italy\", \"Series Name\": \"Time to export, border compliance (hours)\", \"year\": \"2014\", \"value\": 0.0}, {\"Country Name\": \"Italy\", \"Series Name\": \"Time to export, documentary compliance (hours)\", \"year\": \"2014\", \"value\": 0.5}, {\"Country Name\": \"Japan\", \"Series Name\": \"Time to export, documentary compliance (hours)\", \"year\": \"2014\", \"value\": 2.3735}, {\"Country Name\": \"Korea, Rep.\", \"Series Name\": \"Time to export, documentary compliance (hours)\", \"year\": \"2014\", \"value\": 1.0}, {\"Country Name\": \"Latvia\", \"Series Name\": \"Time to export, documentary compliance (hours)\", \"year\": \"2014\", \"value\": 2.0}, {\"Country Name\": \"Lesotho\", \"Series Name\": \"Time to export, border compliance (hours)\", \"year\": \"2014\", \"value\": 4.0}, {\"Country Name\": \"Lesotho\", \"Series Name\": \"Time to export, documentary compliance (hours)\", \"year\": \"2014\", \"value\": 3.0}, {\"Country Name\": \"Lithuania\", \"Series Name\": \"Time to export, documentary compliance (hours)\", \"year\": \"2014\", \"value\": 2.5}, {\"Country Name\": \"Luxembourg\", \"Series Name\": \"Time to export, border compliance (hours)\", \"year\": \"2014\", \"value\": 0.0}, {\"Country Name\": \"Luxembourg\", \"Series Name\": \"Time to export, documentary compliance (hours)\", \"year\": \"2014\", \"value\": 0.5}, {\"Country Name\": \"Moldova\", \"Series Name\": \"Time to export, border compliance (hours)\", \"year\": \"2014\", \"value\": 3.0}, {\"Country Name\": \"Netherlands\", \"Series Name\": \"Time to export, border compliance (hours)\", \"year\": \"2014\", \"value\": 0.0}, {\"Country Name\": \"Netherlands\", \"Series Name\": \"Time to export, documentary compliance (hours)\", \"year\": \"2014\", \"value\": 0.5}, {\"Country Name\": \"New Zealand\", \"Series Name\": \"Time to export, documentary compliance (hours)\", \"year\": \"2014\", \"value\": 3.0}, {\"Country Name\": \"North Macedonia\", \"Series Name\": \"Time to export, documentary compliance (hours)\", \"year\": \"2014\", \"value\": 2.0}, {\"Country Name\": \"Norway\", \"Series Name\": \"Time to export, border compliance (hours)\", \"year\": \"2014\", \"value\": 2.0}, {\"Country Name\": \"Norway\", \"Series Name\": \"Time to export, documentary compliance (hours)\", \"year\": \"2014\", \"value\": 2.0}, {\"Country Name\": \"Poland\", \"Series Name\": \"Time to export, border compliance (hours)\", \"year\": \"2014\", \"value\": 0.0}, {\"Country Name\": \"Poland\", \"Series Name\": \"Time to export, documentary compliance (hours)\", \"year\": \"2014\", \"value\": 0.5}, {\"Country Name\": \"Portugal\", \"Series Name\": \"Time to export, border compliance (hours)\", \"year\": \"2014\", \"value\": 0.0}, {\"Country Name\": \"Portugal\", \"Series Name\": \"Time to export, documentary compliance (hours)\", \"year\": \"2014\", \"value\": 0.5}, {\"Country Name\": \"Puerto Rico\", \"Series Name\": \"Time to export, documentary compliance (hours)\", \"year\": \"2014\", \"value\": 1.714286}, {\"Country Name\": \"Romania\", \"Series Name\": \"Time to export, border compliance (hours)\", \"year\": \"2014\", \"value\": 0.375}, {\"Country Name\": \"Romania\", \"Series Name\": \"Time to export, documentary compliance (hours)\", \"year\": \"2014\", \"value\": 0.5}, {\"Country Name\": \"San Marino\", \"Series Name\": \"Time to export, border compliance (hours)\", \"year\": \"2014\", \"value\": 0.0}, {\"Country Name\": \"San Marino\", \"Series Name\": \"Time to export, documentary compliance (hours)\", \"year\": \"2014\", \"value\": 0.5}, {\"Country Name\": \"Serbia\", \"Series Name\": \"Time to export, border compliance (hours)\", \"year\": \"2014\", \"value\": 3.666667}, {\"Country Name\": \"Serbia\", \"Series Name\": \"Time to export, documentary compliance (hours)\", \"year\": \"2014\", \"value\": 2.333333}, {\"Country Name\": \"Singapore\", \"Series Name\": \"Time to export, documentary compliance (hours)\", \"year\": \"2014\", \"value\": 2.0}, {\"Country Name\": \"Slovak Republic\", \"Series Name\": \"Time to export, border compliance (hours)\", \"year\": \"2014\", \"value\": 0.0}, {\"Country Name\": \"Slovak Republic\", \"Series Name\": \"Time to export, documentary compliance (hours)\", \"year\": \"2014\", \"value\": 0.5}, {\"Country Name\": \"Slovenia\", \"Series Name\": \"Time to export, border compliance (hours)\", \"year\": \"2014\", \"value\": 0.0}, {\"Country Name\": \"Slovenia\", \"Series Name\": \"Time to export, documentary compliance (hours)\", \"year\": \"2014\", \"value\": 0.5}, {\"Country Name\": \"Spain\", \"Series Name\": \"Time to export, border compliance (hours)\", \"year\": \"2014\", \"value\": 0.0}, {\"Country Name\": \"Spain\", \"Series Name\": \"Time to export, documentary compliance (hours)\", \"year\": \"2014\", \"value\": 0.5}, {\"Country Name\": \"Sweden\", \"Series Name\": \"Time to export, border compliance (hours)\", \"year\": \"2014\", \"value\": 1.83}, {\"Country Name\": \"Sweden\", \"Series Name\": \"Time to export, documentary compliance (hours)\", \"year\": \"2014\", \"value\": 1.0}, {\"Country Name\": \"Switzerland\", \"Series Name\": \"Time to export, border compliance (hours)\", \"year\": \"2014\", \"value\": 1.0}, {\"Country Name\": \"Switzerland\", \"Series Name\": \"Time to export, documentary compliance (hours)\", \"year\": \"2014\", \"value\": 1.5}, {\"Country Name\": \"Tunisia\", \"Series Name\": \"Time to export, documentary compliance (hours)\", \"year\": \"2014\", \"value\": 3.0}, {\"Country Name\": \"United Kingdom\", \"Series Name\": \"Time to export, documentary compliance (hours)\", \"year\": \"2014\", \"value\": 4.0}, {\"Country Name\": \"United States\", \"Series Name\": \"Time to export, border compliance (hours)\", \"year\": \"2014\", \"value\": 1.5}, {\"Country Name\": \"United States\", \"Series Name\": \"Time to export, documentary compliance (hours)\", \"year\": \"2014\", \"value\": 1.5}, {\"Country Name\": \"Central Europe and the Baltics\", \"Series Name\": \"Time to export, border compliance (hours)\", \"year\": \"2014\", \"value\": 3.6275974}, {\"Country Name\": \"Central Europe and the Baltics\", \"Series Name\": \"Time to export, documentary compliance (hours)\", \"year\": \"2014\", \"value\": 0.954545455}, {\"Country Name\": \"Euro area\", \"Series Name\": \"Time to export, documentary compliance (hours)\", \"year\": \"2014\", \"value\": 2.157894737}, {\"Country Name\": \"European Union\", \"Series Name\": \"Time to export, documentary compliance (hours)\", \"year\": \"2014\", \"value\": 1.740740741}, {\"Country Name\": \"North America\", \"Series Name\": \"Time to export, border compliance (hours)\", \"year\": \"2014\", \"value\": 1.75}, {\"Country Name\": \"North America\", \"Series Name\": \"Time to export, documentary compliance (hours)\", \"year\": \"2014\", \"value\": 1.25}, {\"Country Name\": \"OECD members\", \"Series Name\": \"Time to export, documentary compliance (hours)\", \"year\": \"2014\", \"value\": 4.661144737}, {\"Country Name\": \"Armenia\", \"Series Name\": \"Time to export, documentary compliance (hours)\", \"year\": \"2015\", \"value\": 2.0}, {\"Country Name\": \"Austria\", \"Series Name\": \"Time to export, border compliance (hours)\", \"year\": \"2015\", \"value\": 0.0}, {\"Country Name\": \"Austria\", \"Series Name\": \"Time to export, documentary compliance (hours)\", \"year\": \"2015\", \"value\": 0.5}, {\"Country Name\": \"Belarus\", \"Series Name\": \"Time to export, documentary compliance (hours)\", \"year\": \"2015\", \"value\": 4.0}, {\"Country Name\": \"Belgium\", \"Series Name\": \"Time to export, border compliance (hours)\", \"year\": \"2015\", \"value\": 0.0}, {\"Country Name\": \"Belgium\", \"Series Name\": \"Time to export, documentary compliance (hours)\", \"year\": \"2015\", \"value\": 0.5}, {\"Country Name\": \"Bosnia and Herzegovina\", \"Series Name\": \"Time to export, documentary compliance (hours)\", \"year\": \"2015\", \"value\": 4.333333}, {\"Country Name\": \"Bulgaria\", \"Series Name\": \"Time to export, border compliance (hours)\", \"year\": \"2015\", \"value\": 4.4}, {\"Country Name\": \"Bulgaria\", \"Series Name\": \"Time to export, documentary compliance (hours)\", \"year\": \"2015\", \"value\": 1.75}, {\"Country Name\": \"Canada\", \"Series Name\": \"Time to export, border compliance (hours)\", \"year\": \"2015\", \"value\": 2.0}, {\"Country Name\": \"Canada\", \"Series Name\": \"Time to export, documentary compliance (hours)\", \"year\": \"2015\", \"value\": 1.0}, {\"Country Name\": \"Croatia\", \"Series Name\": \"Time to export, border compliance (hours)\", \"year\": \"2015\", \"value\": 0.1285714}, {\"Country Name\": \"Croatia\", \"Series Name\": \"Time to export, documentary compliance (hours)\", \"year\": \"2015\", \"value\": 0.5}, {\"Country Name\": \"Cyprus\", \"Series Name\": \"Time to export, documentary compliance (hours)\", \"year\": \"2015\", \"value\": 2.0}, {\"Country Name\": \"Czechia\", \"Series Name\": \"Time to export, border compliance (hours)\", \"year\": \"2015\", \"value\": 0.0}, {\"Country Name\": \"Czechia\", \"Series Name\": \"Time to export, documentary compliance (hours)\", \"year\": \"2015\", \"value\": 0.5}, {\"Country Name\": \"Denmark\", \"Series Name\": \"Time to export, border compliance (hours)\", \"year\": \"2015\", \"value\": 0.0}, {\"Country Name\": \"Denmark\", \"Series Name\": \"Time to export, documentary compliance (hours)\", \"year\": \"2015\", \"value\": 0.5}, {\"Country Name\": \"Estonia\", \"Series Name\": \"Time to export, border compliance (hours)\", \"year\": \"2015\", \"value\": 2.0}, {\"Country Name\": \"Estonia\", \"Series Name\": \"Time to export, documentary compliance (hours)\", \"year\": \"2015\", \"value\": 0.5}, {\"Country Name\": \"Eswatini\", \"Series Name\": \"Time to export, border compliance (hours)\", \"year\": \"2015\", \"value\": 2.722222}, {\"Country Name\": \"Eswatini\", \"Series Name\": \"Time to export, documentary compliance (hours)\", \"year\": \"2015\", \"value\": 3.555556}, {\"Country Name\": \"Finland\", \"Series Name\": \"Time to export, documentary compliance (hours)\", \"year\": \"2015\", \"value\": 2.0}, {\"Country Name\": \"France\", \"Series Name\": \"Time to export, border compliance (hours)\", \"year\": \"2015\", \"value\": 0.0}, {\"Country Name\": \"France\", \"Series Name\": \"Time to export, documentary compliance (hours)\", \"year\": \"2015\", \"value\": 0.5}, {\"Country Name\": \"Germany\", \"Series Name\": \"Time to export, documentary compliance (hours)\", \"year\": \"2015\", \"value\": 1.0}, {\"Country Name\": \"Greece\", \"Series Name\": \"Time to export, documentary compliance (hours)\", \"year\": \"2015\", \"value\": 1.0}, {\"Country Name\": \"Hong Kong SAR, China\", \"Series Name\": \"Time to export, border compliance (hours)\", \"year\": \"2015\", \"value\": 1.0}, {\"Country Name\": \"Hong Kong SAR, China\", \"Series Name\": \"Time to export, documentary compliance (hours)\", \"year\": \"2015\", \"value\": 0.666}, {\"Country Name\": \"Hungary\", \"Series Name\": \"Time to export, border compliance (hours)\", \"year\": \"2015\", \"value\": 0.0}, {\"Country Name\": \"Hungary\", \"Series Name\": \"Time to export, documentary compliance (hours)\", \"year\": \"2015\", \"value\": 0.75}, {\"Country Name\": \"Iceland\", \"Series Name\": \"Time to export, documentary compliance (hours)\", \"year\": \"2015\", \"value\": 2.0}, {\"Country Name\": \"Ireland\", \"Series Name\": \"Time to export, documentary compliance (hours)\", \"year\": \"2015\", \"value\": 1.0}, {\"Country Name\": \"Italy\", \"Series Name\": \"Time to export, border compliance (hours)\", \"year\": \"2015\", \"value\": 0.0}, {\"Country Name\": \"Italy\", \"Series Name\": \"Time to export, documentary compliance (hours)\", \"year\": \"2015\", \"value\": 0.5}, {\"Country Name\": \"Japan\", \"Series Name\": \"Time to export, documentary compliance (hours)\", \"year\": \"2015\", \"value\": 2.3735}, {\"Country Name\": \"Korea, Rep.\", \"Series Name\": \"Time to export, documentary compliance (hours)\", \"year\": \"2015\", \"value\": 1.0}, {\"Country Name\": \"Latvia\", \"Series Name\": \"Time to export, documentary compliance (hours)\", \"year\": \"2015\", \"value\": 2.0}, {\"Country Name\": \"Lesotho\", \"Series Name\": \"Time to export, border compliance (hours)\", \"year\": \"2015\", \"value\": 4.0}, {\"Country Name\": \"Lesotho\", \"Series Name\": \"Time to export, documentary compliance (hours)\", \"year\": \"2015\", \"value\": 3.0}, {\"Country Name\": \"Lithuania\", \"Series Name\": \"Time to export, documentary compliance (hours)\", \"year\": \"2015\", \"value\": 2.5}, {\"Country Name\": \"Luxembourg\", \"Series Name\": \"Time to export, border compliance (hours)\", \"year\": \"2015\", \"value\": 0.0}, {\"Country Name\": \"Luxembourg\", \"Series Name\": \"Time to export, documentary compliance (hours)\", \"year\": \"2015\", \"value\": 0.5}, {\"Country Name\": \"Moldova\", \"Series Name\": \"Time to export, border compliance (hours)\", \"year\": \"2015\", \"value\": 3.0}, {\"Country Name\": \"Netherlands\", \"Series Name\": \"Time to export, border compliance (hours)\", \"year\": \"2015\", \"value\": 0.0}, {\"Country Name\": \"Netherlands\", \"Series Name\": \"Time to export, documentary compliance (hours)\", \"year\": \"2015\", \"value\": 0.5}, {\"Country Name\": \"New Zealand\", \"Series Name\": \"Time to export, documentary compliance (hours)\", \"year\": \"2015\", \"value\": 3.0}, {\"Country Name\": \"North Macedonia\", \"Series Name\": \"Time to export, documentary compliance (hours)\", \"year\": \"2015\", \"value\": 2.0}, {\"Country Name\": \"Norway\", \"Series Name\": \"Time to export, border compliance (hours)\", \"year\": \"2015\", \"value\": 2.0}, {\"Country Name\": \"Norway\", \"Series Name\": \"Time to export, documentary compliance (hours)\", \"year\": \"2015\", \"value\": 2.0}, {\"Country Name\": \"Poland\", \"Series Name\": \"Time to export, border compliance (hours)\", \"year\": \"2015\", \"value\": 0.0}, {\"Country Name\": \"Poland\", \"Series Name\": \"Time to export, documentary compliance (hours)\", \"year\": \"2015\", \"value\": 0.5}, {\"Country Name\": \"Portugal\", \"Series Name\": \"Time to export, border compliance (hours)\", \"year\": \"2015\", \"value\": 0.0}, {\"Country Name\": \"Portugal\", \"Series Name\": \"Time to export, documentary compliance (hours)\", \"year\": \"2015\", \"value\": 0.5}, {\"Country Name\": \"Puerto Rico\", \"Series Name\": \"Time to export, documentary compliance (hours)\", \"year\": \"2015\", \"value\": 1.714286}, {\"Country Name\": \"Romania\", \"Series Name\": \"Time to export, border compliance (hours)\", \"year\": \"2015\", \"value\": 0.375}, {\"Country Name\": \"Romania\", \"Series Name\": \"Time to export, documentary compliance (hours)\", \"year\": \"2015\", \"value\": 0.5}, {\"Country Name\": \"San Marino\", \"Series Name\": \"Time to export, border compliance (hours)\", \"year\": \"2015\", \"value\": 0.0}, {\"Country Name\": \"San Marino\", \"Series Name\": \"Time to export, documentary compliance (hours)\", \"year\": \"2015\", \"value\": 0.5}, {\"Country Name\": \"Serbia\", \"Series Name\": \"Time to export, border compliance (hours)\", \"year\": \"2015\", \"value\": 3.666667}, {\"Country Name\": \"Serbia\", \"Series Name\": \"Time to export, documentary compliance (hours)\", \"year\": \"2015\", \"value\": 2.333333}, {\"Country Name\": \"Singapore\", \"Series Name\": \"Time to export, documentary compliance (hours)\", \"year\": \"2015\", \"value\": 2.0}, {\"Country Name\": \"Slovak Republic\", \"Series Name\": \"Time to export, border compliance (hours)\", \"year\": \"2015\", \"value\": 0.0}, {\"Country Name\": \"Slovak Republic\", \"Series Name\": \"Time to export, documentary compliance (hours)\", \"year\": \"2015\", \"value\": 0.5}, {\"Country Name\": \"Slovenia\", \"Series Name\": \"Time to export, border compliance (hours)\", \"year\": \"2015\", \"value\": 0.0}, {\"Country Name\": \"Slovenia\", \"Series Name\": \"Time to export, documentary compliance (hours)\", \"year\": \"2015\", \"value\": 0.5}, {\"Country Name\": \"Spain\", \"Series Name\": \"Time to export, border compliance (hours)\", \"year\": \"2015\", \"value\": 0.0}, {\"Country Name\": \"Spain\", \"Series Name\": \"Time to export, documentary compliance (hours)\", \"year\": \"2015\", \"value\": 0.5}, {\"Country Name\": \"Sweden\", \"Series Name\": \"Time to export, border compliance (hours)\", \"year\": \"2015\", \"value\": 1.83}, {\"Country Name\": \"Sweden\", \"Series Name\": \"Time to export, documentary compliance (hours)\", \"year\": \"2015\", \"value\": 1.0}, {\"Country Name\": \"Switzerland\", \"Series Name\": \"Time to export, border compliance (hours)\", \"year\": \"2015\", \"value\": 1.0}, {\"Country Name\": \"Switzerland\", \"Series Name\": \"Time to export, documentary compliance (hours)\", \"year\": \"2015\", \"value\": 1.5}, {\"Country Name\": \"Tunisia\", \"Series Name\": \"Time to export, documentary compliance (hours)\", \"year\": \"2015\", \"value\": 3.0}, {\"Country Name\": \"United Kingdom\", \"Series Name\": \"Time to export, documentary compliance (hours)\", \"year\": \"2015\", \"value\": 4.0}, {\"Country Name\": \"United States\", \"Series Name\": \"Time to export, border compliance (hours)\", \"year\": \"2015\", \"value\": 1.5}, {\"Country Name\": \"United States\", \"Series Name\": \"Time to export, documentary compliance (hours)\", \"year\": \"2015\", \"value\": 1.5}, {\"Country Name\": \"Central Europe and the Baltics\", \"Series Name\": \"Time to export, border compliance (hours)\", \"year\": \"2015\", \"value\": 3.6275974}, {\"Country Name\": \"Central Europe and the Baltics\", \"Series Name\": \"Time to export, documentary compliance (hours)\", \"year\": \"2015\", \"value\": 0.954545455}, {\"Country Name\": \"Euro area\", \"Series Name\": \"Time to export, documentary compliance (hours)\", \"year\": \"2015\", \"value\": 2.157894737}, {\"Country Name\": \"European Union\", \"Series Name\": \"Time to export, documentary compliance (hours)\", \"year\": \"2015\", \"value\": 1.740740741}, {\"Country Name\": \"North America\", \"Series Name\": \"Time to export, border compliance (hours)\", \"year\": \"2015\", \"value\": 1.75}, {\"Country Name\": \"North America\", \"Series Name\": \"Time to export, documentary compliance (hours)\", \"year\": \"2015\", \"value\": 1.25}, {\"Country Name\": \"OECD members\", \"Series Name\": \"Time to export, documentary compliance (hours)\", \"year\": \"2015\", \"value\": 4.661144737}, {\"Country Name\": \"Armenia\", \"Series Name\": \"Time to export, documentary compliance (hours)\", \"year\": \"2016\", \"value\": 2.0}, {\"Country Name\": \"Austria\", \"Series Name\": \"Time to export, border compliance (hours)\", \"year\": \"2016\", \"value\": 0.0}, {\"Country Name\": \"Austria\", \"Series Name\": \"Time to export, documentary compliance (hours)\", \"year\": \"2016\", \"value\": 0.5}, {\"Country Name\": \"Belarus\", \"Series Name\": \"Time to export, documentary compliance (hours)\", \"year\": \"2016\", \"value\": 4.0}, {\"Country Name\": \"Belgium\", \"Series Name\": \"Time to export, border compliance (hours)\", \"year\": \"2016\", \"value\": 0.0}, {\"Country Name\": \"Belgium\", \"Series Name\": \"Time to export, documentary compliance (hours)\", \"year\": \"2016\", \"value\": 0.5}, {\"Country Name\": \"Bosnia and Herzegovina\", \"Series Name\": \"Time to export, documentary compliance (hours)\", \"year\": \"2016\", \"value\": 4.333333}, {\"Country Name\": \"Bulgaria\", \"Series Name\": \"Time to export, border compliance (hours)\", \"year\": \"2016\", \"value\": 4.4}, {\"Country Name\": \"Bulgaria\", \"Series Name\": \"Time to export, documentary compliance (hours)\", \"year\": \"2016\", \"value\": 1.75}, {\"Country Name\": \"Canada\", \"Series Name\": \"Time to export, border compliance (hours)\", \"year\": \"2016\", \"value\": 2.0}, {\"Country Name\": \"Canada\", \"Series Name\": \"Time to export, documentary compliance (hours)\", \"year\": \"2016\", \"value\": 1.0}, {\"Country Name\": \"Croatia\", \"Series Name\": \"Time to export, border compliance (hours)\", \"year\": \"2016\", \"value\": 0.1285714}, {\"Country Name\": \"Croatia\", \"Series Name\": \"Time to export, documentary compliance (hours)\", \"year\": \"2016\", \"value\": 0.5}, {\"Country Name\": \"Cyprus\", \"Series Name\": \"Time to export, documentary compliance (hours)\", \"year\": \"2016\", \"value\": 2.0}, {\"Country Name\": \"Czechia\", \"Series Name\": \"Time to export, border compliance (hours)\", \"year\": \"2016\", \"value\": 0.0}, {\"Country Name\": \"Czechia\", \"Series Name\": \"Time to export, documentary compliance (hours)\", \"year\": \"2016\", \"value\": 0.5}, {\"Country Name\": \"Denmark\", \"Series Name\": \"Time to export, border compliance (hours)\", \"year\": \"2016\", \"value\": 0.0}, {\"Country Name\": \"Denmark\", \"Series Name\": \"Time to export, documentary compliance (hours)\", \"year\": \"2016\", \"value\": 0.5}, {\"Country Name\": \"Estonia\", \"Series Name\": \"Time to export, border compliance (hours)\", \"year\": \"2016\", \"value\": 2.0}, {\"Country Name\": \"Estonia\", \"Series Name\": \"Time to export, documentary compliance (hours)\", \"year\": \"2016\", \"value\": 0.5}, {\"Country Name\": \"Eswatini\", \"Series Name\": \"Time to export, border compliance (hours)\", \"year\": \"2016\", \"value\": 2.722222}, {\"Country Name\": \"Eswatini\", \"Series Name\": \"Time to export, documentary compliance (hours)\", \"year\": \"2016\", \"value\": 3.555556}, {\"Country Name\": \"Finland\", \"Series Name\": \"Time to export, documentary compliance (hours)\", \"year\": \"2016\", \"value\": 2.0}, {\"Country Name\": \"France\", \"Series Name\": \"Time to export, border compliance (hours)\", \"year\": \"2016\", \"value\": 0.0}, {\"Country Name\": \"France\", \"Series Name\": \"Time to export, documentary compliance (hours)\", \"year\": \"2016\", \"value\": 0.5}, {\"Country Name\": \"Georgia\", \"Series Name\": \"Time to export, documentary compliance (hours)\", \"year\": \"2016\", \"value\": 2.0}, {\"Country Name\": \"Germany\", \"Series Name\": \"Time to export, documentary compliance (hours)\", \"year\": \"2016\", \"value\": 1.0}, {\"Country Name\": \"Greece\", \"Series Name\": \"Time to export, documentary compliance (hours)\", \"year\": \"2016\", \"value\": 1.0}, {\"Country Name\": \"Hong Kong SAR, China\", \"Series Name\": \"Time to export, border compliance (hours)\", \"year\": \"2016\", \"value\": 1.0}, {\"Country Name\": \"Hong Kong SAR, China\", \"Series Name\": \"Time to export, documentary compliance (hours)\", \"year\": \"2016\", \"value\": 0.666}, {\"Country Name\": \"Hungary\", \"Series Name\": \"Time to export, border compliance (hours)\", \"year\": \"2016\", \"value\": 0.0}, {\"Country Name\": \"Hungary\", \"Series Name\": \"Time to export, documentary compliance (hours)\", \"year\": \"2016\", \"value\": 0.75}, {\"Country Name\": \"Iceland\", \"Series Name\": \"Time to export, documentary compliance (hours)\", \"year\": \"2016\", \"value\": 2.0}, {\"Country Name\": \"Ireland\", \"Series Name\": \"Time to export, documentary compliance (hours)\", \"year\": \"2016\", \"value\": 1.0}, {\"Country Name\": \"Italy\", \"Series Name\": \"Time to export, border compliance (hours)\", \"year\": \"2016\", \"value\": 0.0}, {\"Country Name\": \"Italy\", \"Series Name\": \"Time to export, documentary compliance (hours)\", \"year\": \"2016\", \"value\": 0.5}, {\"Country Name\": \"Japan\", \"Series Name\": \"Time to export, documentary compliance (hours)\", \"year\": \"2016\", \"value\": 2.3735}, {\"Country Name\": \"Korea, Rep.\", \"Series Name\": \"Time to export, documentary compliance (hours)\", \"year\": \"2016\", \"value\": 1.0}, {\"Country Name\": \"Latvia\", \"Series Name\": \"Time to export, documentary compliance (hours)\", \"year\": \"2016\", \"value\": 2.0}, {\"Country Name\": \"Lesotho\", \"Series Name\": \"Time to export, border compliance (hours)\", \"year\": \"2016\", \"value\": 4.0}, {\"Country Name\": \"Lesotho\", \"Series Name\": \"Time to export, documentary compliance (hours)\", \"year\": \"2016\", \"value\": 3.0}, {\"Country Name\": \"Lithuania\", \"Series Name\": \"Time to export, documentary compliance (hours)\", \"year\": \"2016\", \"value\": 2.5}, {\"Country Name\": \"Luxembourg\", \"Series Name\": \"Time to export, border compliance (hours)\", \"year\": \"2016\", \"value\": 0.0}, {\"Country Name\": \"Luxembourg\", \"Series Name\": \"Time to export, documentary compliance (hours)\", \"year\": \"2016\", \"value\": 0.5}, {\"Country Name\": \"Moldova\", \"Series Name\": \"Time to export, border compliance (hours)\", \"year\": \"2016\", \"value\": 3.0}, {\"Country Name\": \"Netherlands\", \"Series Name\": \"Time to export, border compliance (hours)\", \"year\": \"2016\", \"value\": 0.0}, {\"Country Name\": \"Netherlands\", \"Series Name\": \"Time to export, documentary compliance (hours)\", \"year\": \"2016\", \"value\": 0.5}, {\"Country Name\": \"New Zealand\", \"Series Name\": \"Time to export, documentary compliance (hours)\", \"year\": \"2016\", \"value\": 3.0}, {\"Country Name\": \"North Macedonia\", \"Series Name\": \"Time to export, documentary compliance (hours)\", \"year\": \"2016\", \"value\": 2.0}, {\"Country Name\": \"Norway\", \"Series Name\": \"Time to export, border compliance (hours)\", \"year\": \"2016\", \"value\": 2.0}, {\"Country Name\": \"Norway\", \"Series Name\": \"Time to export, documentary compliance (hours)\", \"year\": \"2016\", \"value\": 2.0}, {\"Country Name\": \"Poland\", \"Series Name\": \"Time to export, border compliance (hours)\", \"year\": \"2016\", \"value\": 0.0}, {\"Country Name\": \"Poland\", \"Series Name\": \"Time to export, documentary compliance (hours)\", \"year\": \"2016\", \"value\": 0.5}, {\"Country Name\": \"Portugal\", \"Series Name\": \"Time to export, border compliance (hours)\", \"year\": \"2016\", \"value\": 0.0}, {\"Country Name\": \"Portugal\", \"Series Name\": \"Time to export, documentary compliance (hours)\", \"year\": \"2016\", \"value\": 0.5}, {\"Country Name\": \"Puerto Rico\", \"Series Name\": \"Time to export, documentary compliance (hours)\", \"year\": \"2016\", \"value\": 1.714286}, {\"Country Name\": \"Romania\", \"Series Name\": \"Time to export, border compliance (hours)\", \"year\": \"2016\", \"value\": 0.375}, {\"Country Name\": \"Romania\", \"Series Name\": \"Time to export, documentary compliance (hours)\", \"year\": \"2016\", \"value\": 0.5}, {\"Country Name\": \"San Marino\", \"Series Name\": \"Time to export, border compliance (hours)\", \"year\": \"2016\", \"value\": 0.0}, {\"Country Name\": \"San Marino\", \"Series Name\": \"Time to export, documentary compliance (hours)\", \"year\": \"2016\", \"value\": 0.5}, {\"Country Name\": \"Serbia\", \"Series Name\": \"Time to export, border compliance (hours)\", \"year\": \"2016\", \"value\": 3.666667}, {\"Country Name\": \"Serbia\", \"Series Name\": \"Time to export, documentary compliance (hours)\", \"year\": \"2016\", \"value\": 2.333333}, {\"Country Name\": \"Singapore\", \"Series Name\": \"Time to export, documentary compliance (hours)\", \"year\": \"2016\", \"value\": 2.0}, {\"Country Name\": \"Slovak Republic\", \"Series Name\": \"Time to export, border compliance (hours)\", \"year\": \"2016\", \"value\": 0.0}, {\"Country Name\": \"Slovak Republic\", \"Series Name\": \"Time to export, documentary compliance (hours)\", \"year\": \"2016\", \"value\": 0.5}, {\"Country Name\": \"Slovenia\", \"Series Name\": \"Time to export, border compliance (hours)\", \"year\": \"2016\", \"value\": 0.0}, {\"Country Name\": \"Slovenia\", \"Series Name\": \"Time to export, documentary compliance (hours)\", \"year\": \"2016\", \"value\": 0.5}, {\"Country Name\": \"Spain\", \"Series Name\": \"Time to export, border compliance (hours)\", \"year\": \"2016\", \"value\": 0.0}, {\"Country Name\": \"Spain\", \"Series Name\": \"Time to export, documentary compliance (hours)\", \"year\": \"2016\", \"value\": 0.5}, {\"Country Name\": \"Sweden\", \"Series Name\": \"Time to export, border compliance (hours)\", \"year\": \"2016\", \"value\": 1.83}, {\"Country Name\": \"Sweden\", \"Series Name\": \"Time to export, documentary compliance (hours)\", \"year\": \"2016\", \"value\": 1.0}, {\"Country Name\": \"Switzerland\", \"Series Name\": \"Time to export, border compliance (hours)\", \"year\": \"2016\", \"value\": 1.0}, {\"Country Name\": \"Switzerland\", \"Series Name\": \"Time to export, documentary compliance (hours)\", \"year\": \"2016\", \"value\": 1.5}, {\"Country Name\": \"Tunisia\", \"Series Name\": \"Time to export, documentary compliance (hours)\", \"year\": \"2016\", \"value\": 3.0}, {\"Country Name\": \"United Kingdom\", \"Series Name\": \"Time to export, documentary compliance (hours)\", \"year\": \"2016\", \"value\": 4.0}, {\"Country Name\": \"United States\", \"Series Name\": \"Time to export, border compliance (hours)\", \"year\": \"2016\", \"value\": 1.5}, {\"Country Name\": \"United States\", \"Series Name\": \"Time to export, documentary compliance (hours)\", \"year\": \"2016\", \"value\": 1.5}, {\"Country Name\": \"Central Europe and the Baltics\", \"Series Name\": \"Time to export, border compliance (hours)\", \"year\": \"2016\", \"value\": 3.6275974}, {\"Country Name\": \"Central Europe and the Baltics\", \"Series Name\": \"Time to export, documentary compliance (hours)\", \"year\": \"2016\", \"value\": 0.954545455}, {\"Country Name\": \"Euro area\", \"Series Name\": \"Time to export, documentary compliance (hours)\", \"year\": \"2016\", \"value\": 2.157894737}, {\"Country Name\": \"European Union\", \"Series Name\": \"Time to export, documentary compliance (hours)\", \"year\": \"2016\", \"value\": 1.740740741}, {\"Country Name\": \"North America\", \"Series Name\": \"Time to export, border compliance (hours)\", \"year\": \"2016\", \"value\": 1.75}, {\"Country Name\": \"North America\", \"Series Name\": \"Time to export, documentary compliance (hours)\", \"year\": \"2016\", \"value\": 1.25}, {\"Country Name\": \"OECD members\", \"Series Name\": \"Time to export, documentary compliance (hours)\", \"year\": \"2016\", \"value\": 4.661144737}, {\"Country Name\": \"Armenia\", \"Series Name\": \"Time to export, documentary compliance (hours)\", \"year\": \"2017\", \"value\": 2.0}, {\"Country Name\": \"Austria\", \"Series Name\": \"Time to export, border compliance (hours)\", \"year\": \"2017\", \"value\": 0.0}, {\"Country Name\": \"Austria\", \"Series Name\": \"Time to export, documentary compliance (hours)\", \"year\": \"2017\", \"value\": 0.5}, {\"Country Name\": \"Belarus\", \"Series Name\": \"Time to export, documentary compliance (hours)\", \"year\": \"2017\", \"value\": 4.0}, {\"Country Name\": \"Belgium\", \"Series Name\": \"Time to export, border compliance (hours)\", \"year\": \"2017\", \"value\": 0.0}, {\"Country Name\": \"Belgium\", \"Series Name\": \"Time to export, documentary compliance (hours)\", \"year\": \"2017\", \"value\": 0.5}, {\"Country Name\": \"Bosnia and Herzegovina\", \"Series Name\": \"Time to export, documentary compliance (hours)\", \"year\": \"2017\", \"value\": 4.333333}, {\"Country Name\": \"Bulgaria\", \"Series Name\": \"Time to export, border compliance (hours)\", \"year\": \"2017\", \"value\": 4.4}, {\"Country Name\": \"Bulgaria\", \"Series Name\": \"Time to export, documentary compliance (hours)\", \"year\": \"2017\", \"value\": 1.75}, {\"Country Name\": \"Canada\", \"Series Name\": \"Time to export, border compliance (hours)\", \"year\": \"2017\", \"value\": 2.0}, {\"Country Name\": \"Canada\", \"Series Name\": \"Time to export, documentary compliance (hours)\", \"year\": \"2017\", \"value\": 1.0}, {\"Country Name\": \"Croatia\", \"Series Name\": \"Time to export, border compliance (hours)\", \"year\": \"2017\", \"value\": 0.1285714}, {\"Country Name\": \"Croatia\", \"Series Name\": \"Time to export, documentary compliance (hours)\", \"year\": \"2017\", \"value\": 0.5}, {\"Country Name\": \"Cyprus\", \"Series Name\": \"Time to export, documentary compliance (hours)\", \"year\": \"2017\", \"value\": 2.0}, {\"Country Name\": \"Czechia\", \"Series Name\": \"Time to export, border compliance (hours)\", \"year\": \"2017\", \"value\": 0.0}, {\"Country Name\": \"Czechia\", \"Series Name\": \"Time to export, documentary compliance (hours)\", \"year\": \"2017\", \"value\": 0.5}, {\"Country Name\": \"Denmark\", \"Series Name\": \"Time to export, border compliance (hours)\", \"year\": \"2017\", \"value\": 0.0}, {\"Country Name\": \"Denmark\", \"Series Name\": \"Time to export, documentary compliance (hours)\", \"year\": \"2017\", \"value\": 0.5}, {\"Country Name\": \"Estonia\", \"Series Name\": \"Time to export, border compliance (hours)\", \"year\": \"2017\", \"value\": 2.0}, {\"Country Name\": \"Estonia\", \"Series Name\": \"Time to export, documentary compliance (hours)\", \"year\": \"2017\", \"value\": 0.5}, {\"Country Name\": \"Eswatini\", \"Series Name\": \"Time to export, border compliance (hours)\", \"year\": \"2017\", \"value\": 2.111111}, {\"Country Name\": \"Eswatini\", \"Series Name\": \"Time to export, documentary compliance (hours)\", \"year\": \"2017\", \"value\": 2.0}, {\"Country Name\": \"Finland\", \"Series Name\": \"Time to export, documentary compliance (hours)\", \"year\": \"2017\", \"value\": 2.0}, {\"Country Name\": \"France\", \"Series Name\": \"Time to export, border compliance (hours)\", \"year\": \"2017\", \"value\": 0.0}, {\"Country Name\": \"France\", \"Series Name\": \"Time to export, documentary compliance (hours)\", \"year\": \"2017\", \"value\": 0.5}, {\"Country Name\": \"Georgia\", \"Series Name\": \"Time to export, documentary compliance (hours)\", \"year\": \"2017\", \"value\": 2.0}, {\"Country Name\": \"Germany\", \"Series Name\": \"Time to export, documentary compliance (hours)\", \"year\": \"2017\", \"value\": 1.0}, {\"Country Name\": \"Greece\", \"Series Name\": \"Time to export, documentary compliance (hours)\", \"year\": \"2017\", \"value\": 1.0}, {\"Country Name\": \"Hong Kong SAR, China\", \"Series Name\": \"Time to export, border compliance (hours)\", \"year\": \"2017\", \"value\": 1.0}, {\"Country Name\": \"Hong Kong SAR, China\", \"Series Name\": \"Time to export, documentary compliance (hours)\", \"year\": \"2017\", \"value\": 0.666}, {\"Country Name\": \"Hungary\", \"Series Name\": \"Time to export, border compliance (hours)\", \"year\": \"2017\", \"value\": 0.0}, {\"Country Name\": \"Hungary\", \"Series Name\": \"Time to export, documentary compliance (hours)\", \"year\": \"2017\", \"value\": 0.75}, {\"Country Name\": \"Iceland\", \"Series Name\": \"Time to export, documentary compliance (hours)\", \"year\": \"2017\", \"value\": 2.0}, {\"Country Name\": \"Ireland\", \"Series Name\": \"Time to export, documentary compliance (hours)\", \"year\": \"2017\", \"value\": 1.0}, {\"Country Name\": \"Italy\", \"Series Name\": \"Time to export, border compliance (hours)\", \"year\": \"2017\", \"value\": 0.0}, {\"Country Name\": \"Italy\", \"Series Name\": \"Time to export, documentary compliance (hours)\", \"year\": \"2017\", \"value\": 0.5}, {\"Country Name\": \"Japan\", \"Series Name\": \"Time to export, documentary compliance (hours)\", \"year\": \"2017\", \"value\": 2.3735}, {\"Country Name\": \"Korea, Rep.\", \"Series Name\": \"Time to export, documentary compliance (hours)\", \"year\": \"2017\", \"value\": 1.0}, {\"Country Name\": \"Latvia\", \"Series Name\": \"Time to export, documentary compliance (hours)\", \"year\": \"2017\", \"value\": 2.0}, {\"Country Name\": \"Lesotho\", \"Series Name\": \"Time to export, border compliance (hours)\", \"year\": \"2017\", \"value\": 4.0}, {\"Country Name\": \"Lesotho\", \"Series Name\": \"Time to export, documentary compliance (hours)\", \"year\": \"2017\", \"value\": 3.0}, {\"Country Name\": \"Lithuania\", \"Series Name\": \"Time to export, documentary compliance (hours)\", \"year\": \"2017\", \"value\": 2.5}, {\"Country Name\": \"Luxembourg\", \"Series Name\": \"Time to export, border compliance (hours)\", \"year\": \"2017\", \"value\": 0.0}, {\"Country Name\": \"Luxembourg\", \"Series Name\": \"Time to export, documentary compliance (hours)\", \"year\": \"2017\", \"value\": 0.5}, {\"Country Name\": \"Moldova\", \"Series Name\": \"Time to export, border compliance (hours)\", \"year\": \"2017\", \"value\": 3.0}, {\"Country Name\": \"Netherlands\", \"Series Name\": \"Time to export, border compliance (hours)\", \"year\": \"2017\", \"value\": 0.0}, {\"Country Name\": \"Netherlands\", \"Series Name\": \"Time to export, documentary compliance (hours)\", \"year\": \"2017\", \"value\": 0.5}, {\"Country Name\": \"New Zealand\", \"Series Name\": \"Time to export, documentary compliance (hours)\", \"year\": \"2017\", \"value\": 3.0}, {\"Country Name\": \"North Macedonia\", \"Series Name\": \"Time to export, documentary compliance (hours)\", \"year\": \"2017\", \"value\": 2.0}, {\"Country Name\": \"Norway\", \"Series Name\": \"Time to export, border compliance (hours)\", \"year\": \"2017\", \"value\": 2.0}, {\"Country Name\": \"Norway\", \"Series Name\": \"Time to export, documentary compliance (hours)\", \"year\": \"2017\", \"value\": 2.0}, {\"Country Name\": \"Poland\", \"Series Name\": \"Time to export, border compliance (hours)\", \"year\": \"2017\", \"value\": 0.0}, {\"Country Name\": \"Poland\", \"Series Name\": \"Time to export, documentary compliance (hours)\", \"year\": \"2017\", \"value\": 0.5}, {\"Country Name\": \"Portugal\", \"Series Name\": \"Time to export, border compliance (hours)\", \"year\": \"2017\", \"value\": 0.0}, {\"Country Name\": \"Portugal\", \"Series Name\": \"Time to export, documentary compliance (hours)\", \"year\": \"2017\", \"value\": 0.5}, {\"Country Name\": \"Puerto Rico\", \"Series Name\": \"Time to export, documentary compliance (hours)\", \"year\": \"2017\", \"value\": 1.714286}, {\"Country Name\": \"Romania\", \"Series Name\": \"Time to export, border compliance (hours)\", \"year\": \"2017\", \"value\": 0.375}, {\"Country Name\": \"Romania\", \"Series Name\": \"Time to export, documentary compliance (hours)\", \"year\": \"2017\", \"value\": 0.5}, {\"Country Name\": \"San Marino\", \"Series Name\": \"Time to export, border compliance (hours)\", \"year\": \"2017\", \"value\": 0.0}, {\"Country Name\": \"San Marino\", \"Series Name\": \"Time to export, documentary compliance (hours)\", \"year\": \"2017\", \"value\": 0.5}, {\"Country Name\": \"Serbia\", \"Series Name\": \"Time to export, border compliance (hours)\", \"year\": \"2017\", \"value\": 3.666667}, {\"Country Name\": \"Serbia\", \"Series Name\": \"Time to export, documentary compliance (hours)\", \"year\": \"2017\", \"value\": 2.333333}, {\"Country Name\": \"Singapore\", \"Series Name\": \"Time to export, documentary compliance (hours)\", \"year\": \"2017\", \"value\": 2.0}, {\"Country Name\": \"Slovak Republic\", \"Series Name\": \"Time to export, border compliance (hours)\", \"year\": \"2017\", \"value\": 0.0}, {\"Country Name\": \"Slovak Republic\", \"Series Name\": \"Time to export, documentary compliance (hours)\", \"year\": \"2017\", \"value\": 0.5}, {\"Country Name\": \"Slovenia\", \"Series Name\": \"Time to export, border compliance (hours)\", \"year\": \"2017\", \"value\": 0.0}, {\"Country Name\": \"Slovenia\", \"Series Name\": \"Time to export, documentary compliance (hours)\", \"year\": \"2017\", \"value\": 0.5}, {\"Country Name\": \"Spain\", \"Series Name\": \"Time to export, border compliance (hours)\", \"year\": \"2017\", \"value\": 0.0}, {\"Country Name\": \"Spain\", \"Series Name\": \"Time to export, documentary compliance (hours)\", \"year\": \"2017\", \"value\": 0.5}, {\"Country Name\": \"Sweden\", \"Series Name\": \"Time to export, border compliance (hours)\", \"year\": \"2017\", \"value\": 1.83}, {\"Country Name\": \"Sweden\", \"Series Name\": \"Time to export, documentary compliance (hours)\", \"year\": \"2017\", \"value\": 1.0}, {\"Country Name\": \"Switzerland\", \"Series Name\": \"Time to export, border compliance (hours)\", \"year\": \"2017\", \"value\": 1.0}, {\"Country Name\": \"Switzerland\", \"Series Name\": \"Time to export, documentary compliance (hours)\", \"year\": \"2017\", \"value\": 1.5}, {\"Country Name\": \"Tunisia\", \"Series Name\": \"Time to export, documentary compliance (hours)\", \"year\": \"2017\", \"value\": 3.0}, {\"Country Name\": \"United Kingdom\", \"Series Name\": \"Time to export, documentary compliance (hours)\", \"year\": \"2017\", \"value\": 4.0}, {\"Country Name\": \"United States\", \"Series Name\": \"Time to export, border compliance (hours)\", \"year\": \"2017\", \"value\": 1.5}, {\"Country Name\": \"United States\", \"Series Name\": \"Time to export, documentary compliance (hours)\", \"year\": \"2017\", \"value\": 1.5}, {\"Country Name\": \"Central Europe and the Baltics\", \"Series Name\": \"Time to export, border compliance (hours)\", \"year\": \"2017\", \"value\": 3.6275974}, {\"Country Name\": \"Central Europe and the Baltics\", \"Series Name\": \"Time to export, documentary compliance (hours)\", \"year\": \"2017\", \"value\": 0.954545455}, {\"Country Name\": \"Euro area\", \"Series Name\": \"Time to export, documentary compliance (hours)\", \"year\": \"2017\", \"value\": 2.157894737}, {\"Country Name\": \"European Union\", \"Series Name\": \"Time to export, documentary compliance (hours)\", \"year\": \"2017\", \"value\": 1.740740741}, {\"Country Name\": \"North America\", \"Series Name\": \"Time to export, border compliance (hours)\", \"year\": \"2017\", \"value\": 1.75}, {\"Country Name\": \"North America\", \"Series Name\": \"Time to export, documentary compliance (hours)\", \"year\": \"2017\", \"value\": 1.25}, {\"Country Name\": \"OECD members\", \"Series Name\": \"Time to export, documentary compliance (hours)\", \"year\": \"2017\", \"value\": 4.661144737}, {\"Country Name\": \"Armenia\", \"Series Name\": \"Time to export, documentary compliance (hours)\", \"year\": \"2018\", \"value\": 2.0}, {\"Country Name\": \"Austria\", \"Series Name\": \"Time to export, border compliance (hours)\", \"year\": \"2018\", \"value\": 0.0}, {\"Country Name\": \"Austria\", \"Series Name\": \"Time to export, documentary compliance (hours)\", \"year\": \"2018\", \"value\": 0.5}, {\"Country Name\": \"Belarus\", \"Series Name\": \"Time to export, documentary compliance (hours)\", \"year\": \"2018\", \"value\": 4.0}, {\"Country Name\": \"Belgium\", \"Series Name\": \"Time to export, border compliance (hours)\", \"year\": \"2018\", \"value\": 0.0}, {\"Country Name\": \"Belgium\", \"Series Name\": \"Time to export, documentary compliance (hours)\", \"year\": \"2018\", \"value\": 0.5}, {\"Country Name\": \"Bosnia and Herzegovina\", \"Series Name\": \"Time to export, documentary compliance (hours)\", \"year\": \"2018\", \"value\": 4.333333}, {\"Country Name\": \"Bulgaria\", \"Series Name\": \"Time to export, border compliance (hours)\", \"year\": \"2018\", \"value\": 4.4}, {\"Country Name\": \"Bulgaria\", \"Series Name\": \"Time to export, documentary compliance (hours)\", \"year\": \"2018\", \"value\": 1.75}, {\"Country Name\": \"Canada\", \"Series Name\": \"Time to export, border compliance (hours)\", \"year\": \"2018\", \"value\": 2.0}, {\"Country Name\": \"Canada\", \"Series Name\": \"Time to export, documentary compliance (hours)\", \"year\": \"2018\", \"value\": 1.0}, {\"Country Name\": \"Croatia\", \"Series Name\": \"Time to export, border compliance (hours)\", \"year\": \"2018\", \"value\": 0.1285714}, {\"Country Name\": \"Croatia\", \"Series Name\": \"Time to export, documentary compliance (hours)\", \"year\": \"2018\", \"value\": 0.5}, {\"Country Name\": \"Cyprus\", \"Series Name\": \"Time to export, documentary compliance (hours)\", \"year\": \"2018\", \"value\": 2.0}, {\"Country Name\": \"Czechia\", \"Series Name\": \"Time to export, border compliance (hours)\", \"year\": \"2018\", \"value\": 0.0}, {\"Country Name\": \"Czechia\", \"Series Name\": \"Time to export, documentary compliance (hours)\", \"year\": \"2018\", \"value\": 0.5}, {\"Country Name\": \"Denmark\", \"Series Name\": \"Time to export, border compliance (hours)\", \"year\": \"2018\", \"value\": 0.0}, {\"Country Name\": \"Denmark\", \"Series Name\": \"Time to export, documentary compliance (hours)\", \"year\": \"2018\", \"value\": 0.5}, {\"Country Name\": \"Estonia\", \"Series Name\": \"Time to export, border compliance (hours)\", \"year\": \"2018\", \"value\": 2.0}, {\"Country Name\": \"Estonia\", \"Series Name\": \"Time to export, documentary compliance (hours)\", \"year\": \"2018\", \"value\": 0.5}, {\"Country Name\": \"Eswatini\", \"Series Name\": \"Time to export, border compliance (hours)\", \"year\": \"2018\", \"value\": 2.111111}, {\"Country Name\": \"Eswatini\", \"Series Name\": \"Time to export, documentary compliance (hours)\", \"year\": \"2018\", \"value\": 2.0}, {\"Country Name\": \"Finland\", \"Series Name\": \"Time to export, documentary compliance (hours)\", \"year\": \"2018\", \"value\": 2.0}, {\"Country Name\": \"France\", \"Series Name\": \"Time to export, border compliance (hours)\", \"year\": \"2018\", \"value\": 0.0}, {\"Country Name\": \"France\", \"Series Name\": \"Time to export, documentary compliance (hours)\", \"year\": \"2018\", \"value\": 0.5}, {\"Country Name\": \"Georgia\", \"Series Name\": \"Time to export, documentary compliance (hours)\", \"year\": \"2018\", \"value\": 2.0}, {\"Country Name\": \"Germany\", \"Series Name\": \"Time to export, documentary compliance (hours)\", \"year\": \"2018\", \"value\": 1.0}, {\"Country Name\": \"Greece\", \"Series Name\": \"Time to export, documentary compliance (hours)\", \"year\": \"2018\", \"value\": 1.0}, {\"Country Name\": \"Hong Kong SAR, China\", \"Series Name\": \"Time to export, border compliance (hours)\", \"year\": \"2018\", \"value\": 1.0}, {\"Country Name\": \"Hong Kong SAR, China\", \"Series Name\": \"Time to export, documentary compliance (hours)\", \"year\": \"2018\", \"value\": 0.666}, {\"Country Name\": \"Hungary\", \"Series Name\": \"Time to export, border compliance (hours)\", \"year\": \"2018\", \"value\": 0.0}, {\"Country Name\": \"Hungary\", \"Series Name\": \"Time to export, documentary compliance (hours)\", \"year\": \"2018\", \"value\": 0.75}, {\"Country Name\": \"Iceland\", \"Series Name\": \"Time to export, documentary compliance (hours)\", \"year\": \"2018\", \"value\": 2.0}, {\"Country Name\": \"Ireland\", \"Series Name\": \"Time to export, documentary compliance (hours)\", \"year\": \"2018\", \"value\": 1.0}, {\"Country Name\": \"Italy\", \"Series Name\": \"Time to export, border compliance (hours)\", \"year\": \"2018\", \"value\": 0.0}, {\"Country Name\": \"Italy\", \"Series Name\": \"Time to export, documentary compliance (hours)\", \"year\": \"2018\", \"value\": 0.5}, {\"Country Name\": \"Japan\", \"Series Name\": \"Time to export, documentary compliance (hours)\", \"year\": \"2018\", \"value\": 2.3735}, {\"Country Name\": \"Korea, Rep.\", \"Series Name\": \"Time to export, documentary compliance (hours)\", \"year\": \"2018\", \"value\": 1.0}, {\"Country Name\": \"Latvia\", \"Series Name\": \"Time to export, documentary compliance (hours)\", \"year\": \"2018\", \"value\": 2.0}, {\"Country Name\": \"Lesotho\", \"Series Name\": \"Time to export, border compliance (hours)\", \"year\": \"2018\", \"value\": 4.0}, {\"Country Name\": \"Lesotho\", \"Series Name\": \"Time to export, documentary compliance (hours)\", \"year\": \"2018\", \"value\": 1.0}, {\"Country Name\": \"Liechtenstein\", \"Series Name\": \"Time to export, border compliance (hours)\", \"year\": \"2018\", \"value\": 1.0}, {\"Country Name\": \"Liechtenstein\", \"Series Name\": \"Time to export, documentary compliance (hours)\", \"year\": \"2018\", \"value\": 1.5}, {\"Country Name\": \"Lithuania\", \"Series Name\": \"Time to export, documentary compliance (hours)\", \"year\": \"2018\", \"value\": 2.5}, {\"Country Name\": \"Luxembourg\", \"Series Name\": \"Time to export, border compliance (hours)\", \"year\": \"2018\", \"value\": 0.0}, {\"Country Name\": \"Luxembourg\", \"Series Name\": \"Time to export, documentary compliance (hours)\", \"year\": \"2018\", \"value\": 0.5}, {\"Country Name\": \"Moldova\", \"Series Name\": \"Time to export, border compliance (hours)\", \"year\": \"2018\", \"value\": 3.0}, {\"Country Name\": \"Netherlands\", \"Series Name\": \"Time to export, border compliance (hours)\", \"year\": \"2018\", \"value\": 0.0}, {\"Country Name\": \"Netherlands\", \"Series Name\": \"Time to export, documentary compliance (hours)\", \"year\": \"2018\", \"value\": 0.5}, {\"Country Name\": \"New Zealand\", \"Series Name\": \"Time to export, documentary compliance (hours)\", \"year\": \"2018\", \"value\": 3.0}, {\"Country Name\": \"North Macedonia\", \"Series Name\": \"Time to export, documentary compliance (hours)\", \"year\": \"2018\", \"value\": 2.0}, {\"Country Name\": \"Norway\", \"Series Name\": \"Time to export, border compliance (hours)\", \"year\": \"2018\", \"value\": 2.0}, {\"Country Name\": \"Norway\", \"Series Name\": \"Time to export, documentary compliance (hours)\", \"year\": \"2018\", \"value\": 2.0}, {\"Country Name\": \"Poland\", \"Series Name\": \"Time to export, border compliance (hours)\", \"year\": \"2018\", \"value\": 0.0}, {\"Country Name\": \"Poland\", \"Series Name\": \"Time to export, documentary compliance (hours)\", \"year\": \"2018\", \"value\": 0.5}, {\"Country Name\": \"Portugal\", \"Series Name\": \"Time to export, border compliance (hours)\", \"year\": \"2018\", \"value\": 0.0}, {\"Country Name\": \"Portugal\", \"Series Name\": \"Time to export, documentary compliance (hours)\", \"year\": \"2018\", \"value\": 0.5}, {\"Country Name\": \"Puerto Rico\", \"Series Name\": \"Time to export, documentary compliance (hours)\", \"year\": \"2018\", \"value\": 1.714286}, {\"Country Name\": \"Romania\", \"Series Name\": \"Time to export, border compliance (hours)\", \"year\": \"2018\", \"value\": 0.375}, {\"Country Name\": \"Romania\", \"Series Name\": \"Time to export, documentary compliance (hours)\", \"year\": \"2018\", \"value\": 0.5}, {\"Country Name\": \"San Marino\", \"Series Name\": \"Time to export, border compliance (hours)\", \"year\": \"2018\", \"value\": 0.0}, {\"Country Name\": \"San Marino\", \"Series Name\": \"Time to export, documentary compliance (hours)\", \"year\": \"2018\", \"value\": 0.5}, {\"Country Name\": \"Serbia\", \"Series Name\": \"Time to export, border compliance (hours)\", \"year\": \"2018\", \"value\": 3.666667}, {\"Country Name\": \"Serbia\", \"Series Name\": \"Time to export, documentary compliance (hours)\", \"year\": \"2018\", \"value\": 2.333333}, {\"Country Name\": \"Singapore\", \"Series Name\": \"Time to export, documentary compliance (hours)\", \"year\": \"2018\", \"value\": 2.0}, {\"Country Name\": \"Slovak Republic\", \"Series Name\": \"Time to export, border compliance (hours)\", \"year\": \"2018\", \"value\": 0.0}, {\"Country Name\": \"Slovak Republic\", \"Series Name\": \"Time to export, documentary compliance (hours)\", \"year\": \"2018\", \"value\": 0.5}, {\"Country Name\": \"Slovenia\", \"Series Name\": \"Time to export, border compliance (hours)\", \"year\": \"2018\", \"value\": 0.0}, {\"Country Name\": \"Slovenia\", \"Series Name\": \"Time to export, documentary compliance (hours)\", \"year\": \"2018\", \"value\": 0.5}, {\"Country Name\": \"Spain\", \"Series Name\": \"Time to export, border compliance (hours)\", \"year\": \"2018\", \"value\": 0.0}, {\"Country Name\": \"Spain\", \"Series Name\": \"Time to export, documentary compliance (hours)\", \"year\": \"2018\", \"value\": 0.5}, {\"Country Name\": \"Sweden\", \"Series Name\": \"Time to export, border compliance (hours)\", \"year\": \"2018\", \"value\": 1.83}, {\"Country Name\": \"Sweden\", \"Series Name\": \"Time to export, documentary compliance (hours)\", \"year\": \"2018\", \"value\": 1.0}, {\"Country Name\": \"Switzerland\", \"Series Name\": \"Time to export, border compliance (hours)\", \"year\": \"2018\", \"value\": 1.0}, {\"Country Name\": \"Switzerland\", \"Series Name\": \"Time to export, documentary compliance (hours)\", \"year\": \"2018\", \"value\": 1.5}, {\"Country Name\": \"Tunisia\", \"Series Name\": \"Time to export, documentary compliance (hours)\", \"year\": \"2018\", \"value\": 3.0}, {\"Country Name\": \"Turkiye\", \"Series Name\": \"Time to export, documentary compliance (hours)\", \"year\": \"2018\", \"value\": 4.0}, {\"Country Name\": \"United Kingdom\", \"Series Name\": \"Time to export, documentary compliance (hours)\", \"year\": \"2018\", \"value\": 4.0}, {\"Country Name\": \"United States\", \"Series Name\": \"Time to export, border compliance (hours)\", \"year\": \"2018\", \"value\": 1.5}, {\"Country Name\": \"United States\", \"Series Name\": \"Time to export, documentary compliance (hours)\", \"year\": \"2018\", \"value\": 1.5}, {\"Country Name\": \"Central Europe and the Baltics\", \"Series Name\": \"Time to export, border compliance (hours)\", \"year\": \"2018\", \"value\": 3.473751218}, {\"Country Name\": \"Central Europe and the Baltics\", \"Series Name\": \"Time to export, documentary compliance (hours)\", \"year\": \"2018\", \"value\": 0.954545455}, {\"Country Name\": \"Euro area\", \"Series Name\": \"Time to export, documentary compliance (hours)\", \"year\": \"2018\", \"value\": 2.157894737}, {\"Country Name\": \"European Union\", \"Series Name\": \"Time to export, documentary compliance (hours)\", \"year\": \"2018\", \"value\": 1.740740741}, {\"Country Name\": \"North America\", \"Series Name\": \"Time to export, border compliance (hours)\", \"year\": \"2018\", \"value\": 1.75}, {\"Country Name\": \"North America\", \"Series Name\": \"Time to export, documentary compliance (hours)\", \"year\": \"2018\", \"value\": 1.25}, {\"Country Name\": \"OECD members\", \"Series Name\": \"Time to export, documentary compliance (hours)\", \"year\": \"2018\", \"value\": 4.634828947}, {\"Country Name\": \"Armenia\", \"Series Name\": \"Time to export, documentary compliance (hours)\", \"year\": \"2019\", \"value\": 2.0}, {\"Country Name\": \"Austria\", \"Series Name\": \"Time to export, border compliance (hours)\", \"year\": \"2019\", \"value\": 0.0}, {\"Country Name\": \"Austria\", \"Series Name\": \"Time to export, documentary compliance (hours)\", \"year\": \"2019\", \"value\": 0.5}, {\"Country Name\": \"Belarus\", \"Series Name\": \"Time to export, documentary compliance (hours)\", \"year\": \"2019\", \"value\": 4.0}, {\"Country Name\": \"Belgium\", \"Series Name\": \"Time to export, border compliance (hours)\", \"year\": \"2019\", \"value\": 0.0}, {\"Country Name\": \"Belgium\", \"Series Name\": \"Time to export, documentary compliance (hours)\", \"year\": \"2019\", \"value\": 0.5}, {\"Country Name\": \"Bosnia and Herzegovina\", \"Series Name\": \"Time to export, documentary compliance (hours)\", \"year\": \"2019\", \"value\": 4.333333}, {\"Country Name\": \"Bulgaria\", \"Series Name\": \"Time to export, border compliance (hours)\", \"year\": \"2019\", \"value\": 4.4}, {\"Country Name\": \"Bulgaria\", \"Series Name\": \"Time to export, documentary compliance (hours)\", \"year\": \"2019\", \"value\": 1.75}, {\"Country Name\": \"Canada\", \"Series Name\": \"Time to export, border compliance (hours)\", \"year\": \"2019\", \"value\": 2.0}, {\"Country Name\": \"Canada\", \"Series Name\": \"Time to export, documentary compliance (hours)\", \"year\": \"2019\", \"value\": 1.0}, {\"Country Name\": \"Croatia\", \"Series Name\": \"Time to export, border compliance (hours)\", \"year\": \"2019\", \"value\": 0.1285714}, {\"Country Name\": \"Croatia\", \"Series Name\": \"Time to export, documentary compliance (hours)\", \"year\": \"2019\", \"value\": 0.5}, {\"Country Name\": \"Cyprus\", \"Series Name\": \"Time to export, documentary compliance (hours)\", \"year\": \"2019\", \"value\": 2.0}, {\"Country Name\": \"Czechia\", \"Series Name\": \"Time to export, border compliance (hours)\", \"year\": \"2019\", \"value\": 0.0}, {\"Country Name\": \"Czechia\", \"Series Name\": \"Time to export, documentary compliance (hours)\", \"year\": \"2019\", \"value\": 0.5}, {\"Country Name\": \"Denmark\", \"Series Name\": \"Time to export, border compliance (hours)\", \"year\": \"2019\", \"value\": 0.0}, {\"Country Name\": \"Denmark\", \"Series Name\": \"Time to export, documentary compliance (hours)\", \"year\": \"2019\", \"value\": 0.5}, {\"Country Name\": \"Estonia\", \"Series Name\": \"Time to export, border compliance (hours)\", \"year\": \"2019\", \"value\": 2.0}, {\"Country Name\": \"Estonia\", \"Series Name\": \"Time to export, documentary compliance (hours)\", \"year\": \"2019\", \"value\": 0.5}, {\"Country Name\": \"Eswatini\", \"Series Name\": \"Time to export, border compliance (hours)\", \"year\": \"2019\", \"value\": 2.111111}, {\"Country Name\": \"Eswatini\", \"Series Name\": \"Time to export, documentary compliance (hours)\", \"year\": \"2019\", \"value\": 2.0}, {\"Country Name\": \"Finland\", \"Series Name\": \"Time to export, documentary compliance (hours)\", \"year\": \"2019\", \"value\": 2.0}, {\"Country Name\": \"France\", \"Series Name\": \"Time to export, border compliance (hours)\", \"year\": \"2019\", \"value\": 0.0}, {\"Country Name\": \"France\", \"Series Name\": \"Time to export, documentary compliance (hours)\", \"year\": \"2019\", \"value\": 0.5}, {\"Country Name\": \"Georgia\", \"Series Name\": \"Time to export, documentary compliance (hours)\", \"year\": \"2019\", \"value\": 1.5}, {\"Country Name\": \"Germany\", \"Series Name\": \"Time to export, documentary compliance (hours)\", \"year\": \"2019\", \"value\": 1.0}, {\"Country Name\": \"Greece\", \"Series Name\": \"Time to export, documentary compliance (hours)\", \"year\": \"2019\", \"value\": 1.0}, {\"Country Name\": \"Hong Kong SAR, China\", \"Series Name\": \"Time to export, border compliance (hours)\", \"year\": \"2019\", \"value\": 1.0}, {\"Country Name\": \"Hong Kong SAR, China\", \"Series Name\": \"Time to export, documentary compliance (hours)\", \"year\": \"2019\", \"value\": 0.666}, {\"Country Name\": \"Hungary\", \"Series Name\": \"Time to export, border compliance (hours)\", \"year\": \"2019\", \"value\": 0.0}, {\"Country Name\": \"Hungary\", \"Series Name\": \"Time to export, documentary compliance (hours)\", \"year\": \"2019\", \"value\": 0.75}, {\"Country Name\": \"Iceland\", \"Series Name\": \"Time to export, documentary compliance (hours)\", \"year\": \"2019\", \"value\": 2.0}, {\"Country Name\": \"Ireland\", \"Series Name\": \"Time to export, documentary compliance (hours)\", \"year\": \"2019\", \"value\": 1.0}, {\"Country Name\": \"Italy\", \"Series Name\": \"Time to export, border compliance (hours)\", \"year\": \"2019\", \"value\": 0.0}, {\"Country Name\": \"Italy\", \"Series Name\": \"Time to export, documentary compliance (hours)\", \"year\": \"2019\", \"value\": 0.5}, {\"Country Name\": \"Japan\", \"Series Name\": \"Time to export, documentary compliance (hours)\", \"year\": \"2019\", \"value\": 2.3735}, {\"Country Name\": \"Korea, Rep.\", \"Series Name\": \"Time to export, documentary compliance (hours)\", \"year\": \"2019\", \"value\": 1.0}, {\"Country Name\": \"Kosovo\", \"Series Name\": \"Time to export, border compliance (hours)\", \"year\": \"2019\", \"value\": 3.5}, {\"Country Name\": \"Latvia\", \"Series Name\": \"Time to export, documentary compliance (hours)\", \"year\": \"2019\", \"value\": 2.0}, {\"Country Name\": \"Lesotho\", \"Series Name\": \"Time to export, border compliance (hours)\", \"year\": \"2019\", \"value\": 4.0}, {\"Country Name\": \"Lesotho\", \"Series Name\": \"Time to export, documentary compliance (hours)\", \"year\": \"2019\", \"value\": 1.0}, {\"Country Name\": \"Liechtenstein\", \"Series Name\": \"Time to export, border compliance (hours)\", \"year\": \"2019\", \"value\": 1.0}, {\"Country Name\": \"Liechtenstein\", \"Series Name\": \"Time to export, documentary compliance (hours)\", \"year\": \"2019\", \"value\": 1.5}, {\"Country Name\": \"Lithuania\", \"Series Name\": \"Time to export, documentary compliance (hours)\", \"year\": \"2019\", \"value\": 2.5}, {\"Country Name\": \"Luxembourg\", \"Series Name\": \"Time to export, border compliance (hours)\", \"year\": \"2019\", \"value\": 0.0}, {\"Country Name\": \"Luxembourg\", \"Series Name\": \"Time to export, documentary compliance (hours)\", \"year\": \"2019\", \"value\": 0.5}, {\"Country Name\": \"Moldova\", \"Series Name\": \"Time to export, border compliance (hours)\", \"year\": \"2019\", \"value\": 3.0}, {\"Country Name\": \"Netherlands\", \"Series Name\": \"Time to export, border compliance (hours)\", \"year\": \"2019\", \"value\": 0.0}, {\"Country Name\": \"Netherlands\", \"Series Name\": \"Time to export, documentary compliance (hours)\", \"year\": \"2019\", \"value\": 0.5}, {\"Country Name\": \"New Zealand\", \"Series Name\": \"Time to export, documentary compliance (hours)\", \"year\": \"2019\", \"value\": 3.0}, {\"Country Name\": \"North Macedonia\", \"Series Name\": \"Time to export, documentary compliance (hours)\", \"year\": \"2019\", \"value\": 2.0}, {\"Country Name\": \"Norway\", \"Series Name\": \"Time to export, border compliance (hours)\", \"year\": \"2019\", \"value\": 2.0}, {\"Country Name\": \"Norway\", \"Series Name\": \"Time to export, documentary compliance (hours)\", \"year\": \"2019\", \"value\": 2.0}, {\"Country Name\": \"Poland\", \"Series Name\": \"Time to export, border compliance (hours)\", \"year\": \"2019\", \"value\": 0.0}, {\"Country Name\": \"Poland\", \"Series Name\": \"Time to export, documentary compliance (hours)\", \"year\": \"2019\", \"value\": 0.5}, {\"Country Name\": \"Portugal\", \"Series Name\": \"Time to export, border compliance (hours)\", \"year\": \"2019\", \"value\": 0.0}, {\"Country Name\": \"Portugal\", \"Series Name\": \"Time to export, documentary compliance (hours)\", \"year\": \"2019\", \"value\": 0.5}, {\"Country Name\": \"Puerto Rico\", \"Series Name\": \"Time to export, documentary compliance (hours)\", \"year\": \"2019\", \"value\": 1.714286}, {\"Country Name\": \"Romania\", \"Series Name\": \"Time to export, border compliance (hours)\", \"year\": \"2019\", \"value\": 0.375}, {\"Country Name\": \"Romania\", \"Series Name\": \"Time to export, documentary compliance (hours)\", \"year\": \"2019\", \"value\": 0.5}, {\"Country Name\": \"San Marino\", \"Series Name\": \"Time to export, border compliance (hours)\", \"year\": \"2019\", \"value\": 0.0}, {\"Country Name\": \"San Marino\", \"Series Name\": \"Time to export, documentary compliance (hours)\", \"year\": \"2019\", \"value\": 0.5}, {\"Country Name\": \"Serbia\", \"Series Name\": \"Time to export, border compliance (hours)\", \"year\": \"2019\", \"value\": 4.13}, {\"Country Name\": \"Serbia\", \"Series Name\": \"Time to export, documentary compliance (hours)\", \"year\": \"2019\", \"value\": 2.333333}, {\"Country Name\": \"Singapore\", \"Series Name\": \"Time to export, documentary compliance (hours)\", \"year\": \"2019\", \"value\": 2.0}, {\"Country Name\": \"Slovak Republic\", \"Series Name\": \"Time to export, border compliance (hours)\", \"year\": \"2019\", \"value\": 0.0}, {\"Country Name\": \"Slovak Republic\", \"Series Name\": \"Time to export, documentary compliance (hours)\", \"year\": \"2019\", \"value\": 0.5}, {\"Country Name\": \"Slovenia\", \"Series Name\": \"Time to export, border compliance (hours)\", \"year\": \"2019\", \"value\": 0.0}, {\"Country Name\": \"Slovenia\", \"Series Name\": \"Time to export, documentary compliance (hours)\", \"year\": \"2019\", \"value\": 0.5}, {\"Country Name\": \"Spain\", \"Series Name\": \"Time to export, border compliance (hours)\", \"year\": \"2019\", \"value\": 0.0}, {\"Country Name\": \"Spain\", \"Series Name\": \"Time to export, documentary compliance (hours)\", \"year\": \"2019\", \"value\": 0.5}, {\"Country Name\": \"Sweden\", \"Series Name\": \"Time to export, border compliance (hours)\", \"year\": \"2019\", \"value\": 1.83}, {\"Country Name\": \"Sweden\", \"Series Name\": \"Time to export, documentary compliance (hours)\", \"year\": \"2019\", \"value\": 1.0}, {\"Country Name\": \"Switzerland\", \"Series Name\": \"Time to export, border compliance (hours)\", \"year\": \"2019\", \"value\": 1.0}, {\"Country Name\": \"Switzerland\", \"Series Name\": \"Time to export, documentary compliance (hours)\", \"year\": \"2019\", \"value\": 1.5}, {\"Country Name\": \"Tunisia\", \"Series Name\": \"Time to export, documentary compliance (hours)\", \"year\": \"2019\", \"value\": 3.0}, {\"Country Name\": \"Turkiye\", \"Series Name\": \"Time to export, documentary compliance (hours)\", \"year\": \"2019\", \"value\": 4.0}, {\"Country Name\": \"United Arab Emirates\", \"Series Name\": \"Time to export, documentary compliance (hours)\", \"year\": \"2019\", \"value\": 4.5}, {\"Country Name\": \"United Kingdom\", \"Series Name\": \"Time to export, documentary compliance (hours)\", \"year\": \"2019\", \"value\": 4.0}, {\"Country Name\": \"United States\", \"Series Name\": \"Time to export, border compliance (hours)\", \"year\": \"2019\", \"value\": 1.5}, {\"Country Name\": \"United States\", \"Series Name\": \"Time to export, documentary compliance (hours)\", \"year\": \"2019\", \"value\": 1.5}, {\"Country Name\": \"Central Europe and the Baltics\", \"Series Name\": \"Time to export, border compliance (hours)\", \"year\": \"2019\", \"value\": 3.473751218}, {\"Country Name\": \"Central Europe and the Baltics\", \"Series Name\": \"Time to export, documentary compliance (hours)\", \"year\": \"2019\", \"value\": 0.954545455}, {\"Country Name\": \"Euro area\", \"Series Name\": \"Time to export, documentary compliance (hours)\", \"year\": \"2019\", \"value\": 2.157894737}, {\"Country Name\": \"European Union\", \"Series Name\": \"Time to export, documentary compliance (hours)\", \"year\": \"2019\", \"value\": 1.740740741}, {\"Country Name\": \"North America\", \"Series Name\": \"Time to export, border compliance (hours)\", \"year\": \"2019\", \"value\": 1.75}, {\"Country Name\": \"North America\", \"Series Name\": \"Time to export, documentary compliance (hours)\", \"year\": \"2019\", \"value\": 1.25}, {\"Country Name\": \"OECD members\", \"Series Name\": \"Time to export, documentary compliance (hours)\", \"year\": \"2019\", \"value\": 4.25325}]}}, {\"mode\": \"vega-lite\"});\n",
       "</script>"
      ],
      "text/plain": [
       "alt.Chart(...)"
      ]
     },
     "execution_count": 37,
     "metadata": {},
     "output_type": "execute_result"
    }
   ],
   "source": [
    "filtered_export = df[(df['Country Name'].isin(countries)) & \n",
    "                     (df['year'].isin(years)) & \n",
    "                     ((df['Series Name'] == 'Time to export, border compliance (hours)') |\n",
    "                      (df['Series Name'] == 'Time to export, documentary compliance (hours)')) & \n",
    "                     (df['value'] < 5.00)]\n",
    "\n",
    "chart = alt.Chart(filtered_export).mark_bar(orient='horizontal').encode(\n",
    "        y=alt.Y('year', title=None),\n",
    "        x=alt.X('sum(value)', title='Days'),\n",
    "        color='Country Name',\n",
    "        row=alt.Row('Series Name', title=None),\n",
    "        tooltip=['Country Name', 'year', 'value'])\n",
    "chart"
   ]
  },
  {
   "cell_type": "code",
   "execution_count": null,
   "metadata": {},
   "outputs": [],
   "source": [
    "filtered_border = df[(df['Country Name'].isin(countries)) & \n",
    "                     (df['year'].isin(years)) & \n",
    "                     ((df['Series Name'] == 'Time to export, border compliance (hours)')) & \n",
    "                     (df['value'] < 10.00)]\n",
    "\n",
    "filtered_documentary = df[(df['Country Name'].isin(countries)) & \n",
    "                           (df['year'].isin(years)) & \n",
    "                           ((df['Series Name'] == 'Time to export, documentary compliance (hours)')) & \n",
    "                           (df['value'] < 10.00)]\n",
    "\n",
    "filtered_export = pd.concat([filtered_border, filtered_documentary])"
   ]
  },
  {
   "cell_type": "code",
   "execution_count": 34,
   "metadata": {},
   "outputs": [
    {
     "data": {
      "text/html": [
       "<div>\n",
       "<style scoped>\n",
       "    .dataframe tbody tr th:only-of-type {\n",
       "        vertical-align: middle;\n",
       "    }\n",
       "\n",
       "    .dataframe tbody tr th {\n",
       "        vertical-align: top;\n",
       "    }\n",
       "\n",
       "    .dataframe thead th {\n",
       "        text-align: right;\n",
       "    }\n",
       "</style>\n",
       "<table border=\"1\" class=\"dataframe\">\n",
       "  <thead>\n",
       "    <tr style=\"text-align: right;\">\n",
       "      <th></th>\n",
       "      <th>Country Name</th>\n",
       "      <th>Series Name</th>\n",
       "      <th>year</th>\n",
       "      <th>value</th>\n",
       "    </tr>\n",
       "  </thead>\n",
       "  <tbody>\n",
       "    <tr>\n",
       "      <th>18</th>\n",
       "      <td>Afghanistan</td>\n",
       "      <td>Time to export, border compliance (hours)</td>\n",
       "      <td>2014</td>\n",
       "      <td>48.000000</td>\n",
       "    </tr>\n",
       "    <tr>\n",
       "      <th>19</th>\n",
       "      <td>Afghanistan</td>\n",
       "      <td>Time to export, documentary compliance (hours)</td>\n",
       "      <td>2014</td>\n",
       "      <td>242.666700</td>\n",
       "    </tr>\n",
       "    <tr>\n",
       "      <th>40</th>\n",
       "      <td>Albania</td>\n",
       "      <td>Time to export, border compliance (hours)</td>\n",
       "      <td>2014</td>\n",
       "      <td>14.000000</td>\n",
       "    </tr>\n",
       "    <tr>\n",
       "      <th>41</th>\n",
       "      <td>Albania</td>\n",
       "      <td>Time to export, documentary compliance (hours)</td>\n",
       "      <td>2014</td>\n",
       "      <td>6.000000</td>\n",
       "    </tr>\n",
       "    <tr>\n",
       "      <th>62</th>\n",
       "      <td>Algeria</td>\n",
       "      <td>Time to export, border compliance (hours)</td>\n",
       "      <td>2014</td>\n",
       "      <td>80.000000</td>\n",
       "    </tr>\n",
       "    <tr>\n",
       "      <th>...</th>\n",
       "      <td>...</td>\n",
       "      <td>...</td>\n",
       "      <td>...</td>\n",
       "      <td>...</td>\n",
       "    </tr>\n",
       "    <tr>\n",
       "      <th>31369</th>\n",
       "      <td>Sub-Saharan Africa (IDA &amp; IBRD countries)</td>\n",
       "      <td>Time to export, documentary compliance (hours)</td>\n",
       "      <td>2019</td>\n",
       "      <td>71.865151</td>\n",
       "    </tr>\n",
       "    <tr>\n",
       "      <th>31390</th>\n",
       "      <td>Upper middle income</td>\n",
       "      <td>Time to export, border compliance (hours)</td>\n",
       "      <td>2019</td>\n",
       "      <td>48.030027</td>\n",
       "    </tr>\n",
       "    <tr>\n",
       "      <th>31391</th>\n",
       "      <td>Upper middle income</td>\n",
       "      <td>Time to export, documentary compliance (hours)</td>\n",
       "      <td>2019</td>\n",
       "      <td>44.475803</td>\n",
       "    </tr>\n",
       "    <tr>\n",
       "      <th>31412</th>\n",
       "      <td>World</td>\n",
       "      <td>Time to export, border compliance (hours)</td>\n",
       "      <td>2019</td>\n",
       "      <td>52.869328</td>\n",
       "    </tr>\n",
       "    <tr>\n",
       "      <th>31413</th>\n",
       "      <td>World</td>\n",
       "      <td>Time to export, documentary compliance (hours)</td>\n",
       "      <td>2019</td>\n",
       "      <td>44.555596</td>\n",
       "    </tr>\n",
       "  </tbody>\n",
       "</table>\n",
       "<p>2820 rows × 4 columns</p>\n",
       "</div>"
      ],
      "text/plain": [
       "                                    Country Name  \\\n",
       "18                                   Afghanistan   \n",
       "19                                   Afghanistan   \n",
       "40                                       Albania   \n",
       "41                                       Albania   \n",
       "62                                       Algeria   \n",
       "...                                          ...   \n",
       "31369  Sub-Saharan Africa (IDA & IBRD countries)   \n",
       "31390                        Upper middle income   \n",
       "31391                        Upper middle income   \n",
       "31412                                      World   \n",
       "31413                                      World   \n",
       "\n",
       "                                          Series Name  year       value  \n",
       "18          Time to export, border compliance (hours)  2014   48.000000  \n",
       "19     Time to export, documentary compliance (hours)  2014  242.666700  \n",
       "40          Time to export, border compliance (hours)  2014   14.000000  \n",
       "41     Time to export, documentary compliance (hours)  2014    6.000000  \n",
       "62          Time to export, border compliance (hours)  2014   80.000000  \n",
       "...                                               ...   ...         ...  \n",
       "31369  Time to export, documentary compliance (hours)  2019   71.865151  \n",
       "31390       Time to export, border compliance (hours)  2019   48.030027  \n",
       "31391  Time to export, documentary compliance (hours)  2019   44.475803  \n",
       "31412       Time to export, border compliance (hours)  2019   52.869328  \n",
       "31413  Time to export, documentary compliance (hours)  2019   44.555596  \n",
       "\n",
       "[2820 rows x 4 columns]"
      ]
     },
     "execution_count": 34,
     "metadata": {},
     "output_type": "execute_result"
    }
   ],
   "source": [
    "filtered_export"
   ]
  },
  {
   "cell_type": "code",
   "execution_count": 37,
   "metadata": {},
   "outputs": [
    {
     "data": {
      "text/plain": [
       "['Bangladesh', 'India', 'China', 'Canada']"
      ]
     },
     "execution_count": 37,
     "metadata": {},
     "output_type": "execute_result"
    }
   ],
   "source": [
    "countries"
   ]
  },
  {
   "cell_type": "code",
   "execution_count": 21,
   "metadata": {},
   "outputs": [
    {
     "ename": "MaxRowsError",
     "evalue": "The number of rows in your dataset is greater than the maximum allowed (5000). For information on how to plot larger datasets in Altair, see the documentation",
     "output_type": "error",
     "traceback": [
      "\u001b[1;31m---------------------------------------------------------------------------\u001b[0m",
      "\u001b[1;31mMaxRowsError\u001b[0m                              Traceback (most recent call last)",
      "\u001b[1;32mc:\\Users\\avish\\anaconda3\\lib\\site-packages\\altair\\vegalite\\v4\\api.py\u001b[0m in \u001b[0;36mto_dict\u001b[1;34m(self, *args, **kwargs)\u001b[0m\n\u001b[0;32m    361\u001b[0m         \u001b[0mcopy\u001b[0m \u001b[1;33m=\u001b[0m \u001b[0mself\u001b[0m\u001b[1;33m.\u001b[0m\u001b[0mcopy\u001b[0m\u001b[1;33m(\u001b[0m\u001b[0mdeep\u001b[0m\u001b[1;33m=\u001b[0m\u001b[1;32mFalse\u001b[0m\u001b[1;33m)\u001b[0m\u001b[1;33m\u001b[0m\u001b[1;33m\u001b[0m\u001b[0m\n\u001b[0;32m    362\u001b[0m         \u001b[0moriginal_data\u001b[0m \u001b[1;33m=\u001b[0m \u001b[0mgetattr\u001b[0m\u001b[1;33m(\u001b[0m\u001b[0mcopy\u001b[0m\u001b[1;33m,\u001b[0m \u001b[1;34m\"data\"\u001b[0m\u001b[1;33m,\u001b[0m \u001b[0mUndefined\u001b[0m\u001b[1;33m)\u001b[0m\u001b[1;33m\u001b[0m\u001b[1;33m\u001b[0m\u001b[0m\n\u001b[1;32m--> 363\u001b[1;33m         \u001b[0mcopy\u001b[0m\u001b[1;33m.\u001b[0m\u001b[0mdata\u001b[0m \u001b[1;33m=\u001b[0m \u001b[0m_prepare_data\u001b[0m\u001b[1;33m(\u001b[0m\u001b[0moriginal_data\u001b[0m\u001b[1;33m,\u001b[0m \u001b[0mcontext\u001b[0m\u001b[1;33m)\u001b[0m\u001b[1;33m\u001b[0m\u001b[1;33m\u001b[0m\u001b[0m\n\u001b[0m\u001b[0;32m    364\u001b[0m \u001b[1;33m\u001b[0m\u001b[0m\n\u001b[0;32m    365\u001b[0m         \u001b[1;32mif\u001b[0m \u001b[0moriginal_data\u001b[0m \u001b[1;32mis\u001b[0m \u001b[1;32mnot\u001b[0m \u001b[0mUndefined\u001b[0m\u001b[1;33m:\u001b[0m\u001b[1;33m\u001b[0m\u001b[1;33m\u001b[0m\u001b[0m\n",
      "\u001b[1;32mc:\\Users\\avish\\anaconda3\\lib\\site-packages\\altair\\vegalite\\v4\\api.py\u001b[0m in \u001b[0;36m_prepare_data\u001b[1;34m(data, context)\u001b[0m\n\u001b[0;32m     82\u001b[0m     \u001b[1;31m# convert dataframes  or objects with __geo_interface__ to dict\u001b[0m\u001b[1;33m\u001b[0m\u001b[1;33m\u001b[0m\u001b[0m\n\u001b[0;32m     83\u001b[0m     \u001b[1;32mif\u001b[0m \u001b[0misinstance\u001b[0m\u001b[1;33m(\u001b[0m\u001b[0mdata\u001b[0m\u001b[1;33m,\u001b[0m \u001b[0mpd\u001b[0m\u001b[1;33m.\u001b[0m\u001b[0mDataFrame\u001b[0m\u001b[1;33m)\u001b[0m \u001b[1;32mor\u001b[0m \u001b[0mhasattr\u001b[0m\u001b[1;33m(\u001b[0m\u001b[0mdata\u001b[0m\u001b[1;33m,\u001b[0m \u001b[1;34m\"__geo_interface__\"\u001b[0m\u001b[1;33m)\u001b[0m\u001b[1;33m:\u001b[0m\u001b[1;33m\u001b[0m\u001b[1;33m\u001b[0m\u001b[0m\n\u001b[1;32m---> 84\u001b[1;33m         \u001b[0mdata\u001b[0m \u001b[1;33m=\u001b[0m \u001b[0m_pipe\u001b[0m\u001b[1;33m(\u001b[0m\u001b[0mdata\u001b[0m\u001b[1;33m,\u001b[0m \u001b[0mdata_transformers\u001b[0m\u001b[1;33m.\u001b[0m\u001b[0mget\u001b[0m\u001b[1;33m(\u001b[0m\u001b[1;33m)\u001b[0m\u001b[1;33m)\u001b[0m\u001b[1;33m\u001b[0m\u001b[1;33m\u001b[0m\u001b[0m\n\u001b[0m\u001b[0;32m     85\u001b[0m \u001b[1;33m\u001b[0m\u001b[0m\n\u001b[0;32m     86\u001b[0m     \u001b[1;31m# convert string input to a URLData\u001b[0m\u001b[1;33m\u001b[0m\u001b[1;33m\u001b[0m\u001b[0m\n",
      "\u001b[1;32mc:\\Users\\avish\\anaconda3\\lib\\site-packages\\toolz\\functoolz.py\u001b[0m in \u001b[0;36mpipe\u001b[1;34m(data, *funcs)\u001b[0m\n\u001b[0;32m    628\u001b[0m     \"\"\"\n\u001b[0;32m    629\u001b[0m     \u001b[1;32mfor\u001b[0m \u001b[0mfunc\u001b[0m \u001b[1;32min\u001b[0m \u001b[0mfuncs\u001b[0m\u001b[1;33m:\u001b[0m\u001b[1;33m\u001b[0m\u001b[1;33m\u001b[0m\u001b[0m\n\u001b[1;32m--> 630\u001b[1;33m         \u001b[0mdata\u001b[0m \u001b[1;33m=\u001b[0m \u001b[0mfunc\u001b[0m\u001b[1;33m(\u001b[0m\u001b[0mdata\u001b[0m\u001b[1;33m)\u001b[0m\u001b[1;33m\u001b[0m\u001b[1;33m\u001b[0m\u001b[0m\n\u001b[0m\u001b[0;32m    631\u001b[0m     \u001b[1;32mreturn\u001b[0m \u001b[0mdata\u001b[0m\u001b[1;33m\u001b[0m\u001b[1;33m\u001b[0m\u001b[0m\n\u001b[0;32m    632\u001b[0m \u001b[1;33m\u001b[0m\u001b[0m\n",
      "\u001b[1;32mc:\\Users\\avish\\anaconda3\\lib\\site-packages\\toolz\\functoolz.py\u001b[0m in \u001b[0;36m__call__\u001b[1;34m(self, *args, **kwargs)\u001b[0m\n\u001b[0;32m    304\u001b[0m     \u001b[1;32mdef\u001b[0m \u001b[0m__call__\u001b[0m\u001b[1;33m(\u001b[0m\u001b[0mself\u001b[0m\u001b[1;33m,\u001b[0m \u001b[1;33m*\u001b[0m\u001b[0margs\u001b[0m\u001b[1;33m,\u001b[0m \u001b[1;33m**\u001b[0m\u001b[0mkwargs\u001b[0m\u001b[1;33m)\u001b[0m\u001b[1;33m:\u001b[0m\u001b[1;33m\u001b[0m\u001b[1;33m\u001b[0m\u001b[0m\n\u001b[0;32m    305\u001b[0m         \u001b[1;32mtry\u001b[0m\u001b[1;33m:\u001b[0m\u001b[1;33m\u001b[0m\u001b[1;33m\u001b[0m\u001b[0m\n\u001b[1;32m--> 306\u001b[1;33m             \u001b[1;32mreturn\u001b[0m \u001b[0mself\u001b[0m\u001b[1;33m.\u001b[0m\u001b[0m_partial\u001b[0m\u001b[1;33m(\u001b[0m\u001b[1;33m*\u001b[0m\u001b[0margs\u001b[0m\u001b[1;33m,\u001b[0m \u001b[1;33m**\u001b[0m\u001b[0mkwargs\u001b[0m\u001b[1;33m)\u001b[0m\u001b[1;33m\u001b[0m\u001b[1;33m\u001b[0m\u001b[0m\n\u001b[0m\u001b[0;32m    307\u001b[0m         \u001b[1;32mexcept\u001b[0m \u001b[0mTypeError\u001b[0m \u001b[1;32mas\u001b[0m \u001b[0mexc\u001b[0m\u001b[1;33m:\u001b[0m\u001b[1;33m\u001b[0m\u001b[1;33m\u001b[0m\u001b[0m\n\u001b[0;32m    308\u001b[0m             \u001b[1;32mif\u001b[0m \u001b[0mself\u001b[0m\u001b[1;33m.\u001b[0m\u001b[0m_should_curry\u001b[0m\u001b[1;33m(\u001b[0m\u001b[0margs\u001b[0m\u001b[1;33m,\u001b[0m \u001b[0mkwargs\u001b[0m\u001b[1;33m,\u001b[0m \u001b[0mexc\u001b[0m\u001b[1;33m)\u001b[0m\u001b[1;33m:\u001b[0m\u001b[1;33m\u001b[0m\u001b[1;33m\u001b[0m\u001b[0m\n",
      "\u001b[1;32mc:\\Users\\avish\\anaconda3\\lib\\site-packages\\altair\\vegalite\\data.py\u001b[0m in \u001b[0;36mdefault_data_transformer\u001b[1;34m(data, max_rows)\u001b[0m\n\u001b[0;32m     17\u001b[0m \u001b[1;33m@\u001b[0m\u001b[0mcurried\u001b[0m\u001b[1;33m.\u001b[0m\u001b[0mcurry\u001b[0m\u001b[1;33m\u001b[0m\u001b[1;33m\u001b[0m\u001b[0m\n\u001b[0;32m     18\u001b[0m \u001b[1;32mdef\u001b[0m \u001b[0mdefault_data_transformer\u001b[0m\u001b[1;33m(\u001b[0m\u001b[0mdata\u001b[0m\u001b[1;33m,\u001b[0m \u001b[0mmax_rows\u001b[0m\u001b[1;33m=\u001b[0m\u001b[1;36m5000\u001b[0m\u001b[1;33m)\u001b[0m\u001b[1;33m:\u001b[0m\u001b[1;33m\u001b[0m\u001b[1;33m\u001b[0m\u001b[0m\n\u001b[1;32m---> 19\u001b[1;33m     \u001b[1;32mreturn\u001b[0m \u001b[0mcurried\u001b[0m\u001b[1;33m.\u001b[0m\u001b[0mpipe\u001b[0m\u001b[1;33m(\u001b[0m\u001b[0mdata\u001b[0m\u001b[1;33m,\u001b[0m \u001b[0mlimit_rows\u001b[0m\u001b[1;33m(\u001b[0m\u001b[0mmax_rows\u001b[0m\u001b[1;33m=\u001b[0m\u001b[0mmax_rows\u001b[0m\u001b[1;33m)\u001b[0m\u001b[1;33m,\u001b[0m \u001b[0mto_values\u001b[0m\u001b[1;33m)\u001b[0m\u001b[1;33m\u001b[0m\u001b[1;33m\u001b[0m\u001b[0m\n\u001b[0m\u001b[0;32m     20\u001b[0m \u001b[1;33m\u001b[0m\u001b[0m\n\u001b[0;32m     21\u001b[0m \u001b[1;33m\u001b[0m\u001b[0m\n",
      "\u001b[1;32mc:\\Users\\avish\\anaconda3\\lib\\site-packages\\toolz\\functoolz.py\u001b[0m in \u001b[0;36mpipe\u001b[1;34m(data, *funcs)\u001b[0m\n\u001b[0;32m    628\u001b[0m     \"\"\"\n\u001b[0;32m    629\u001b[0m     \u001b[1;32mfor\u001b[0m \u001b[0mfunc\u001b[0m \u001b[1;32min\u001b[0m \u001b[0mfuncs\u001b[0m\u001b[1;33m:\u001b[0m\u001b[1;33m\u001b[0m\u001b[1;33m\u001b[0m\u001b[0m\n\u001b[1;32m--> 630\u001b[1;33m         \u001b[0mdata\u001b[0m \u001b[1;33m=\u001b[0m \u001b[0mfunc\u001b[0m\u001b[1;33m(\u001b[0m\u001b[0mdata\u001b[0m\u001b[1;33m)\u001b[0m\u001b[1;33m\u001b[0m\u001b[1;33m\u001b[0m\u001b[0m\n\u001b[0m\u001b[0;32m    631\u001b[0m     \u001b[1;32mreturn\u001b[0m \u001b[0mdata\u001b[0m\u001b[1;33m\u001b[0m\u001b[1;33m\u001b[0m\u001b[0m\n\u001b[0;32m    632\u001b[0m \u001b[1;33m\u001b[0m\u001b[0m\n",
      "\u001b[1;32mc:\\Users\\avish\\anaconda3\\lib\\site-packages\\toolz\\functoolz.py\u001b[0m in \u001b[0;36m__call__\u001b[1;34m(self, *args, **kwargs)\u001b[0m\n\u001b[0;32m    304\u001b[0m     \u001b[1;32mdef\u001b[0m \u001b[0m__call__\u001b[0m\u001b[1;33m(\u001b[0m\u001b[0mself\u001b[0m\u001b[1;33m,\u001b[0m \u001b[1;33m*\u001b[0m\u001b[0margs\u001b[0m\u001b[1;33m,\u001b[0m \u001b[1;33m**\u001b[0m\u001b[0mkwargs\u001b[0m\u001b[1;33m)\u001b[0m\u001b[1;33m:\u001b[0m\u001b[1;33m\u001b[0m\u001b[1;33m\u001b[0m\u001b[0m\n\u001b[0;32m    305\u001b[0m         \u001b[1;32mtry\u001b[0m\u001b[1;33m:\u001b[0m\u001b[1;33m\u001b[0m\u001b[1;33m\u001b[0m\u001b[0m\n\u001b[1;32m--> 306\u001b[1;33m             \u001b[1;32mreturn\u001b[0m \u001b[0mself\u001b[0m\u001b[1;33m.\u001b[0m\u001b[0m_partial\u001b[0m\u001b[1;33m(\u001b[0m\u001b[1;33m*\u001b[0m\u001b[0margs\u001b[0m\u001b[1;33m,\u001b[0m \u001b[1;33m**\u001b[0m\u001b[0mkwargs\u001b[0m\u001b[1;33m)\u001b[0m\u001b[1;33m\u001b[0m\u001b[1;33m\u001b[0m\u001b[0m\n\u001b[0m\u001b[0;32m    307\u001b[0m         \u001b[1;32mexcept\u001b[0m \u001b[0mTypeError\u001b[0m \u001b[1;32mas\u001b[0m \u001b[0mexc\u001b[0m\u001b[1;33m:\u001b[0m\u001b[1;33m\u001b[0m\u001b[1;33m\u001b[0m\u001b[0m\n\u001b[0;32m    308\u001b[0m             \u001b[1;32mif\u001b[0m \u001b[0mself\u001b[0m\u001b[1;33m.\u001b[0m\u001b[0m_should_curry\u001b[0m\u001b[1;33m(\u001b[0m\u001b[0margs\u001b[0m\u001b[1;33m,\u001b[0m \u001b[0mkwargs\u001b[0m\u001b[1;33m,\u001b[0m \u001b[0mexc\u001b[0m\u001b[1;33m)\u001b[0m\u001b[1;33m:\u001b[0m\u001b[1;33m\u001b[0m\u001b[1;33m\u001b[0m\u001b[0m\n",
      "\u001b[1;32mc:\\Users\\avish\\anaconda3\\lib\\site-packages\\altair\\utils\\data.py\u001b[0m in \u001b[0;36mlimit_rows\u001b[1;34m(data, max_rows)\u001b[0m\n\u001b[0;32m     78\u001b[0m             \u001b[1;32mreturn\u001b[0m \u001b[0mdata\u001b[0m\u001b[1;33m\u001b[0m\u001b[1;33m\u001b[0m\u001b[0m\n\u001b[0;32m     79\u001b[0m     \u001b[1;32mif\u001b[0m \u001b[0mmax_rows\u001b[0m \u001b[1;32mis\u001b[0m \u001b[1;32mnot\u001b[0m \u001b[1;32mNone\u001b[0m \u001b[1;32mand\u001b[0m \u001b[0mlen\u001b[0m\u001b[1;33m(\u001b[0m\u001b[0mvalues\u001b[0m\u001b[1;33m)\u001b[0m \u001b[1;33m>\u001b[0m \u001b[0mmax_rows\u001b[0m\u001b[1;33m:\u001b[0m\u001b[1;33m\u001b[0m\u001b[1;33m\u001b[0m\u001b[0m\n\u001b[1;32m---> 80\u001b[1;33m         raise MaxRowsError(\n\u001b[0m\u001b[0;32m     81\u001b[0m             \u001b[1;34m\"The number of rows in your dataset is greater \"\u001b[0m\u001b[1;33m\u001b[0m\u001b[1;33m\u001b[0m\u001b[0m\n\u001b[0;32m     82\u001b[0m             \u001b[1;34m\"than the maximum allowed ({}). \"\u001b[0m\u001b[1;33m\u001b[0m\u001b[1;33m\u001b[0m\u001b[0m\n",
      "\u001b[1;31mMaxRowsError\u001b[0m: The number of rows in your dataset is greater than the maximum allowed (5000). For information on how to plot larger datasets in Altair, see the documentation"
     ]
    },
    {
     "data": {
      "text/plain": [
       "alt.Chart(...)"
      ]
     },
     "execution_count": 21,
     "metadata": {},
     "output_type": "execute_result"
    }
   ],
   "source": [
    "alt.Chart(source).mark_bar().encode(\n",
    "    x='year:O',\n",
    "    y='sum(yield):Q',\n",
    "    color='year:N',\n",
    "    column='site:N'\n",
    ")"
   ]
  },
  {
   "cell_type": "code",
   "execution_count": 1,
   "metadata": {},
   "outputs": [
    {
     "data": {
      "application/vnd.plotly.v1+json": {
       "config": {
        "plotlyServerURL": "https://plot.ly"
       },
       "data": [
        {
         "fill": "toself",
         "name": "Product A",
         "r": [
          1,
          5,
          2,
          2,
          3
         ],
         "theta": [
          "processing cost",
          "mechanical properties",
          "chemical stability",
          "thermal stability",
          "device integration"
         ],
         "type": "scatterpolar"
        },
        {
         "fill": "toself",
         "name": "Product B",
         "r": [
          4,
          3,
          2.5,
          1,
          2
         ],
         "theta": [
          "processing cost",
          "mechanical properties",
          "chemical stability",
          "thermal stability",
          "device integration"
         ],
         "type": "scatterpolar"
        }
       ],
       "layout": {
        "polar": {
         "radialaxis": {
          "range": [
           0,
           5
          ],
          "visible": true
         }
        },
        "showlegend": false,
        "template": {
         "data": {
          "bar": [
           {
            "error_x": {
             "color": "#2a3f5f"
            },
            "error_y": {
             "color": "#2a3f5f"
            },
            "marker": {
             "line": {
              "color": "#E5ECF6",
              "width": 0.5
             },
             "pattern": {
              "fillmode": "overlay",
              "size": 10,
              "solidity": 0.2
             }
            },
            "type": "bar"
           }
          ],
          "barpolar": [
           {
            "marker": {
             "line": {
              "color": "#E5ECF6",
              "width": 0.5
             },
             "pattern": {
              "fillmode": "overlay",
              "size": 10,
              "solidity": 0.2
             }
            },
            "type": "barpolar"
           }
          ],
          "carpet": [
           {
            "aaxis": {
             "endlinecolor": "#2a3f5f",
             "gridcolor": "white",
             "linecolor": "white",
             "minorgridcolor": "white",
             "startlinecolor": "#2a3f5f"
            },
            "baxis": {
             "endlinecolor": "#2a3f5f",
             "gridcolor": "white",
             "linecolor": "white",
             "minorgridcolor": "white",
             "startlinecolor": "#2a3f5f"
            },
            "type": "carpet"
           }
          ],
          "choropleth": [
           {
            "colorbar": {
             "outlinewidth": 0,
             "ticks": ""
            },
            "type": "choropleth"
           }
          ],
          "contour": [
           {
            "colorbar": {
             "outlinewidth": 0,
             "ticks": ""
            },
            "colorscale": [
             [
              0,
              "#0d0887"
             ],
             [
              0.1111111111111111,
              "#46039f"
             ],
             [
              0.2222222222222222,
              "#7201a8"
             ],
             [
              0.3333333333333333,
              "#9c179e"
             ],
             [
              0.4444444444444444,
              "#bd3786"
             ],
             [
              0.5555555555555556,
              "#d8576b"
             ],
             [
              0.6666666666666666,
              "#ed7953"
             ],
             [
              0.7777777777777778,
              "#fb9f3a"
             ],
             [
              0.8888888888888888,
              "#fdca26"
             ],
             [
              1,
              "#f0f921"
             ]
            ],
            "type": "contour"
           }
          ],
          "contourcarpet": [
           {
            "colorbar": {
             "outlinewidth": 0,
             "ticks": ""
            },
            "type": "contourcarpet"
           }
          ],
          "heatmap": [
           {
            "colorbar": {
             "outlinewidth": 0,
             "ticks": ""
            },
            "colorscale": [
             [
              0,
              "#0d0887"
             ],
             [
              0.1111111111111111,
              "#46039f"
             ],
             [
              0.2222222222222222,
              "#7201a8"
             ],
             [
              0.3333333333333333,
              "#9c179e"
             ],
             [
              0.4444444444444444,
              "#bd3786"
             ],
             [
              0.5555555555555556,
              "#d8576b"
             ],
             [
              0.6666666666666666,
              "#ed7953"
             ],
             [
              0.7777777777777778,
              "#fb9f3a"
             ],
             [
              0.8888888888888888,
              "#fdca26"
             ],
             [
              1,
              "#f0f921"
             ]
            ],
            "type": "heatmap"
           }
          ],
          "heatmapgl": [
           {
            "colorbar": {
             "outlinewidth": 0,
             "ticks": ""
            },
            "colorscale": [
             [
              0,
              "#0d0887"
             ],
             [
              0.1111111111111111,
              "#46039f"
             ],
             [
              0.2222222222222222,
              "#7201a8"
             ],
             [
              0.3333333333333333,
              "#9c179e"
             ],
             [
              0.4444444444444444,
              "#bd3786"
             ],
             [
              0.5555555555555556,
              "#d8576b"
             ],
             [
              0.6666666666666666,
              "#ed7953"
             ],
             [
              0.7777777777777778,
              "#fb9f3a"
             ],
             [
              0.8888888888888888,
              "#fdca26"
             ],
             [
              1,
              "#f0f921"
             ]
            ],
            "type": "heatmapgl"
           }
          ],
          "histogram": [
           {
            "marker": {
             "pattern": {
              "fillmode": "overlay",
              "size": 10,
              "solidity": 0.2
             }
            },
            "type": "histogram"
           }
          ],
          "histogram2d": [
           {
            "colorbar": {
             "outlinewidth": 0,
             "ticks": ""
            },
            "colorscale": [
             [
              0,
              "#0d0887"
             ],
             [
              0.1111111111111111,
              "#46039f"
             ],
             [
              0.2222222222222222,
              "#7201a8"
             ],
             [
              0.3333333333333333,
              "#9c179e"
             ],
             [
              0.4444444444444444,
              "#bd3786"
             ],
             [
              0.5555555555555556,
              "#d8576b"
             ],
             [
              0.6666666666666666,
              "#ed7953"
             ],
             [
              0.7777777777777778,
              "#fb9f3a"
             ],
             [
              0.8888888888888888,
              "#fdca26"
             ],
             [
              1,
              "#f0f921"
             ]
            ],
            "type": "histogram2d"
           }
          ],
          "histogram2dcontour": [
           {
            "colorbar": {
             "outlinewidth": 0,
             "ticks": ""
            },
            "colorscale": [
             [
              0,
              "#0d0887"
             ],
             [
              0.1111111111111111,
              "#46039f"
             ],
             [
              0.2222222222222222,
              "#7201a8"
             ],
             [
              0.3333333333333333,
              "#9c179e"
             ],
             [
              0.4444444444444444,
              "#bd3786"
             ],
             [
              0.5555555555555556,
              "#d8576b"
             ],
             [
              0.6666666666666666,
              "#ed7953"
             ],
             [
              0.7777777777777778,
              "#fb9f3a"
             ],
             [
              0.8888888888888888,
              "#fdca26"
             ],
             [
              1,
              "#f0f921"
             ]
            ],
            "type": "histogram2dcontour"
           }
          ],
          "mesh3d": [
           {
            "colorbar": {
             "outlinewidth": 0,
             "ticks": ""
            },
            "type": "mesh3d"
           }
          ],
          "parcoords": [
           {
            "line": {
             "colorbar": {
              "outlinewidth": 0,
              "ticks": ""
             }
            },
            "type": "parcoords"
           }
          ],
          "pie": [
           {
            "automargin": true,
            "type": "pie"
           }
          ],
          "scatter": [
           {
            "fillpattern": {
             "fillmode": "overlay",
             "size": 10,
             "solidity": 0.2
            },
            "type": "scatter"
           }
          ],
          "scatter3d": [
           {
            "line": {
             "colorbar": {
              "outlinewidth": 0,
              "ticks": ""
             }
            },
            "marker": {
             "colorbar": {
              "outlinewidth": 0,
              "ticks": ""
             }
            },
            "type": "scatter3d"
           }
          ],
          "scattercarpet": [
           {
            "marker": {
             "colorbar": {
              "outlinewidth": 0,
              "ticks": ""
             }
            },
            "type": "scattercarpet"
           }
          ],
          "scattergeo": [
           {
            "marker": {
             "colorbar": {
              "outlinewidth": 0,
              "ticks": ""
             }
            },
            "type": "scattergeo"
           }
          ],
          "scattergl": [
           {
            "marker": {
             "colorbar": {
              "outlinewidth": 0,
              "ticks": ""
             }
            },
            "type": "scattergl"
           }
          ],
          "scattermapbox": [
           {
            "marker": {
             "colorbar": {
              "outlinewidth": 0,
              "ticks": ""
             }
            },
            "type": "scattermapbox"
           }
          ],
          "scatterpolar": [
           {
            "marker": {
             "colorbar": {
              "outlinewidth": 0,
              "ticks": ""
             }
            },
            "type": "scatterpolar"
           }
          ],
          "scatterpolargl": [
           {
            "marker": {
             "colorbar": {
              "outlinewidth": 0,
              "ticks": ""
             }
            },
            "type": "scatterpolargl"
           }
          ],
          "scatterternary": [
           {
            "marker": {
             "colorbar": {
              "outlinewidth": 0,
              "ticks": ""
             }
            },
            "type": "scatterternary"
           }
          ],
          "surface": [
           {
            "colorbar": {
             "outlinewidth": 0,
             "ticks": ""
            },
            "colorscale": [
             [
              0,
              "#0d0887"
             ],
             [
              0.1111111111111111,
              "#46039f"
             ],
             [
              0.2222222222222222,
              "#7201a8"
             ],
             [
              0.3333333333333333,
              "#9c179e"
             ],
             [
              0.4444444444444444,
              "#bd3786"
             ],
             [
              0.5555555555555556,
              "#d8576b"
             ],
             [
              0.6666666666666666,
              "#ed7953"
             ],
             [
              0.7777777777777778,
              "#fb9f3a"
             ],
             [
              0.8888888888888888,
              "#fdca26"
             ],
             [
              1,
              "#f0f921"
             ]
            ],
            "type": "surface"
           }
          ],
          "table": [
           {
            "cells": {
             "fill": {
              "color": "#EBF0F8"
             },
             "line": {
              "color": "white"
             }
            },
            "header": {
             "fill": {
              "color": "#C8D4E3"
             },
             "line": {
              "color": "white"
             }
            },
            "type": "table"
           }
          ]
         },
         "layout": {
          "annotationdefaults": {
           "arrowcolor": "#2a3f5f",
           "arrowhead": 0,
           "arrowwidth": 1
          },
          "autotypenumbers": "strict",
          "coloraxis": {
           "colorbar": {
            "outlinewidth": 0,
            "ticks": ""
           }
          },
          "colorscale": {
           "diverging": [
            [
             0,
             "#8e0152"
            ],
            [
             0.1,
             "#c51b7d"
            ],
            [
             0.2,
             "#de77ae"
            ],
            [
             0.3,
             "#f1b6da"
            ],
            [
             0.4,
             "#fde0ef"
            ],
            [
             0.5,
             "#f7f7f7"
            ],
            [
             0.6,
             "#e6f5d0"
            ],
            [
             0.7,
             "#b8e186"
            ],
            [
             0.8,
             "#7fbc41"
            ],
            [
             0.9,
             "#4d9221"
            ],
            [
             1,
             "#276419"
            ]
           ],
           "sequential": [
            [
             0,
             "#0d0887"
            ],
            [
             0.1111111111111111,
             "#46039f"
            ],
            [
             0.2222222222222222,
             "#7201a8"
            ],
            [
             0.3333333333333333,
             "#9c179e"
            ],
            [
             0.4444444444444444,
             "#bd3786"
            ],
            [
             0.5555555555555556,
             "#d8576b"
            ],
            [
             0.6666666666666666,
             "#ed7953"
            ],
            [
             0.7777777777777778,
             "#fb9f3a"
            ],
            [
             0.8888888888888888,
             "#fdca26"
            ],
            [
             1,
             "#f0f921"
            ]
           ],
           "sequentialminus": [
            [
             0,
             "#0d0887"
            ],
            [
             0.1111111111111111,
             "#46039f"
            ],
            [
             0.2222222222222222,
             "#7201a8"
            ],
            [
             0.3333333333333333,
             "#9c179e"
            ],
            [
             0.4444444444444444,
             "#bd3786"
            ],
            [
             0.5555555555555556,
             "#d8576b"
            ],
            [
             0.6666666666666666,
             "#ed7953"
            ],
            [
             0.7777777777777778,
             "#fb9f3a"
            ],
            [
             0.8888888888888888,
             "#fdca26"
            ],
            [
             1,
             "#f0f921"
            ]
           ]
          },
          "colorway": [
           "#636efa",
           "#EF553B",
           "#00cc96",
           "#ab63fa",
           "#FFA15A",
           "#19d3f3",
           "#FF6692",
           "#B6E880",
           "#FF97FF",
           "#FECB52"
          ],
          "font": {
           "color": "#2a3f5f"
          },
          "geo": {
           "bgcolor": "white",
           "lakecolor": "white",
           "landcolor": "#E5ECF6",
           "showlakes": true,
           "showland": true,
           "subunitcolor": "white"
          },
          "hoverlabel": {
           "align": "left"
          },
          "hovermode": "closest",
          "mapbox": {
           "style": "light"
          },
          "paper_bgcolor": "white",
          "plot_bgcolor": "#E5ECF6",
          "polar": {
           "angularaxis": {
            "gridcolor": "white",
            "linecolor": "white",
            "ticks": ""
           },
           "bgcolor": "#E5ECF6",
           "radialaxis": {
            "gridcolor": "white",
            "linecolor": "white",
            "ticks": ""
           }
          },
          "scene": {
           "xaxis": {
            "backgroundcolor": "#E5ECF6",
            "gridcolor": "white",
            "gridwidth": 2,
            "linecolor": "white",
            "showbackground": true,
            "ticks": "",
            "zerolinecolor": "white"
           },
           "yaxis": {
            "backgroundcolor": "#E5ECF6",
            "gridcolor": "white",
            "gridwidth": 2,
            "linecolor": "white",
            "showbackground": true,
            "ticks": "",
            "zerolinecolor": "white"
           },
           "zaxis": {
            "backgroundcolor": "#E5ECF6",
            "gridcolor": "white",
            "gridwidth": 2,
            "linecolor": "white",
            "showbackground": true,
            "ticks": "",
            "zerolinecolor": "white"
           }
          },
          "shapedefaults": {
           "line": {
            "color": "#2a3f5f"
           }
          },
          "ternary": {
           "aaxis": {
            "gridcolor": "white",
            "linecolor": "white",
            "ticks": ""
           },
           "baxis": {
            "gridcolor": "white",
            "linecolor": "white",
            "ticks": ""
           },
           "bgcolor": "#E5ECF6",
           "caxis": {
            "gridcolor": "white",
            "linecolor": "white",
            "ticks": ""
           }
          },
          "title": {
           "x": 0.05
          },
          "xaxis": {
           "automargin": true,
           "gridcolor": "white",
           "linecolor": "white",
           "ticks": "",
           "title": {
            "standoff": 15
           },
           "zerolinecolor": "white",
           "zerolinewidth": 2
          },
          "yaxis": {
           "automargin": true,
           "gridcolor": "white",
           "linecolor": "white",
           "ticks": "",
           "title": {
            "standoff": 15
           },
           "zerolinecolor": "white",
           "zerolinewidth": 2
          }
         }
        }
       }
      }
     },
     "metadata": {},
     "output_type": "display_data"
    }
   ],
   "source": [
    "import plotly.graph_objects as go\n",
    "\n",
    "categories = ['processing cost','mechanical properties','chemical stadflity',\n",
    "              'thermal stadflity', 'device integration']\n",
    "\n",
    "fig = go.Figure()\n",
    "\n",
    "# tracing layout\n",
    "fig.add_trace(go.Scatterpolar(\n",
    "      r=[1, 5, 2, 2, 3],\n",
    "      theta=categories,\n",
    "      fill='toself',\n",
    "      name='Product A'\n",
    "))\n",
    "\n",
    "# tracing layout\n",
    "fig.add_trace(go.Scatterpolar(\n",
    "      r=[4, 3, 2.5, 1, 2],\n",
    "      theta=categories,\n",
    "      fill='toself',\n",
    "      name='Product B'\n",
    "))\n",
    "\n",
    "# each circle values\n",
    "fig.update_layout(\n",
    "  polar=dict(\n",
    "    radialaxis=dict(\n",
    "      visible=True,\n",
    "      range=[0, 5]\n",
    "    )),\n",
    "  showlegend=False\n",
    ")\n",
    "\n",
    "fig.show()"
   ]
  },
  {
   "cell_type": "code",
   "execution_count": 6,
   "metadata": {},
   "outputs": [],
   "source": [
    "import pandas as pd\n",
    "df = pd.read_csv(\"datasets/melted_data.csv\")"
   ]
  },
  {
   "cell_type": "code",
   "execution_count": 41,
   "metadata": {},
   "outputs": [
    {
     "data": {
      "text/plain": [
       "numpy.ndarray"
      ]
     },
     "execution_count": 41,
     "metadata": {},
     "output_type": "execute_result"
    }
   ],
   "source": [
    "type(df['year'].unique())"
   ]
  },
  {
   "cell_type": "code",
   "execution_count": 11,
   "metadata": {},
   "outputs": [],
   "source": [
    "import math"
   ]
  },
  {
   "cell_type": "code",
   "execution_count": 51,
   "metadata": {},
   "outputs": [
    {
     "data": {
      "text/plain": [
       "numpy.int64"
      ]
     },
     "execution_count": 51,
     "metadata": {},
     "output_type": "execute_result"
    }
   ],
   "source": [
    "#type(df_melted['year'][1])\n",
    "type(df['year'][1])"
   ]
  },
  {
   "cell_type": "code",
   "execution_count": 12,
   "metadata": {},
   "outputs": [
    {
     "data": {
      "application/vnd.plotly.v1+json": {
       "config": {
        "plotlyServerURL": "https://plot.ly"
       },
       "data": [
        {
         "connectgaps": true,
         "fill": "toself",
         "name": "Afghanistan",
         "r": [
          2.069573,
          null,
          2.141282,
          null,
          1.95,
          null
         ],
         "theta": [
          "2014",
          "2015",
          "2016",
          "2017",
          "2018",
          "2019"
         ],
         "type": "scatterpolar"
        },
        {
         "connectgaps": true,
         "fill": "toself",
         "name": "Albania",
         "r": [
          null,
          null,
          2.412498,
          null,
          2.66,
          null
         ],
         "theta": [
          "2014",
          "2015",
          "2016",
          "2017",
          "2018",
          "2019"
         ],
         "type": "scatterpolar"
        },
        {
         "connectgaps": true,
         "fill": "toself",
         "name": "Algeria",
         "r": [
          2.649451,
          null,
          2.769683,
          null,
          2.45,
          null
         ],
         "theta": [
          "2014",
          "2015",
          "2016",
          "2017",
          "2018",
          "2019"
         ],
         "type": "scatterpolar"
        },
        {
         "connectgaps": true,
         "fill": "toself",
         "name": "Angola",
         "r": [
          2.54298,
          null,
          2.241183,
          null,
          2.05,
          null
         ],
         "theta": [
          "2014",
          "2015",
          "2016",
          "2017",
          "2018",
          "2019"
         ],
         "type": "scatterpolar"
        },
        {
         "connectgaps": true,
         "fill": "toself",
         "name": "Antigua and Barbuda",
         "r": [
          null,
          null,
          null,
          null,
          null,
          null
         ],
         "theta": [
          "2014",
          "2015",
          "2016",
          "2017",
          "2018",
          "2019"
         ],
         "type": "scatterpolar"
        }
       ],
       "layout": {
        "polar": {
         "radialaxis": {
          "range": [
           1,
           5
          ],
          "visible": true
         }
        },
        "showlegend": false,
        "template": {
         "data": {
          "bar": [
           {
            "error_x": {
             "color": "#2a3f5f"
            },
            "error_y": {
             "color": "#2a3f5f"
            },
            "marker": {
             "line": {
              "color": "#E5ECF6",
              "width": 0.5
             },
             "pattern": {
              "fillmode": "overlay",
              "size": 10,
              "solidity": 0.2
             }
            },
            "type": "bar"
           }
          ],
          "barpolar": [
           {
            "marker": {
             "line": {
              "color": "#E5ECF6",
              "width": 0.5
             },
             "pattern": {
              "fillmode": "overlay",
              "size": 10,
              "solidity": 0.2
             }
            },
            "type": "barpolar"
           }
          ],
          "carpet": [
           {
            "aaxis": {
             "endlinecolor": "#2a3f5f",
             "gridcolor": "white",
             "linecolor": "white",
             "minorgridcolor": "white",
             "startlinecolor": "#2a3f5f"
            },
            "baxis": {
             "endlinecolor": "#2a3f5f",
             "gridcolor": "white",
             "linecolor": "white",
             "minorgridcolor": "white",
             "startlinecolor": "#2a3f5f"
            },
            "type": "carpet"
           }
          ],
          "choropleth": [
           {
            "colorbar": {
             "outlinewidth": 0,
             "ticks": ""
            },
            "type": "choropleth"
           }
          ],
          "contour": [
           {
            "colorbar": {
             "outlinewidth": 0,
             "ticks": ""
            },
            "colorscale": [
             [
              0,
              "#0d0887"
             ],
             [
              0.1111111111111111,
              "#46039f"
             ],
             [
              0.2222222222222222,
              "#7201a8"
             ],
             [
              0.3333333333333333,
              "#9c179e"
             ],
             [
              0.4444444444444444,
              "#bd3786"
             ],
             [
              0.5555555555555556,
              "#d8576b"
             ],
             [
              0.6666666666666666,
              "#ed7953"
             ],
             [
              0.7777777777777778,
              "#fb9f3a"
             ],
             [
              0.8888888888888888,
              "#fdca26"
             ],
             [
              1,
              "#f0f921"
             ]
            ],
            "type": "contour"
           }
          ],
          "contourcarpet": [
           {
            "colorbar": {
             "outlinewidth": 0,
             "ticks": ""
            },
            "type": "contourcarpet"
           }
          ],
          "heatmap": [
           {
            "colorbar": {
             "outlinewidth": 0,
             "ticks": ""
            },
            "colorscale": [
             [
              0,
              "#0d0887"
             ],
             [
              0.1111111111111111,
              "#46039f"
             ],
             [
              0.2222222222222222,
              "#7201a8"
             ],
             [
              0.3333333333333333,
              "#9c179e"
             ],
             [
              0.4444444444444444,
              "#bd3786"
             ],
             [
              0.5555555555555556,
              "#d8576b"
             ],
             [
              0.6666666666666666,
              "#ed7953"
             ],
             [
              0.7777777777777778,
              "#fb9f3a"
             ],
             [
              0.8888888888888888,
              "#fdca26"
             ],
             [
              1,
              "#f0f921"
             ]
            ],
            "type": "heatmap"
           }
          ],
          "heatmapgl": [
           {
            "colorbar": {
             "outlinewidth": 0,
             "ticks": ""
            },
            "colorscale": [
             [
              0,
              "#0d0887"
             ],
             [
              0.1111111111111111,
              "#46039f"
             ],
             [
              0.2222222222222222,
              "#7201a8"
             ],
             [
              0.3333333333333333,
              "#9c179e"
             ],
             [
              0.4444444444444444,
              "#bd3786"
             ],
             [
              0.5555555555555556,
              "#d8576b"
             ],
             [
              0.6666666666666666,
              "#ed7953"
             ],
             [
              0.7777777777777778,
              "#fb9f3a"
             ],
             [
              0.8888888888888888,
              "#fdca26"
             ],
             [
              1,
              "#f0f921"
             ]
            ],
            "type": "heatmapgl"
           }
          ],
          "histogram": [
           {
            "marker": {
             "pattern": {
              "fillmode": "overlay",
              "size": 10,
              "solidity": 0.2
             }
            },
            "type": "histogram"
           }
          ],
          "histogram2d": [
           {
            "colorbar": {
             "outlinewidth": 0,
             "ticks": ""
            },
            "colorscale": [
             [
              0,
              "#0d0887"
             ],
             [
              0.1111111111111111,
              "#46039f"
             ],
             [
              0.2222222222222222,
              "#7201a8"
             ],
             [
              0.3333333333333333,
              "#9c179e"
             ],
             [
              0.4444444444444444,
              "#bd3786"
             ],
             [
              0.5555555555555556,
              "#d8576b"
             ],
             [
              0.6666666666666666,
              "#ed7953"
             ],
             [
              0.7777777777777778,
              "#fb9f3a"
             ],
             [
              0.8888888888888888,
              "#fdca26"
             ],
             [
              1,
              "#f0f921"
             ]
            ],
            "type": "histogram2d"
           }
          ],
          "histogram2dcontour": [
           {
            "colorbar": {
             "outlinewidth": 0,
             "ticks": ""
            },
            "colorscale": [
             [
              0,
              "#0d0887"
             ],
             [
              0.1111111111111111,
              "#46039f"
             ],
             [
              0.2222222222222222,
              "#7201a8"
             ],
             [
              0.3333333333333333,
              "#9c179e"
             ],
             [
              0.4444444444444444,
              "#bd3786"
             ],
             [
              0.5555555555555556,
              "#d8576b"
             ],
             [
              0.6666666666666666,
              "#ed7953"
             ],
             [
              0.7777777777777778,
              "#fb9f3a"
             ],
             [
              0.8888888888888888,
              "#fdca26"
             ],
             [
              1,
              "#f0f921"
             ]
            ],
            "type": "histogram2dcontour"
           }
          ],
          "mesh3d": [
           {
            "colorbar": {
             "outlinewidth": 0,
             "ticks": ""
            },
            "type": "mesh3d"
           }
          ],
          "parcoords": [
           {
            "line": {
             "colorbar": {
              "outlinewidth": 0,
              "ticks": ""
             }
            },
            "type": "parcoords"
           }
          ],
          "pie": [
           {
            "automargin": true,
            "type": "pie"
           }
          ],
          "scatter": [
           {
            "fillpattern": {
             "fillmode": "overlay",
             "size": 10,
             "solidity": 0.2
            },
            "type": "scatter"
           }
          ],
          "scatter3d": [
           {
            "line": {
             "colorbar": {
              "outlinewidth": 0,
              "ticks": ""
             }
            },
            "marker": {
             "colorbar": {
              "outlinewidth": 0,
              "ticks": ""
             }
            },
            "type": "scatter3d"
           }
          ],
          "scattercarpet": [
           {
            "marker": {
             "colorbar": {
              "outlinewidth": 0,
              "ticks": ""
             }
            },
            "type": "scattercarpet"
           }
          ],
          "scattergeo": [
           {
            "marker": {
             "colorbar": {
              "outlinewidth": 0,
              "ticks": ""
             }
            },
            "type": "scattergeo"
           }
          ],
          "scattergl": [
           {
            "marker": {
             "colorbar": {
              "outlinewidth": 0,
              "ticks": ""
             }
            },
            "type": "scattergl"
           }
          ],
          "scattermapbox": [
           {
            "marker": {
             "colorbar": {
              "outlinewidth": 0,
              "ticks": ""
             }
            },
            "type": "scattermapbox"
           }
          ],
          "scatterpolar": [
           {
            "marker": {
             "colorbar": {
              "outlinewidth": 0,
              "ticks": ""
             }
            },
            "type": "scatterpolar"
           }
          ],
          "scatterpolargl": [
           {
            "marker": {
             "colorbar": {
              "outlinewidth": 0,
              "ticks": ""
             }
            },
            "type": "scatterpolargl"
           }
          ],
          "scatterternary": [
           {
            "marker": {
             "colorbar": {
              "outlinewidth": 0,
              "ticks": ""
             }
            },
            "type": "scatterternary"
           }
          ],
          "surface": [
           {
            "colorbar": {
             "outlinewidth": 0,
             "ticks": ""
            },
            "colorscale": [
             [
              0,
              "#0d0887"
             ],
             [
              0.1111111111111111,
              "#46039f"
             ],
             [
              0.2222222222222222,
              "#7201a8"
             ],
             [
              0.3333333333333333,
              "#9c179e"
             ],
             [
              0.4444444444444444,
              "#bd3786"
             ],
             [
              0.5555555555555556,
              "#d8576b"
             ],
             [
              0.6666666666666666,
              "#ed7953"
             ],
             [
              0.7777777777777778,
              "#fb9f3a"
             ],
             [
              0.8888888888888888,
              "#fdca26"
             ],
             [
              1,
              "#f0f921"
             ]
            ],
            "type": "surface"
           }
          ],
          "table": [
           {
            "cells": {
             "fill": {
              "color": "#EBF0F8"
             },
             "line": {
              "color": "white"
             }
            },
            "header": {
             "fill": {
              "color": "#C8D4E3"
             },
             "line": {
              "color": "white"
             }
            },
            "type": "table"
           }
          ]
         },
         "layout": {
          "annotationdefaults": {
           "arrowcolor": "#2a3f5f",
           "arrowhead": 0,
           "arrowwidth": 1
          },
          "autotypenumbers": "strict",
          "coloraxis": {
           "colorbar": {
            "outlinewidth": 0,
            "ticks": ""
           }
          },
          "colorscale": {
           "diverging": [
            [
             0,
             "#8e0152"
            ],
            [
             0.1,
             "#c51b7d"
            ],
            [
             0.2,
             "#de77ae"
            ],
            [
             0.3,
             "#f1b6da"
            ],
            [
             0.4,
             "#fde0ef"
            ],
            [
             0.5,
             "#f7f7f7"
            ],
            [
             0.6,
             "#e6f5d0"
            ],
            [
             0.7,
             "#b8e186"
            ],
            [
             0.8,
             "#7fbc41"
            ],
            [
             0.9,
             "#4d9221"
            ],
            [
             1,
             "#276419"
            ]
           ],
           "sequential": [
            [
             0,
             "#0d0887"
            ],
            [
             0.1111111111111111,
             "#46039f"
            ],
            [
             0.2222222222222222,
             "#7201a8"
            ],
            [
             0.3333333333333333,
             "#9c179e"
            ],
            [
             0.4444444444444444,
             "#bd3786"
            ],
            [
             0.5555555555555556,
             "#d8576b"
            ],
            [
             0.6666666666666666,
             "#ed7953"
            ],
            [
             0.7777777777777778,
             "#fb9f3a"
            ],
            [
             0.8888888888888888,
             "#fdca26"
            ],
            [
             1,
             "#f0f921"
            ]
           ],
           "sequentialminus": [
            [
             0,
             "#0d0887"
            ],
            [
             0.1111111111111111,
             "#46039f"
            ],
            [
             0.2222222222222222,
             "#7201a8"
            ],
            [
             0.3333333333333333,
             "#9c179e"
            ],
            [
             0.4444444444444444,
             "#bd3786"
            ],
            [
             0.5555555555555556,
             "#d8576b"
            ],
            [
             0.6666666666666666,
             "#ed7953"
            ],
            [
             0.7777777777777778,
             "#fb9f3a"
            ],
            [
             0.8888888888888888,
             "#fdca26"
            ],
            [
             1,
             "#f0f921"
            ]
           ]
          },
          "colorway": [
           "#636efa",
           "#EF553B",
           "#00cc96",
           "#ab63fa",
           "#FFA15A",
           "#19d3f3",
           "#FF6692",
           "#B6E880",
           "#FF97FF",
           "#FECB52"
          ],
          "font": {
           "color": "#2a3f5f"
          },
          "geo": {
           "bgcolor": "white",
           "lakecolor": "white",
           "landcolor": "#E5ECF6",
           "showlakes": true,
           "showland": true,
           "subunitcolor": "white"
          },
          "hoverlabel": {
           "align": "left"
          },
          "hovermode": "closest",
          "mapbox": {
           "style": "light"
          },
          "paper_bgcolor": "white",
          "plot_bgcolor": "#E5ECF6",
          "polar": {
           "angularaxis": {
            "gridcolor": "white",
            "linecolor": "white",
            "ticks": ""
           },
           "bgcolor": "#E5ECF6",
           "radialaxis": {
            "gridcolor": "white",
            "linecolor": "white",
            "ticks": ""
           }
          },
          "scene": {
           "xaxis": {
            "backgroundcolor": "#E5ECF6",
            "gridcolor": "white",
            "gridwidth": 2,
            "linecolor": "white",
            "showbackground": true,
            "ticks": "",
            "zerolinecolor": "white"
           },
           "yaxis": {
            "backgroundcolor": "#E5ECF6",
            "gridcolor": "white",
            "gridwidth": 2,
            "linecolor": "white",
            "showbackground": true,
            "ticks": "",
            "zerolinecolor": "white"
           },
           "zaxis": {
            "backgroundcolor": "#E5ECF6",
            "gridcolor": "white",
            "gridwidth": 2,
            "linecolor": "white",
            "showbackground": true,
            "ticks": "",
            "zerolinecolor": "white"
           }
          },
          "shapedefaults": {
           "line": {
            "color": "#2a3f5f"
           }
          },
          "ternary": {
           "aaxis": {
            "gridcolor": "white",
            "linecolor": "white",
            "ticks": ""
           },
           "baxis": {
            "gridcolor": "white",
            "linecolor": "white",
            "ticks": ""
           },
           "bgcolor": "#E5ECF6",
           "caxis": {
            "gridcolor": "white",
            "linecolor": "white",
            "ticks": ""
           }
          },
          "title": {
           "x": 0.05
          },
          "xaxis": {
           "automargin": true,
           "gridcolor": "white",
           "linecolor": "white",
           "ticks": "",
           "title": {
            "standoff": 15
           },
           "zerolinecolor": "white",
           "zerolinewidth": 2
          },
          "yaxis": {
           "automargin": true,
           "gridcolor": "white",
           "linecolor": "white",
           "ticks": "",
           "title": {
            "standoff": 15
           },
           "zerolinecolor": "white",
           "zerolinewidth": 2
          }
         }
        }
       }
      }
     },
     "metadata": {},
     "output_type": "display_data"
    }
   ],
   "source": [
    "import plotly.graph_objects as go\n",
    "df['year'] = df['year'].astype(str)\n",
    "\n",
    "categories = df['year'].unique()\n",
    "max = math.ceil(df[df[\"Series Name\"]==\"Logistics performance index: Overall (1=low to 5=high)\"][\"value\"].max())\n",
    "min = math.floor(df[df[\"Series Name\"]==\"Logistics performance index: Overall (1=low to 5=high)\"][\"value\"].min())\n",
    "countries = df['Country Name'].unique()[0:5]\n",
    "\n",
    "fig = go.Figure()\n",
    "\n",
    "\n",
    "for i in countries:\n",
    "    fig.add_trace(go.Scatterpolar(\n",
    "      r=df[(df[\"Series Name\"]==\"Logistics performance index: Overall (1=low to 5=high)\") &\n",
    "       (df[\"Country Name\"]==i) &\n",
    "       (df[\"year\"].isin(categories))][\"value\"].values.tolist(),\n",
    "      theta=categories,\n",
    "      fill='toself',\n",
    "      name=i,\n",
    "      connectgaps=True\n",
    "))\n",
    "\n",
    "# tracing layout\n",
    "# fig.add_trace(go.Scatterpolar(\n",
    "#       r=df[(df[\"Series Name\"]==\"Logistics performance index: Overall (1=low to 5=high)\") &\n",
    "#        (df[\"Country Name\"]==\"Albania\") &\n",
    "#        (df[\"year\"].isin(categories))][\"value\"].values.tolist(),\n",
    "#       theta=categories,\n",
    "#       fill='toself',\n",
    "#       name='Product A',\n",
    "#       connectgaps=True\n",
    "# ))\n",
    "\n",
    "# tracing layout\n",
    "# fig.add_trace(go.Scatterpolar(\n",
    "#       r=[4, 3, 0, 0, 2],\n",
    "#       theta=categories,\n",
    "#       fill='toself',\n",
    "#       name='Product B',\n",
    "#       connectgaps=True\n",
    "# ))\n",
    "\n",
    "# each circle values\n",
    "fig.update_layout(\n",
    "  polar=dict(\n",
    "    radialaxis=dict(\n",
    "      visible=True,\n",
    "      range=[min, max]\n",
    "    )),\n",
    "  showlegend=False\n",
    ")\n",
    "\n",
    "fig.show()"
   ]
  },
  {
   "cell_type": "code",
   "execution_count": 54,
   "metadata": {},
   "outputs": [
    {
     "data": {
      "text/plain": [
       "str"
      ]
     },
     "execution_count": 54,
     "metadata": {},
     "output_type": "execute_result"
    }
   ],
   "source": [
    "type(df['year'][1])"
   ]
  },
  {
   "cell_type": "code",
   "execution_count": 14,
   "metadata": {},
   "outputs": [
    {
     "name": "stdout",
     "output_type": "stream",
     "text": [
      "<class 'pandas.core.series.Series'>\n",
      "<class 'pandas.core.series.Series'>\n",
      "<class 'pandas.core.series.Series'>\n",
      "<class 'pandas.core.series.Series'>\n",
      "<class 'pandas.core.series.Series'>\n"
     ]
    }
   ],
   "source": [
    "for i in countries:\n",
    "    print(type(df[(df[\"Series Name\"]==\"Logistics performance index: Overall (1=low to 5=high)\") &\n",
    "       (df[\"Country Name\"]==i) &\n",
    "       (df[\"year\"].isin(categories))][\"value\"]))"
   ]
  },
  {
   "cell_type": "code",
   "execution_count": 22,
   "metadata": {},
   "outputs": [
    {
     "data": {
      "text/plain": [
       "[nan, nan, 2.412498, nan, 2.66, nan]"
      ]
     },
     "execution_count": 22,
     "metadata": {},
     "output_type": "execute_result"
    }
   ],
   "source": [
    "df[(df[\"Series Name\"]==\"Logistics performance index: Overall (1=low to 5=high)\") &\n",
    "       (df[\"Country Name\"]==\"Albania\") &\n",
    "       (df[\"year\"].isin(categories))][\"value\"].values.tolist()"
   ]
  },
  {
   "cell_type": "code",
   "execution_count": 26,
   "metadata": {},
   "outputs": [
    {
     "data": {
      "application/vnd.plotly.v1+json": {
       "config": {
        "plotlyServerURL": "https://plot.ly"
       },
       "data": [
        {
         "mode": "markers",
         "name": "Afghanistan",
         "type": "scatter",
         "x": [
          61.33333,
          61.33333,
          61.33333,
          61.33333,
          61.33333
         ],
         "y": [
          "border compliance",
          "documentary compliance"
         ]
        },
        {
         "mode": "markers",
         "name": "Albania",
         "type": "scatter",
         "x": [
          61.33333,
          61.33333,
          61.33333,
          61.33333,
          61.33333
         ],
         "y": [
          "border compliance",
          "documentary compliance"
         ]
        },
        {
         "mode": "markers",
         "name": "Algeria",
         "type": "scatter",
         "x": [
          61.33333,
          61.33333,
          61.33333,
          61.33333,
          61.33333
         ],
         "y": [
          "border compliance",
          "documentary compliance"
         ]
        },
        {
         "mode": "markers",
         "name": "Angola",
         "type": "scatter",
         "x": [
          61.33333,
          61.33333,
          61.33333,
          61.33333,
          61.33333
         ],
         "y": [
          "border compliance",
          "documentary compliance"
         ]
        },
        {
         "mode": "markers",
         "name": "Antigua and Barbuda",
         "type": "scatter",
         "x": [
          61.33333,
          61.33333,
          61.33333,
          61.33333,
          61.33333
         ],
         "y": [
          "border compliance",
          "documentary compliance"
         ]
        }
       ],
       "layout": {
        "template": {
         "data": {
          "bar": [
           {
            "error_x": {
             "color": "#2a3f5f"
            },
            "error_y": {
             "color": "#2a3f5f"
            },
            "marker": {
             "line": {
              "color": "#E5ECF6",
              "width": 0.5
             },
             "pattern": {
              "fillmode": "overlay",
              "size": 10,
              "solidity": 0.2
             }
            },
            "type": "bar"
           }
          ],
          "barpolar": [
           {
            "marker": {
             "line": {
              "color": "#E5ECF6",
              "width": 0.5
             },
             "pattern": {
              "fillmode": "overlay",
              "size": 10,
              "solidity": 0.2
             }
            },
            "type": "barpolar"
           }
          ],
          "carpet": [
           {
            "aaxis": {
             "endlinecolor": "#2a3f5f",
             "gridcolor": "white",
             "linecolor": "white",
             "minorgridcolor": "white",
             "startlinecolor": "#2a3f5f"
            },
            "baxis": {
             "endlinecolor": "#2a3f5f",
             "gridcolor": "white",
             "linecolor": "white",
             "minorgridcolor": "white",
             "startlinecolor": "#2a3f5f"
            },
            "type": "carpet"
           }
          ],
          "choropleth": [
           {
            "colorbar": {
             "outlinewidth": 0,
             "ticks": ""
            },
            "type": "choropleth"
           }
          ],
          "contour": [
           {
            "colorbar": {
             "outlinewidth": 0,
             "ticks": ""
            },
            "colorscale": [
             [
              0,
              "#0d0887"
             ],
             [
              0.1111111111111111,
              "#46039f"
             ],
             [
              0.2222222222222222,
              "#7201a8"
             ],
             [
              0.3333333333333333,
              "#9c179e"
             ],
             [
              0.4444444444444444,
              "#bd3786"
             ],
             [
              0.5555555555555556,
              "#d8576b"
             ],
             [
              0.6666666666666666,
              "#ed7953"
             ],
             [
              0.7777777777777778,
              "#fb9f3a"
             ],
             [
              0.8888888888888888,
              "#fdca26"
             ],
             [
              1,
              "#f0f921"
             ]
            ],
            "type": "contour"
           }
          ],
          "contourcarpet": [
           {
            "colorbar": {
             "outlinewidth": 0,
             "ticks": ""
            },
            "type": "contourcarpet"
           }
          ],
          "heatmap": [
           {
            "colorbar": {
             "outlinewidth": 0,
             "ticks": ""
            },
            "colorscale": [
             [
              0,
              "#0d0887"
             ],
             [
              0.1111111111111111,
              "#46039f"
             ],
             [
              0.2222222222222222,
              "#7201a8"
             ],
             [
              0.3333333333333333,
              "#9c179e"
             ],
             [
              0.4444444444444444,
              "#bd3786"
             ],
             [
              0.5555555555555556,
              "#d8576b"
             ],
             [
              0.6666666666666666,
              "#ed7953"
             ],
             [
              0.7777777777777778,
              "#fb9f3a"
             ],
             [
              0.8888888888888888,
              "#fdca26"
             ],
             [
              1,
              "#f0f921"
             ]
            ],
            "type": "heatmap"
           }
          ],
          "heatmapgl": [
           {
            "colorbar": {
             "outlinewidth": 0,
             "ticks": ""
            },
            "colorscale": [
             [
              0,
              "#0d0887"
             ],
             [
              0.1111111111111111,
              "#46039f"
             ],
             [
              0.2222222222222222,
              "#7201a8"
             ],
             [
              0.3333333333333333,
              "#9c179e"
             ],
             [
              0.4444444444444444,
              "#bd3786"
             ],
             [
              0.5555555555555556,
              "#d8576b"
             ],
             [
              0.6666666666666666,
              "#ed7953"
             ],
             [
              0.7777777777777778,
              "#fb9f3a"
             ],
             [
              0.8888888888888888,
              "#fdca26"
             ],
             [
              1,
              "#f0f921"
             ]
            ],
            "type": "heatmapgl"
           }
          ],
          "histogram": [
           {
            "marker": {
             "pattern": {
              "fillmode": "overlay",
              "size": 10,
              "solidity": 0.2
             }
            },
            "type": "histogram"
           }
          ],
          "histogram2d": [
           {
            "colorbar": {
             "outlinewidth": 0,
             "ticks": ""
            },
            "colorscale": [
             [
              0,
              "#0d0887"
             ],
             [
              0.1111111111111111,
              "#46039f"
             ],
             [
              0.2222222222222222,
              "#7201a8"
             ],
             [
              0.3333333333333333,
              "#9c179e"
             ],
             [
              0.4444444444444444,
              "#bd3786"
             ],
             [
              0.5555555555555556,
              "#d8576b"
             ],
             [
              0.6666666666666666,
              "#ed7953"
             ],
             [
              0.7777777777777778,
              "#fb9f3a"
             ],
             [
              0.8888888888888888,
              "#fdca26"
             ],
             [
              1,
              "#f0f921"
             ]
            ],
            "type": "histogram2d"
           }
          ],
          "histogram2dcontour": [
           {
            "colorbar": {
             "outlinewidth": 0,
             "ticks": ""
            },
            "colorscale": [
             [
              0,
              "#0d0887"
             ],
             [
              0.1111111111111111,
              "#46039f"
             ],
             [
              0.2222222222222222,
              "#7201a8"
             ],
             [
              0.3333333333333333,
              "#9c179e"
             ],
             [
              0.4444444444444444,
              "#bd3786"
             ],
             [
              0.5555555555555556,
              "#d8576b"
             ],
             [
              0.6666666666666666,
              "#ed7953"
             ],
             [
              0.7777777777777778,
              "#fb9f3a"
             ],
             [
              0.8888888888888888,
              "#fdca26"
             ],
             [
              1,
              "#f0f921"
             ]
            ],
            "type": "histogram2dcontour"
           }
          ],
          "mesh3d": [
           {
            "colorbar": {
             "outlinewidth": 0,
             "ticks": ""
            },
            "type": "mesh3d"
           }
          ],
          "parcoords": [
           {
            "line": {
             "colorbar": {
              "outlinewidth": 0,
              "ticks": ""
             }
            },
            "type": "parcoords"
           }
          ],
          "pie": [
           {
            "automargin": true,
            "type": "pie"
           }
          ],
          "scatter": [
           {
            "fillpattern": {
             "fillmode": "overlay",
             "size": 10,
             "solidity": 0.2
            },
            "type": "scatter"
           }
          ],
          "scatter3d": [
           {
            "line": {
             "colorbar": {
              "outlinewidth": 0,
              "ticks": ""
             }
            },
            "marker": {
             "colorbar": {
              "outlinewidth": 0,
              "ticks": ""
             }
            },
            "type": "scatter3d"
           }
          ],
          "scattercarpet": [
           {
            "marker": {
             "colorbar": {
              "outlinewidth": 0,
              "ticks": ""
             }
            },
            "type": "scattercarpet"
           }
          ],
          "scattergeo": [
           {
            "marker": {
             "colorbar": {
              "outlinewidth": 0,
              "ticks": ""
             }
            },
            "type": "scattergeo"
           }
          ],
          "scattergl": [
           {
            "marker": {
             "colorbar": {
              "outlinewidth": 0,
              "ticks": ""
             }
            },
            "type": "scattergl"
           }
          ],
          "scattermapbox": [
           {
            "marker": {
             "colorbar": {
              "outlinewidth": 0,
              "ticks": ""
             }
            },
            "type": "scattermapbox"
           }
          ],
          "scatterpolar": [
           {
            "marker": {
             "colorbar": {
              "outlinewidth": 0,
              "ticks": ""
             }
            },
            "type": "scatterpolar"
           }
          ],
          "scatterpolargl": [
           {
            "marker": {
             "colorbar": {
              "outlinewidth": 0,
              "ticks": ""
             }
            },
            "type": "scatterpolargl"
           }
          ],
          "scatterternary": [
           {
            "marker": {
             "colorbar": {
              "outlinewidth": 0,
              "ticks": ""
             }
            },
            "type": "scatterternary"
           }
          ],
          "surface": [
           {
            "colorbar": {
             "outlinewidth": 0,
             "ticks": ""
            },
            "colorscale": [
             [
              0,
              "#0d0887"
             ],
             [
              0.1111111111111111,
              "#46039f"
             ],
             [
              0.2222222222222222,
              "#7201a8"
             ],
             [
              0.3333333333333333,
              "#9c179e"
             ],
             [
              0.4444444444444444,
              "#bd3786"
             ],
             [
              0.5555555555555556,
              "#d8576b"
             ],
             [
              0.6666666666666666,
              "#ed7953"
             ],
             [
              0.7777777777777778,
              "#fb9f3a"
             ],
             [
              0.8888888888888888,
              "#fdca26"
             ],
             [
              1,
              "#f0f921"
             ]
            ],
            "type": "surface"
           }
          ],
          "table": [
           {
            "cells": {
             "fill": {
              "color": "#EBF0F8"
             },
             "line": {
              "color": "white"
             }
            },
            "header": {
             "fill": {
              "color": "#C8D4E3"
             },
             "line": {
              "color": "white"
             }
            },
            "type": "table"
           }
          ]
         },
         "layout": {
          "annotationdefaults": {
           "arrowcolor": "#2a3f5f",
           "arrowhead": 0,
           "arrowwidth": 1
          },
          "autotypenumbers": "strict",
          "coloraxis": {
           "colorbar": {
            "outlinewidth": 0,
            "ticks": ""
           }
          },
          "colorscale": {
           "diverging": [
            [
             0,
             "#8e0152"
            ],
            [
             0.1,
             "#c51b7d"
            ],
            [
             0.2,
             "#de77ae"
            ],
            [
             0.3,
             "#f1b6da"
            ],
            [
             0.4,
             "#fde0ef"
            ],
            [
             0.5,
             "#f7f7f7"
            ],
            [
             0.6,
             "#e6f5d0"
            ],
            [
             0.7,
             "#b8e186"
            ],
            [
             0.8,
             "#7fbc41"
            ],
            [
             0.9,
             "#4d9221"
            ],
            [
             1,
             "#276419"
            ]
           ],
           "sequential": [
            [
             0,
             "#0d0887"
            ],
            [
             0.1111111111111111,
             "#46039f"
            ],
            [
             0.2222222222222222,
             "#7201a8"
            ],
            [
             0.3333333333333333,
             "#9c179e"
            ],
            [
             0.4444444444444444,
             "#bd3786"
            ],
            [
             0.5555555555555556,
             "#d8576b"
            ],
            [
             0.6666666666666666,
             "#ed7953"
            ],
            [
             0.7777777777777778,
             "#fb9f3a"
            ],
            [
             0.8888888888888888,
             "#fdca26"
            ],
            [
             1,
             "#f0f921"
            ]
           ],
           "sequentialminus": [
            [
             0,
             "#0d0887"
            ],
            [
             0.1111111111111111,
             "#46039f"
            ],
            [
             0.2222222222222222,
             "#7201a8"
            ],
            [
             0.3333333333333333,
             "#9c179e"
            ],
            [
             0.4444444444444444,
             "#bd3786"
            ],
            [
             0.5555555555555556,
             "#d8576b"
            ],
            [
             0.6666666666666666,
             "#ed7953"
            ],
            [
             0.7777777777777778,
             "#fb9f3a"
            ],
            [
             0.8888888888888888,
             "#fdca26"
            ],
            [
             1,
             "#f0f921"
            ]
           ]
          },
          "colorway": [
           "#636efa",
           "#EF553B",
           "#00cc96",
           "#ab63fa",
           "#FFA15A",
           "#19d3f3",
           "#FF6692",
           "#B6E880",
           "#FF97FF",
           "#FECB52"
          ],
          "font": {
           "color": "#2a3f5f"
          },
          "geo": {
           "bgcolor": "white",
           "lakecolor": "white",
           "landcolor": "#E5ECF6",
           "showlakes": true,
           "showland": true,
           "subunitcolor": "white"
          },
          "hoverlabel": {
           "align": "left"
          },
          "hovermode": "closest",
          "mapbox": {
           "style": "light"
          },
          "paper_bgcolor": "white",
          "plot_bgcolor": "#E5ECF6",
          "polar": {
           "angularaxis": {
            "gridcolor": "white",
            "linecolor": "white",
            "ticks": ""
           },
           "bgcolor": "#E5ECF6",
           "radialaxis": {
            "gridcolor": "white",
            "linecolor": "white",
            "ticks": ""
           }
          },
          "scene": {
           "xaxis": {
            "backgroundcolor": "#E5ECF6",
            "gridcolor": "white",
            "gridwidth": 2,
            "linecolor": "white",
            "showbackground": true,
            "ticks": "",
            "zerolinecolor": "white"
           },
           "yaxis": {
            "backgroundcolor": "#E5ECF6",
            "gridcolor": "white",
            "gridwidth": 2,
            "linecolor": "white",
            "showbackground": true,
            "ticks": "",
            "zerolinecolor": "white"
           },
           "zaxis": {
            "backgroundcolor": "#E5ECF6",
            "gridcolor": "white",
            "gridwidth": 2,
            "linecolor": "white",
            "showbackground": true,
            "ticks": "",
            "zerolinecolor": "white"
           }
          },
          "shapedefaults": {
           "line": {
            "color": "#2a3f5f"
           }
          },
          "ternary": {
           "aaxis": {
            "gridcolor": "white",
            "linecolor": "white",
            "ticks": ""
           },
           "baxis": {
            "gridcolor": "white",
            "linecolor": "white",
            "ticks": ""
           },
           "bgcolor": "#E5ECF6",
           "caxis": {
            "gridcolor": "white",
            "linecolor": "white",
            "ticks": ""
           }
          },
          "title": {
           "x": 0.05
          },
          "xaxis": {
           "automargin": true,
           "gridcolor": "white",
           "linecolor": "white",
           "ticks": "",
           "title": {
            "standoff": 15
           },
           "zerolinecolor": "white",
           "zerolinewidth": 2
          },
          "yaxis": {
           "automargin": true,
           "gridcolor": "white",
           "linecolor": "white",
           "ticks": "",
           "title": {
            "standoff": 15
           },
           "zerolinecolor": "white",
           "zerolinewidth": 2
          }
         }
        },
        "xaxis": {
         "title": {
          "text": "Time (Hours)"
         }
        }
       }
      }
     },
     "metadata": {},
     "output_type": "display_data"
    }
   ],
   "source": [
    "import plotly.graph_objects as go\n",
    "\n",
    "type = [\"border compliance\", \"documentary compliance\"]\n",
    "\n",
    "fig = go.Figure()\n",
    "\n",
    "export_border_compliance = []\n",
    "for country in countries:\n",
    "  export_border_compliance = df[(df[\"Series Name\"]=='Time to export, border compliance (hours)') &\n",
    "    (df[\"Country Name\"]==country) &\n",
    "    (df[\"year\"].isin(years))][\"value\"].values.tolist()\n",
    "\n",
    "fig.add_trace(go.Scatter(\n",
    "x=df[(df[\"Series Name\"]=='Time to export, border compliance (hours)') &\n",
    "    (df[\"Country Name\"]==i) &\n",
    "    (df[\"year\"].isin(years))][\"value\"].values.tolist(),\n",
    "y=type,\n",
    "#marker=dict(color=\"crimson\", size=12),\n",
    "mode=\"markers\",\n",
    "name=country,\n",
    "))\n",
    "\n",
    "# fig.add_trace(go.Scatter(\n",
    "#     x=[100, 32],\n",
    "#     y=type,\n",
    "#     #marker=dict(color=\"crimson\", size=12),\n",
    "#     mode=\"markers\",\n",
    "#     name=\"Women\",\n",
    "# ))\n",
    "\n",
    "# fig.add_trace(go.Scatter(\n",
    "#     x=[92, 94, 100, 107, 112, 114, 114, 118, 119, 124, 131, 137, 141, 151, 152, 165],\n",
    "#     y=type,\n",
    "#     marker=dict(size=20),\n",
    "#     mode=\"markers\",\n",
    "#     name=\"Men\",\n",
    "# ))\n",
    "\n",
    "fig.update_layout(xaxis_title=\"Time (Hours)\",\n",
    "                  #yaxis_title=\"School\"\n",
    "                )\n",
    "\n",
    "fig.show()"
   ]
  },
  {
   "cell_type": "code",
   "execution_count": 28,
   "metadata": {},
   "outputs": [
    {
     "data": {
      "text/plain": [
       "[48.0, 48.0, 48.0, 48.0, 48.0]"
      ]
     },
     "execution_count": 28,
     "metadata": {},
     "output_type": "execute_result"
    }
   ],
   "source": [
    "df[(df[\"Series Name\"]=='Time to export, border compliance (hours)') &\n",
    "       (df[\"Country Name\"]==\"Afghanistan\") &\n",
    "       (df[\"year\"].isin(years))][\"value\"].values.tolist()"
   ]
  },
  {
   "cell_type": "code",
   "execution_count": 29,
   "metadata": {},
   "outputs": [
    {
     "data": {
      "text/plain": [
       "array(['Afghanistan', 'Albania', 'Algeria', 'Angola',\n",
       "       'Antigua and Barbuda', 'Argentina', 'Armenia', 'Australia',\n",
       "       'Austria', 'Azerbaijan', 'Bahamas, The', 'Bahrain', 'Bangladesh',\n",
       "       'Barbados', 'Belarus', 'Belgium', 'Belize', 'Benin', 'Bhutan',\n",
       "       'Bolivia', 'Bosnia and Herzegovina', 'Botswana', 'Brazil',\n",
       "       'Brunei Darussalam', 'Bulgaria', 'Burkina Faso', 'Burundi',\n",
       "       'Cabo Verde', 'Cambodia', 'Cameroon', 'Canada',\n",
       "       'Central African Republic', 'Chad', 'Chile', 'China', 'Colombia',\n",
       "       'Comoros', 'Congo, Dem. Rep.', 'Congo, Rep.', 'Costa Rica',\n",
       "       \"Cote d'Ivoire\", 'Croatia', 'Cyprus', 'Czechia', 'Denmark',\n",
       "       'Djibouti', 'Dominica', 'Dominican Republic', 'Ecuador',\n",
       "       'Egypt, Arab Rep.', 'El Salvador', 'Equatorial Guinea', 'Eritrea',\n",
       "       'Estonia', 'Eswatini', 'Ethiopia', 'Fiji', 'Finland', 'France',\n",
       "       'Gabon', 'Gambia, The', 'Georgia', 'Germany', 'Ghana', 'Greece',\n",
       "       'Grenada', 'Guatemala', 'Guinea', 'Guinea-Bissau', 'Guyana',\n",
       "       'Haiti', 'Honduras', 'Hong Kong SAR, China', 'Hungary', 'Iceland',\n",
       "       'India', 'Indonesia', 'Iran, Islamic Rep.', 'Iraq', 'Ireland',\n",
       "       'Israel', 'Italy', 'Jamaica', 'Japan', 'Jordan', 'Kazakhstan',\n",
       "       'Kenya', 'Kiribati', 'Korea, Rep.', 'Kosovo', 'Kuwait',\n",
       "       'Kyrgyz Republic', 'Lao PDR', 'Latvia', 'Lebanon', 'Lesotho',\n",
       "       'Liberia', 'Libya', 'Liechtenstein', 'Lithuania', 'Luxembourg',\n",
       "       'Madagascar', 'Malawi', 'Malaysia', 'Maldives', 'Mali', 'Malta',\n",
       "       'Marshall Islands', 'Mauritania', 'Mauritius', 'Mexico',\n",
       "       'Micronesia, Fed. Sts.', 'Moldova', 'Mongolia', 'Montenegro',\n",
       "       'Morocco', 'Mozambique', 'Myanmar', 'Namibia', 'Nepal',\n",
       "       'Netherlands', 'New Zealand', 'Nicaragua', 'Niger', 'Nigeria',\n",
       "       'North Macedonia', 'Norway', 'Oman', 'Pakistan', 'Palau', 'Panama',\n",
       "       'Papua New Guinea', 'Paraguay', 'Peru', 'Philippines', 'Poland',\n",
       "       'Portugal', 'Puerto Rico', 'Qatar', 'Romania',\n",
       "       'Russian Federation', 'Rwanda', 'Samoa', 'San Marino',\n",
       "       'Sao Tome and Principe', 'Saudi Arabia', 'Senegal', 'Serbia',\n",
       "       'Seychelles', 'Sierra Leone', 'Singapore', 'Slovak Republic',\n",
       "       'Slovenia', 'Solomon Islands', 'Somalia', 'South Africa',\n",
       "       'South Sudan', 'Spain', 'Sri Lanka', 'St. Kitts and Nevis',\n",
       "       'St. Lucia', 'St. Vincent and the Grenadines', 'Sudan', 'Suriname',\n",
       "       'Sweden', 'Switzerland', 'Syrian Arab Republic', 'Tajikistan',\n",
       "       'Tanzania', 'Thailand', 'Timor-Leste', 'Togo', 'Tonga',\n",
       "       'Trinidad and Tobago', 'Tunisia', 'Turkiye', 'Uganda', 'Ukraine',\n",
       "       'United Arab Emirates', 'United Kingdom', 'United States',\n",
       "       'Uruguay', 'Uzbekistan', 'Vanuatu', 'Venezuela, RB', 'Vietnam',\n",
       "       'West Bank and Gaza', 'Yemen, Rep.', 'Zambia', 'Zimbabwe',\n",
       "       'Africa Eastern and Southern', 'Africa Western and Central',\n",
       "       'Arab World', 'Caribbean small states',\n",
       "       'Central Europe and the Baltics', 'Early-demographic dividend',\n",
       "       'East Asia & Pacific',\n",
       "       'East Asia & Pacific (excluding high income)',\n",
       "       'East Asia & Pacific (IDA & IBRD countries)', 'Euro area',\n",
       "       'Europe & Central Asia',\n",
       "       'Europe & Central Asia (excluding high income)',\n",
       "       'Europe & Central Asia (IDA & IBRD countries)', 'European Union',\n",
       "       'Fragile and conflict affected situations',\n",
       "       'Heavily indebted poor countries (HIPC)', 'High income',\n",
       "       'IBRD only', 'IDA & IBRD total', 'IDA blend', 'IDA only',\n",
       "       'IDA total', 'Late-demographic dividend',\n",
       "       'Latin America & Caribbean',\n",
       "       'Latin America & Caribbean (excluding high income)',\n",
       "       'Latin America & the Caribbean (IDA & IBRD countries)',\n",
       "       'Least developed countries: UN classification',\n",
       "       'Low & middle income', 'Low income', 'Lower middle income',\n",
       "       'Middle East & North Africa',\n",
       "       'Middle East & North Africa (excluding high income)',\n",
       "       'Middle East & North Africa (IDA & IBRD countries)',\n",
       "       'Middle income', 'North America', 'OECD members',\n",
       "       'Other small states', 'Pacific island small states',\n",
       "       'Post-demographic dividend', 'Pre-demographic dividend',\n",
       "       'Small states', 'South Asia', 'South Asia (IDA & IBRD)',\n",
       "       'Sub-Saharan Africa', 'Sub-Saharan Africa (excluding high income)',\n",
       "       'Sub-Saharan Africa (IDA & IBRD countries)', 'Upper middle income',\n",
       "       'World'], dtype=object)"
      ]
     },
     "execution_count": 29,
     "metadata": {},
     "output_type": "execute_result"
    }
   ],
   "source": [
    "df[\"Country Name\"].unique()"
   ]
  },
  {
   "cell_type": "code",
   "execution_count": 21,
   "metadata": {},
   "outputs": [
    {
     "data": {
      "application/vnd.plotly.v1+json": {
       "config": {
        "plotlyServerURL": "https://plot.ly"
       },
       "data": [
        {
         "mode": "markers",
         "name": "Antigua and Barbuda",
         "type": "scatter",
         "x": [
          61.33333,
          50.66667
         ],
         "y": [
          "border compliance",
          "documentary compliance"
         ]
        },
        {
         "mode": "markers",
         "name": "Antigua and Barbuda",
         "type": "scatter",
         "x": [
          61.33333,
          50.66667
         ],
         "y": [
          "border compliance",
          "documentary compliance"
         ]
        },
        {
         "mode": "markers",
         "name": "Antigua and Barbuda",
         "type": "scatter",
         "x": [
          61.33333,
          50.66667
         ],
         "y": [
          "border compliance",
          "documentary compliance"
         ]
        },
        {
         "mode": "markers",
         "name": "Antigua and Barbuda",
         "type": "scatter",
         "x": [
          61.33333,
          50.66667
         ],
         "y": [
          "border compliance",
          "documentary compliance"
         ]
        },
        {
         "mode": "markers",
         "name": "Antigua and Barbuda",
         "type": "scatter",
         "x": [
          61.33333,
          50.66667
         ],
         "y": [
          "border compliance",
          "documentary compliance"
         ]
        },
        {
         "mode": "markers",
         "name": "Antigua and Barbuda",
         "type": "scatter",
         "x": [
          61.33333,
          50.66667
         ],
         "y": [
          "border compliance",
          "documentary compliance"
         ]
        },
        {
         "mode": "markers",
         "name": "Antigua and Barbuda",
         "type": "scatter",
         "x": [
          61.33333,
          50.66667
         ],
         "y": [
          "border compliance",
          "documentary compliance"
         ]
        },
        {
         "mode": "markers",
         "name": "Antigua and Barbuda",
         "type": "scatter",
         "x": [
          61.33333,
          50.66667
         ],
         "y": [
          "border compliance",
          "documentary compliance"
         ]
        },
        {
         "mode": "markers",
         "name": "Antigua and Barbuda",
         "type": "scatter",
         "x": [
          61.33333,
          50.66667
         ],
         "y": [
          "border compliance",
          "documentary compliance"
         ]
        },
        {
         "mode": "markers",
         "name": "Antigua and Barbuda",
         "type": "scatter",
         "x": [
          61.33333,
          50.66667
         ],
         "y": [
          "border compliance",
          "documentary compliance"
         ]
        },
        {
         "mode": "markers",
         "name": "Antigua and Barbuda",
         "type": "scatter",
         "x": [
          61.33333,
          50.66667
         ],
         "y": [
          "border compliance",
          "documentary compliance"
         ]
        },
        {
         "mode": "markers",
         "name": "Antigua and Barbuda",
         "type": "scatter",
         "x": [
          61.33333,
          50.66667
         ],
         "y": [
          "border compliance",
          "documentary compliance"
         ]
        },
        {
         "mode": "markers",
         "name": "Antigua and Barbuda",
         "type": "scatter",
         "x": [
          61.33333,
          50.66667
         ],
         "y": [
          "border compliance",
          "documentary compliance"
         ]
        },
        {
         "mode": "markers",
         "name": "Antigua and Barbuda",
         "type": "scatter",
         "x": [
          61.33333,
          50.66667
         ],
         "y": [
          "border compliance",
          "documentary compliance"
         ]
        },
        {
         "mode": "markers",
         "name": "Antigua and Barbuda",
         "type": "scatter",
         "x": [
          61.33333,
          50.66667
         ],
         "y": [
          "border compliance",
          "documentary compliance"
         ]
        },
        {
         "mode": "markers",
         "name": "Antigua and Barbuda",
         "type": "scatter",
         "x": [
          61.33333,
          50.66667
         ],
         "y": [
          "border compliance",
          "documentary compliance"
         ]
        },
        {
         "mode": "markers",
         "name": "Antigua and Barbuda",
         "type": "scatter",
         "x": [
          61.33333,
          50.66667
         ],
         "y": [
          "border compliance",
          "documentary compliance"
         ]
        },
        {
         "mode": "markers",
         "name": "Antigua and Barbuda",
         "type": "scatter",
         "x": [
          61.33333,
          50.66667
         ],
         "y": [
          "border compliance",
          "documentary compliance"
         ]
        },
        {
         "mode": "markers",
         "name": "Antigua and Barbuda",
         "type": "scatter",
         "x": [
          61.33333,
          50.66667
         ],
         "y": [
          "border compliance",
          "documentary compliance"
         ]
        },
        {
         "mode": "markers",
         "name": "Antigua and Barbuda",
         "type": "scatter",
         "x": [
          61.33333,
          50.66667
         ],
         "y": [
          "border compliance",
          "documentary compliance"
         ]
        },
        {
         "mode": "markers",
         "name": "Antigua and Barbuda",
         "type": "scatter",
         "x": [
          61.33333,
          50.66667
         ],
         "y": [
          "border compliance",
          "documentary compliance"
         ]
        },
        {
         "mode": "markers",
         "name": "Antigua and Barbuda",
         "type": "scatter",
         "x": [
          61.33333,
          50.66667
         ],
         "y": [
          "border compliance",
          "documentary compliance"
         ]
        },
        {
         "mode": "markers",
         "name": "Antigua and Barbuda",
         "type": "scatter",
         "x": [
          61.33333,
          50.66667
         ],
         "y": [
          "border compliance",
          "documentary compliance"
         ]
        },
        {
         "mode": "markers",
         "name": "Antigua and Barbuda",
         "type": "scatter",
         "x": [
          61.33333,
          50.66667
         ],
         "y": [
          "border compliance",
          "documentary compliance"
         ]
        },
        {
         "mode": "markers",
         "name": "Antigua and Barbuda",
         "type": "scatter",
         "x": [
          61.33333,
          50.66667
         ],
         "y": [
          "border compliance",
          "documentary compliance"
         ]
        },
        {
         "mode": "markers",
         "name": "Antigua and Barbuda",
         "type": "scatter",
         "x": [
          61.33333,
          50.66667
         ],
         "y": [
          "border compliance",
          "documentary compliance"
         ]
        },
        {
         "mode": "markers",
         "name": "Antigua and Barbuda",
         "type": "scatter",
         "x": [
          61.33333,
          50.66667
         ],
         "y": [
          "border compliance",
          "documentary compliance"
         ]
        },
        {
         "mode": "markers",
         "name": "Antigua and Barbuda",
         "type": "scatter",
         "x": [
          61.33333,
          50.66667
         ],
         "y": [
          "border compliance",
          "documentary compliance"
         ]
        },
        {
         "mode": "markers",
         "name": "Antigua and Barbuda",
         "type": "scatter",
         "x": [
          61.33333,
          50.66667
         ],
         "y": [
          "border compliance",
          "documentary compliance"
         ]
        },
        {
         "mode": "markers",
         "name": "Antigua and Barbuda",
         "type": "scatter",
         "x": [
          61.33333,
          50.66667
         ],
         "y": [
          "border compliance",
          "documentary compliance"
         ]
        },
        {
         "mode": "markers",
         "name": "Antigua and Barbuda",
         "type": "scatter",
         "x": [
          61.33333,
          50.66667
         ],
         "y": [
          "border compliance",
          "documentary compliance"
         ]
        },
        {
         "mode": "markers",
         "name": "Antigua and Barbuda",
         "type": "scatter",
         "x": [
          61.33333,
          50.66667
         ],
         "y": [
          "border compliance",
          "documentary compliance"
         ]
        },
        {
         "mode": "markers",
         "name": "Antigua and Barbuda",
         "type": "scatter",
         "x": [
          61.33333,
          50.66667
         ],
         "y": [
          "border compliance",
          "documentary compliance"
         ]
        },
        {
         "mode": "markers",
         "name": "Antigua and Barbuda",
         "type": "scatter",
         "x": [
          61.33333,
          50.66667
         ],
         "y": [
          "border compliance",
          "documentary compliance"
         ]
        },
        {
         "mode": "markers",
         "name": "Antigua and Barbuda",
         "type": "scatter",
         "x": [
          61.33333,
          50.66667
         ],
         "y": [
          "border compliance",
          "documentary compliance"
         ]
        },
        {
         "mode": "markers",
         "name": "Antigua and Barbuda",
         "type": "scatter",
         "x": [
          61.33333,
          50.66667
         ],
         "y": [
          "border compliance",
          "documentary compliance"
         ]
        },
        {
         "mode": "markers",
         "name": "Antigua and Barbuda",
         "type": "scatter",
         "x": [
          61.33333,
          50.66667
         ],
         "y": [
          "border compliance",
          "documentary compliance"
         ]
        },
        {
         "mode": "markers",
         "name": "Antigua and Barbuda",
         "type": "scatter",
         "x": [
          61.33333,
          50.66667
         ],
         "y": [
          "border compliance",
          "documentary compliance"
         ]
        },
        {
         "mode": "markers",
         "name": "Antigua and Barbuda",
         "type": "scatter",
         "x": [
          61.33333,
          50.66667
         ],
         "y": [
          "border compliance",
          "documentary compliance"
         ]
        },
        {
         "mode": "markers",
         "name": "Antigua and Barbuda",
         "type": "scatter",
         "x": [
          61.33333,
          50.66667
         ],
         "y": [
          "border compliance",
          "documentary compliance"
         ]
        },
        {
         "mode": "markers",
         "name": "Antigua and Barbuda",
         "type": "scatter",
         "x": [
          61.33333,
          50.66667
         ],
         "y": [
          "border compliance",
          "documentary compliance"
         ]
        },
        {
         "mode": "markers",
         "name": "Antigua and Barbuda",
         "type": "scatter",
         "x": [
          61.33333,
          50.66667
         ],
         "y": [
          "border compliance",
          "documentary compliance"
         ]
        },
        {
         "mode": "markers",
         "name": "Antigua and Barbuda",
         "type": "scatter",
         "x": [
          61.33333,
          50.66667
         ],
         "y": [
          "border compliance",
          "documentary compliance"
         ]
        },
        {
         "mode": "markers",
         "name": "Antigua and Barbuda",
         "type": "scatter",
         "x": [
          61.33333,
          50.66667
         ],
         "y": [
          "border compliance",
          "documentary compliance"
         ]
        },
        {
         "mode": "markers",
         "name": "Antigua and Barbuda",
         "type": "scatter",
         "x": [
          61.33333,
          50.66667
         ],
         "y": [
          "border compliance",
          "documentary compliance"
         ]
        },
        {
         "mode": "markers",
         "name": "Antigua and Barbuda",
         "type": "scatter",
         "x": [
          61.33333,
          50.66667
         ],
         "y": [
          "border compliance",
          "documentary compliance"
         ]
        },
        {
         "mode": "markers",
         "name": "Antigua and Barbuda",
         "type": "scatter",
         "x": [
          61.33333,
          50.66667
         ],
         "y": [
          "border compliance",
          "documentary compliance"
         ]
        },
        {
         "mode": "markers",
         "name": "Antigua and Barbuda",
         "type": "scatter",
         "x": [
          61.33333,
          50.66667
         ],
         "y": [
          "border compliance",
          "documentary compliance"
         ]
        },
        {
         "mode": "markers",
         "name": "Antigua and Barbuda",
         "type": "scatter",
         "x": [
          61.33333,
          50.66667
         ],
         "y": [
          "border compliance",
          "documentary compliance"
         ]
        },
        {
         "mode": "markers",
         "name": "Antigua and Barbuda",
         "type": "scatter",
         "x": [
          61.33333,
          50.66667
         ],
         "y": [
          "border compliance",
          "documentary compliance"
         ]
        },
        {
         "mode": "markers",
         "name": "Antigua and Barbuda",
         "type": "scatter",
         "x": [
          61.33333,
          50.66667
         ],
         "y": [
          "border compliance",
          "documentary compliance"
         ]
        },
        {
         "mode": "markers",
         "name": "Antigua and Barbuda",
         "type": "scatter",
         "x": [
          61.33333,
          50.66667
         ],
         "y": [
          "border compliance",
          "documentary compliance"
         ]
        },
        {
         "mode": "markers",
         "name": "Antigua and Barbuda",
         "type": "scatter",
         "x": [
          61.33333,
          50.66667
         ],
         "y": [
          "border compliance",
          "documentary compliance"
         ]
        },
        {
         "mode": "markers",
         "name": "Antigua and Barbuda",
         "type": "scatter",
         "x": [
          61.33333,
          50.66667
         ],
         "y": [
          "border compliance",
          "documentary compliance"
         ]
        },
        {
         "mode": "markers",
         "name": "Antigua and Barbuda",
         "type": "scatter",
         "x": [
          61.33333,
          50.66667
         ],
         "y": [
          "border compliance",
          "documentary compliance"
         ]
        },
        {
         "mode": "markers",
         "name": "Antigua and Barbuda",
         "type": "scatter",
         "x": [
          61.33333,
          50.66667
         ],
         "y": [
          "border compliance",
          "documentary compliance"
         ]
        },
        {
         "mode": "markers",
         "name": "Antigua and Barbuda",
         "type": "scatter",
         "x": [
          61.33333,
          50.66667
         ],
         "y": [
          "border compliance",
          "documentary compliance"
         ]
        },
        {
         "mode": "markers",
         "name": "Antigua and Barbuda",
         "type": "scatter",
         "x": [
          61.33333,
          50.66667
         ],
         "y": [
          "border compliance",
          "documentary compliance"
         ]
        },
        {
         "mode": "markers",
         "name": "Antigua and Barbuda",
         "type": "scatter",
         "x": [
          61.33333,
          50.66667
         ],
         "y": [
          "border compliance",
          "documentary compliance"
         ]
        },
        {
         "mode": "markers",
         "name": "Antigua and Barbuda",
         "type": "scatter",
         "x": [
          61.33333,
          50.66667
         ],
         "y": [
          "border compliance",
          "documentary compliance"
         ]
        },
        {
         "mode": "markers",
         "name": "Antigua and Barbuda",
         "type": "scatter",
         "x": [
          61.33333,
          50.66667
         ],
         "y": [
          "border compliance",
          "documentary compliance"
         ]
        },
        {
         "mode": "markers",
         "name": "Antigua and Barbuda",
         "type": "scatter",
         "x": [
          61.33333,
          50.66667
         ],
         "y": [
          "border compliance",
          "documentary compliance"
         ]
        },
        {
         "mode": "markers",
         "name": "Antigua and Barbuda",
         "type": "scatter",
         "x": [
          61.33333,
          50.66667
         ],
         "y": [
          "border compliance",
          "documentary compliance"
         ]
        },
        {
         "mode": "markers",
         "name": "Antigua and Barbuda",
         "type": "scatter",
         "x": [
          61.33333,
          50.66667
         ],
         "y": [
          "border compliance",
          "documentary compliance"
         ]
        },
        {
         "mode": "markers",
         "name": "Antigua and Barbuda",
         "type": "scatter",
         "x": [
          61.33333,
          50.66667
         ],
         "y": [
          "border compliance",
          "documentary compliance"
         ]
        },
        {
         "mode": "markers",
         "name": "Antigua and Barbuda",
         "type": "scatter",
         "x": [
          61.33333,
          50.66667
         ],
         "y": [
          "border compliance",
          "documentary compliance"
         ]
        },
        {
         "mode": "markers",
         "name": "Antigua and Barbuda",
         "type": "scatter",
         "x": [
          61.33333,
          50.66667
         ],
         "y": [
          "border compliance",
          "documentary compliance"
         ]
        },
        {
         "mode": "markers",
         "name": "Antigua and Barbuda",
         "type": "scatter",
         "x": [
          61.33333,
          50.66667
         ],
         "y": [
          "border compliance",
          "documentary compliance"
         ]
        },
        {
         "mode": "markers",
         "name": "Antigua and Barbuda",
         "type": "scatter",
         "x": [
          61.33333,
          50.66667
         ],
         "y": [
          "border compliance",
          "documentary compliance"
         ]
        },
        {
         "mode": "markers",
         "name": "Antigua and Barbuda",
         "type": "scatter",
         "x": [
          61.33333,
          50.66667
         ],
         "y": [
          "border compliance",
          "documentary compliance"
         ]
        },
        {
         "mode": "markers",
         "name": "Antigua and Barbuda",
         "type": "scatter",
         "x": [
          61.33333,
          50.66667
         ],
         "y": [
          "border compliance",
          "documentary compliance"
         ]
        },
        {
         "mode": "markers",
         "name": "Antigua and Barbuda",
         "type": "scatter",
         "x": [
          61.33333,
          50.66667
         ],
         "y": [
          "border compliance",
          "documentary compliance"
         ]
        },
        {
         "mode": "markers",
         "name": "Antigua and Barbuda",
         "type": "scatter",
         "x": [
          61.33333,
          50.66667
         ],
         "y": [
          "border compliance",
          "documentary compliance"
         ]
        },
        {
         "mode": "markers",
         "name": "Antigua and Barbuda",
         "type": "scatter",
         "x": [
          61.33333,
          50.66667
         ],
         "y": [
          "border compliance",
          "documentary compliance"
         ]
        },
        {
         "mode": "markers",
         "name": "Antigua and Barbuda",
         "type": "scatter",
         "x": [
          61.33333,
          50.66667
         ],
         "y": [
          "border compliance",
          "documentary compliance"
         ]
        }
       ],
       "layout": {
        "template": {
         "data": {
          "bar": [
           {
            "error_x": {
             "color": "#2a3f5f"
            },
            "error_y": {
             "color": "#2a3f5f"
            },
            "marker": {
             "line": {
              "color": "#E5ECF6",
              "width": 0.5
             },
             "pattern": {
              "fillmode": "overlay",
              "size": 10,
              "solidity": 0.2
             }
            },
            "type": "bar"
           }
          ],
          "barpolar": [
           {
            "marker": {
             "line": {
              "color": "#E5ECF6",
              "width": 0.5
             },
             "pattern": {
              "fillmode": "overlay",
              "size": 10,
              "solidity": 0.2
             }
            },
            "type": "barpolar"
           }
          ],
          "carpet": [
           {
            "aaxis": {
             "endlinecolor": "#2a3f5f",
             "gridcolor": "white",
             "linecolor": "white",
             "minorgridcolor": "white",
             "startlinecolor": "#2a3f5f"
            },
            "baxis": {
             "endlinecolor": "#2a3f5f",
             "gridcolor": "white",
             "linecolor": "white",
             "minorgridcolor": "white",
             "startlinecolor": "#2a3f5f"
            },
            "type": "carpet"
           }
          ],
          "choropleth": [
           {
            "colorbar": {
             "outlinewidth": 0,
             "ticks": ""
            },
            "type": "choropleth"
           }
          ],
          "contour": [
           {
            "colorbar": {
             "outlinewidth": 0,
             "ticks": ""
            },
            "colorscale": [
             [
              0,
              "#0d0887"
             ],
             [
              0.1111111111111111,
              "#46039f"
             ],
             [
              0.2222222222222222,
              "#7201a8"
             ],
             [
              0.3333333333333333,
              "#9c179e"
             ],
             [
              0.4444444444444444,
              "#bd3786"
             ],
             [
              0.5555555555555556,
              "#d8576b"
             ],
             [
              0.6666666666666666,
              "#ed7953"
             ],
             [
              0.7777777777777778,
              "#fb9f3a"
             ],
             [
              0.8888888888888888,
              "#fdca26"
             ],
             [
              1,
              "#f0f921"
             ]
            ],
            "type": "contour"
           }
          ],
          "contourcarpet": [
           {
            "colorbar": {
             "outlinewidth": 0,
             "ticks": ""
            },
            "type": "contourcarpet"
           }
          ],
          "heatmap": [
           {
            "colorbar": {
             "outlinewidth": 0,
             "ticks": ""
            },
            "colorscale": [
             [
              0,
              "#0d0887"
             ],
             [
              0.1111111111111111,
              "#46039f"
             ],
             [
              0.2222222222222222,
              "#7201a8"
             ],
             [
              0.3333333333333333,
              "#9c179e"
             ],
             [
              0.4444444444444444,
              "#bd3786"
             ],
             [
              0.5555555555555556,
              "#d8576b"
             ],
             [
              0.6666666666666666,
              "#ed7953"
             ],
             [
              0.7777777777777778,
              "#fb9f3a"
             ],
             [
              0.8888888888888888,
              "#fdca26"
             ],
             [
              1,
              "#f0f921"
             ]
            ],
            "type": "heatmap"
           }
          ],
          "heatmapgl": [
           {
            "colorbar": {
             "outlinewidth": 0,
             "ticks": ""
            },
            "colorscale": [
             [
              0,
              "#0d0887"
             ],
             [
              0.1111111111111111,
              "#46039f"
             ],
             [
              0.2222222222222222,
              "#7201a8"
             ],
             [
              0.3333333333333333,
              "#9c179e"
             ],
             [
              0.4444444444444444,
              "#bd3786"
             ],
             [
              0.5555555555555556,
              "#d8576b"
             ],
             [
              0.6666666666666666,
              "#ed7953"
             ],
             [
              0.7777777777777778,
              "#fb9f3a"
             ],
             [
              0.8888888888888888,
              "#fdca26"
             ],
             [
              1,
              "#f0f921"
             ]
            ],
            "type": "heatmapgl"
           }
          ],
          "histogram": [
           {
            "marker": {
             "pattern": {
              "fillmode": "overlay",
              "size": 10,
              "solidity": 0.2
             }
            },
            "type": "histogram"
           }
          ],
          "histogram2d": [
           {
            "colorbar": {
             "outlinewidth": 0,
             "ticks": ""
            },
            "colorscale": [
             [
              0,
              "#0d0887"
             ],
             [
              0.1111111111111111,
              "#46039f"
             ],
             [
              0.2222222222222222,
              "#7201a8"
             ],
             [
              0.3333333333333333,
              "#9c179e"
             ],
             [
              0.4444444444444444,
              "#bd3786"
             ],
             [
              0.5555555555555556,
              "#d8576b"
             ],
             [
              0.6666666666666666,
              "#ed7953"
             ],
             [
              0.7777777777777778,
              "#fb9f3a"
             ],
             [
              0.8888888888888888,
              "#fdca26"
             ],
             [
              1,
              "#f0f921"
             ]
            ],
            "type": "histogram2d"
           }
          ],
          "histogram2dcontour": [
           {
            "colorbar": {
             "outlinewidth": 0,
             "ticks": ""
            },
            "colorscale": [
             [
              0,
              "#0d0887"
             ],
             [
              0.1111111111111111,
              "#46039f"
             ],
             [
              0.2222222222222222,
              "#7201a8"
             ],
             [
              0.3333333333333333,
              "#9c179e"
             ],
             [
              0.4444444444444444,
              "#bd3786"
             ],
             [
              0.5555555555555556,
              "#d8576b"
             ],
             [
              0.6666666666666666,
              "#ed7953"
             ],
             [
              0.7777777777777778,
              "#fb9f3a"
             ],
             [
              0.8888888888888888,
              "#fdca26"
             ],
             [
              1,
              "#f0f921"
             ]
            ],
            "type": "histogram2dcontour"
           }
          ],
          "mesh3d": [
           {
            "colorbar": {
             "outlinewidth": 0,
             "ticks": ""
            },
            "type": "mesh3d"
           }
          ],
          "parcoords": [
           {
            "line": {
             "colorbar": {
              "outlinewidth": 0,
              "ticks": ""
             }
            },
            "type": "parcoords"
           }
          ],
          "pie": [
           {
            "automargin": true,
            "type": "pie"
           }
          ],
          "scatter": [
           {
            "fillpattern": {
             "fillmode": "overlay",
             "size": 10,
             "solidity": 0.2
            },
            "type": "scatter"
           }
          ],
          "scatter3d": [
           {
            "line": {
             "colorbar": {
              "outlinewidth": 0,
              "ticks": ""
             }
            },
            "marker": {
             "colorbar": {
              "outlinewidth": 0,
              "ticks": ""
             }
            },
            "type": "scatter3d"
           }
          ],
          "scattercarpet": [
           {
            "marker": {
             "colorbar": {
              "outlinewidth": 0,
              "ticks": ""
             }
            },
            "type": "scattercarpet"
           }
          ],
          "scattergeo": [
           {
            "marker": {
             "colorbar": {
              "outlinewidth": 0,
              "ticks": ""
             }
            },
            "type": "scattergeo"
           }
          ],
          "scattergl": [
           {
            "marker": {
             "colorbar": {
              "outlinewidth": 0,
              "ticks": ""
             }
            },
            "type": "scattergl"
           }
          ],
          "scattermapbox": [
           {
            "marker": {
             "colorbar": {
              "outlinewidth": 0,
              "ticks": ""
             }
            },
            "type": "scattermapbox"
           }
          ],
          "scatterpolar": [
           {
            "marker": {
             "colorbar": {
              "outlinewidth": 0,
              "ticks": ""
             }
            },
            "type": "scatterpolar"
           }
          ],
          "scatterpolargl": [
           {
            "marker": {
             "colorbar": {
              "outlinewidth": 0,
              "ticks": ""
             }
            },
            "type": "scatterpolargl"
           }
          ],
          "scatterternary": [
           {
            "marker": {
             "colorbar": {
              "outlinewidth": 0,
              "ticks": ""
             }
            },
            "type": "scatterternary"
           }
          ],
          "surface": [
           {
            "colorbar": {
             "outlinewidth": 0,
             "ticks": ""
            },
            "colorscale": [
             [
              0,
              "#0d0887"
             ],
             [
              0.1111111111111111,
              "#46039f"
             ],
             [
              0.2222222222222222,
              "#7201a8"
             ],
             [
              0.3333333333333333,
              "#9c179e"
             ],
             [
              0.4444444444444444,
              "#bd3786"
             ],
             [
              0.5555555555555556,
              "#d8576b"
             ],
             [
              0.6666666666666666,
              "#ed7953"
             ],
             [
              0.7777777777777778,
              "#fb9f3a"
             ],
             [
              0.8888888888888888,
              "#fdca26"
             ],
             [
              1,
              "#f0f921"
             ]
            ],
            "type": "surface"
           }
          ],
          "table": [
           {
            "cells": {
             "fill": {
              "color": "#EBF0F8"
             },
             "line": {
              "color": "white"
             }
            },
            "header": {
             "fill": {
              "color": "#C8D4E3"
             },
             "line": {
              "color": "white"
             }
            },
            "type": "table"
           }
          ]
         },
         "layout": {
          "annotationdefaults": {
           "arrowcolor": "#2a3f5f",
           "arrowhead": 0,
           "arrowwidth": 1
          },
          "autotypenumbers": "strict",
          "coloraxis": {
           "colorbar": {
            "outlinewidth": 0,
            "ticks": ""
           }
          },
          "colorscale": {
           "diverging": [
            [
             0,
             "#8e0152"
            ],
            [
             0.1,
             "#c51b7d"
            ],
            [
             0.2,
             "#de77ae"
            ],
            [
             0.3,
             "#f1b6da"
            ],
            [
             0.4,
             "#fde0ef"
            ],
            [
             0.5,
             "#f7f7f7"
            ],
            [
             0.6,
             "#e6f5d0"
            ],
            [
             0.7,
             "#b8e186"
            ],
            [
             0.8,
             "#7fbc41"
            ],
            [
             0.9,
             "#4d9221"
            ],
            [
             1,
             "#276419"
            ]
           ],
           "sequential": [
            [
             0,
             "#0d0887"
            ],
            [
             0.1111111111111111,
             "#46039f"
            ],
            [
             0.2222222222222222,
             "#7201a8"
            ],
            [
             0.3333333333333333,
             "#9c179e"
            ],
            [
             0.4444444444444444,
             "#bd3786"
            ],
            [
             0.5555555555555556,
             "#d8576b"
            ],
            [
             0.6666666666666666,
             "#ed7953"
            ],
            [
             0.7777777777777778,
             "#fb9f3a"
            ],
            [
             0.8888888888888888,
             "#fdca26"
            ],
            [
             1,
             "#f0f921"
            ]
           ],
           "sequentialminus": [
            [
             0,
             "#0d0887"
            ],
            [
             0.1111111111111111,
             "#46039f"
            ],
            [
             0.2222222222222222,
             "#7201a8"
            ],
            [
             0.3333333333333333,
             "#9c179e"
            ],
            [
             0.4444444444444444,
             "#bd3786"
            ],
            [
             0.5555555555555556,
             "#d8576b"
            ],
            [
             0.6666666666666666,
             "#ed7953"
            ],
            [
             0.7777777777777778,
             "#fb9f3a"
            ],
            [
             0.8888888888888888,
             "#fdca26"
            ],
            [
             1,
             "#f0f921"
            ]
           ]
          },
          "colorway": [
           "#636efa",
           "#EF553B",
           "#00cc96",
           "#ab63fa",
           "#FFA15A",
           "#19d3f3",
           "#FF6692",
           "#B6E880",
           "#FF97FF",
           "#FECB52"
          ],
          "font": {
           "color": "#2a3f5f"
          },
          "geo": {
           "bgcolor": "white",
           "lakecolor": "white",
           "landcolor": "#E5ECF6",
           "showlakes": true,
           "showland": true,
           "subunitcolor": "white"
          },
          "hoverlabel": {
           "align": "left"
          },
          "hovermode": "closest",
          "mapbox": {
           "style": "light"
          },
          "paper_bgcolor": "white",
          "plot_bgcolor": "#E5ECF6",
          "polar": {
           "angularaxis": {
            "gridcolor": "white",
            "linecolor": "white",
            "ticks": ""
           },
           "bgcolor": "#E5ECF6",
           "radialaxis": {
            "gridcolor": "white",
            "linecolor": "white",
            "ticks": ""
           }
          },
          "scene": {
           "xaxis": {
            "backgroundcolor": "#E5ECF6",
            "gridcolor": "white",
            "gridwidth": 2,
            "linecolor": "white",
            "showbackground": true,
            "ticks": "",
            "zerolinecolor": "white"
           },
           "yaxis": {
            "backgroundcolor": "#E5ECF6",
            "gridcolor": "white",
            "gridwidth": 2,
            "linecolor": "white",
            "showbackground": true,
            "ticks": "",
            "zerolinecolor": "white"
           },
           "zaxis": {
            "backgroundcolor": "#E5ECF6",
            "gridcolor": "white",
            "gridwidth": 2,
            "linecolor": "white",
            "showbackground": true,
            "ticks": "",
            "zerolinecolor": "white"
           }
          },
          "shapedefaults": {
           "line": {
            "color": "#2a3f5f"
           }
          },
          "ternary": {
           "aaxis": {
            "gridcolor": "white",
            "linecolor": "white",
            "ticks": ""
           },
           "baxis": {
            "gridcolor": "white",
            "linecolor": "white",
            "ticks": ""
           },
           "bgcolor": "#E5ECF6",
           "caxis": {
            "gridcolor": "white",
            "linecolor": "white",
            "ticks": ""
           }
          },
          "title": {
           "x": 0.05
          },
          "xaxis": {
           "automargin": true,
           "gridcolor": "white",
           "linecolor": "white",
           "ticks": "",
           "title": {
            "standoff": 15
           },
           "zerolinecolor": "white",
           "zerolinewidth": 2
          },
          "yaxis": {
           "automargin": true,
           "gridcolor": "white",
           "linecolor": "white",
           "ticks": "",
           "title": {
            "standoff": 15
           },
           "zerolinecolor": "white",
           "zerolinewidth": 2
          }
         }
        },
        "xaxis": {
         "title": {
          "text": "Time (Hours)"
         }
        }
       }
      }
     },
     "metadata": {},
     "output_type": "display_data"
    }
   ],
   "source": [
    "# for country in countries:\n",
    "#     for year in years:\n",
    "#         # fig.add_trace(go.Scatter(\n",
    "#         # x=\n",
    "#         df[(df[\"Series Name\"]=='Time to export, border compliance (hours)') &\n",
    "#             (df[\"Country Name\"]==i) &\n",
    "#             (df[\"year\"]==year)][\"value\"].values.tolist(),\n",
    "#         # y=type,\n",
    "#         # #marker=dict(color=\"crimson\", size=12),\n",
    "#         # mode=\"markers\",\n",
    "#         # name=i,\n",
    "#         # ))\n",
    "# #fig.show()"
   ]
  },
  {
   "cell_type": "code",
   "execution_count": 16,
   "metadata": {},
   "outputs": [
    {
     "data": {
      "text/plain": [
       "[61.33333,\n",
       " 50.66667,\n",
       " 61.33333,\n",
       " 50.66667,\n",
       " 61.33333,\n",
       " 50.66667,\n",
       " 61.33333,\n",
       " 50.66667,\n",
       " 61.33333,\n",
       " 50.66667]"
      ]
     },
     "execution_count": 16,
     "metadata": {},
     "output_type": "execute_result"
    }
   ],
   "source": [
    "years = [\"2014\", \"2015\", \"2016\", \"2017\", \"2018\"]\n",
    "df[(df[\"Series Name\"]=='Time to export, border compliance (hours)') |\n",
    "       (df[\"Series Name\"]=='Time to export, documentary compliance (hours)') &\n",
    "       (df[\"Country Name\"]==i) &\n",
    "       (df[\"year\"].isin(years))][\"value\"].values.tolist()"
   ]
  },
  {
   "cell_type": "code",
   "execution_count": 2,
   "metadata": {},
   "outputs": [
    {
     "data": {
      "application/vnd.plotly.v1+json": {
       "config": {
        "plotlyServerURL": "https://plot.ly"
       },
       "data": [
        {
         "name": "SF Zoo",
         "orientation": "h",
         "type": "bar",
         "x": [
          20,
          14,
          23
         ],
         "y": [
          "giraffes",
          "orangutans",
          "monkeys"
         ]
        },
        {
         "name": "LA Zoo",
         "orientation": "h",
         "type": "bar",
         "x": [
          12,
          18,
          29
         ],
         "y": [
          "giraffes",
          "orangutans",
          "monkeys"
         ]
        }
       ],
       "layout": {
        "barmode": "stack",
        "template": {
         "data": {
          "bar": [
           {
            "error_x": {
             "color": "#2a3f5f"
            },
            "error_y": {
             "color": "#2a3f5f"
            },
            "marker": {
             "line": {
              "color": "#E5ECF6",
              "width": 0.5
             },
             "pattern": {
              "fillmode": "overlay",
              "size": 10,
              "solidity": 0.2
             }
            },
            "type": "bar"
           }
          ],
          "barpolar": [
           {
            "marker": {
             "line": {
              "color": "#E5ECF6",
              "width": 0.5
             },
             "pattern": {
              "fillmode": "overlay",
              "size": 10,
              "solidity": 0.2
             }
            },
            "type": "barpolar"
           }
          ],
          "carpet": [
           {
            "aaxis": {
             "endlinecolor": "#2a3f5f",
             "gridcolor": "white",
             "linecolor": "white",
             "minorgridcolor": "white",
             "startlinecolor": "#2a3f5f"
            },
            "baxis": {
             "endlinecolor": "#2a3f5f",
             "gridcolor": "white",
             "linecolor": "white",
             "minorgridcolor": "white",
             "startlinecolor": "#2a3f5f"
            },
            "type": "carpet"
           }
          ],
          "choropleth": [
           {
            "colorbar": {
             "outlinewidth": 0,
             "ticks": ""
            },
            "type": "choropleth"
           }
          ],
          "contour": [
           {
            "colorbar": {
             "outlinewidth": 0,
             "ticks": ""
            },
            "colorscale": [
             [
              0,
              "#0d0887"
             ],
             [
              0.1111111111111111,
              "#46039f"
             ],
             [
              0.2222222222222222,
              "#7201a8"
             ],
             [
              0.3333333333333333,
              "#9c179e"
             ],
             [
              0.4444444444444444,
              "#bd3786"
             ],
             [
              0.5555555555555556,
              "#d8576b"
             ],
             [
              0.6666666666666666,
              "#ed7953"
             ],
             [
              0.7777777777777778,
              "#fb9f3a"
             ],
             [
              0.8888888888888888,
              "#fdca26"
             ],
             [
              1,
              "#f0f921"
             ]
            ],
            "type": "contour"
           }
          ],
          "contourcarpet": [
           {
            "colorbar": {
             "outlinewidth": 0,
             "ticks": ""
            },
            "type": "contourcarpet"
           }
          ],
          "heatmap": [
           {
            "colorbar": {
             "outlinewidth": 0,
             "ticks": ""
            },
            "colorscale": [
             [
              0,
              "#0d0887"
             ],
             [
              0.1111111111111111,
              "#46039f"
             ],
             [
              0.2222222222222222,
              "#7201a8"
             ],
             [
              0.3333333333333333,
              "#9c179e"
             ],
             [
              0.4444444444444444,
              "#bd3786"
             ],
             [
              0.5555555555555556,
              "#d8576b"
             ],
             [
              0.6666666666666666,
              "#ed7953"
             ],
             [
              0.7777777777777778,
              "#fb9f3a"
             ],
             [
              0.8888888888888888,
              "#fdca26"
             ],
             [
              1,
              "#f0f921"
             ]
            ],
            "type": "heatmap"
           }
          ],
          "heatmapgl": [
           {
            "colorbar": {
             "outlinewidth": 0,
             "ticks": ""
            },
            "colorscale": [
             [
              0,
              "#0d0887"
             ],
             [
              0.1111111111111111,
              "#46039f"
             ],
             [
              0.2222222222222222,
              "#7201a8"
             ],
             [
              0.3333333333333333,
              "#9c179e"
             ],
             [
              0.4444444444444444,
              "#bd3786"
             ],
             [
              0.5555555555555556,
              "#d8576b"
             ],
             [
              0.6666666666666666,
              "#ed7953"
             ],
             [
              0.7777777777777778,
              "#fb9f3a"
             ],
             [
              0.8888888888888888,
              "#fdca26"
             ],
             [
              1,
              "#f0f921"
             ]
            ],
            "type": "heatmapgl"
           }
          ],
          "histogram": [
           {
            "marker": {
             "pattern": {
              "fillmode": "overlay",
              "size": 10,
              "solidity": 0.2
             }
            },
            "type": "histogram"
           }
          ],
          "histogram2d": [
           {
            "colorbar": {
             "outlinewidth": 0,
             "ticks": ""
            },
            "colorscale": [
             [
              0,
              "#0d0887"
             ],
             [
              0.1111111111111111,
              "#46039f"
             ],
             [
              0.2222222222222222,
              "#7201a8"
             ],
             [
              0.3333333333333333,
              "#9c179e"
             ],
             [
              0.4444444444444444,
              "#bd3786"
             ],
             [
              0.5555555555555556,
              "#d8576b"
             ],
             [
              0.6666666666666666,
              "#ed7953"
             ],
             [
              0.7777777777777778,
              "#fb9f3a"
             ],
             [
              0.8888888888888888,
              "#fdca26"
             ],
             [
              1,
              "#f0f921"
             ]
            ],
            "type": "histogram2d"
           }
          ],
          "histogram2dcontour": [
           {
            "colorbar": {
             "outlinewidth": 0,
             "ticks": ""
            },
            "colorscale": [
             [
              0,
              "#0d0887"
             ],
             [
              0.1111111111111111,
              "#46039f"
             ],
             [
              0.2222222222222222,
              "#7201a8"
             ],
             [
              0.3333333333333333,
              "#9c179e"
             ],
             [
              0.4444444444444444,
              "#bd3786"
             ],
             [
              0.5555555555555556,
              "#d8576b"
             ],
             [
              0.6666666666666666,
              "#ed7953"
             ],
             [
              0.7777777777777778,
              "#fb9f3a"
             ],
             [
              0.8888888888888888,
              "#fdca26"
             ],
             [
              1,
              "#f0f921"
             ]
            ],
            "type": "histogram2dcontour"
           }
          ],
          "mesh3d": [
           {
            "colorbar": {
             "outlinewidth": 0,
             "ticks": ""
            },
            "type": "mesh3d"
           }
          ],
          "parcoords": [
           {
            "line": {
             "colorbar": {
              "outlinewidth": 0,
              "ticks": ""
             }
            },
            "type": "parcoords"
           }
          ],
          "pie": [
           {
            "automargin": true,
            "type": "pie"
           }
          ],
          "scatter": [
           {
            "fillpattern": {
             "fillmode": "overlay",
             "size": 10,
             "solidity": 0.2
            },
            "type": "scatter"
           }
          ],
          "scatter3d": [
           {
            "line": {
             "colorbar": {
              "outlinewidth": 0,
              "ticks": ""
             }
            },
            "marker": {
             "colorbar": {
              "outlinewidth": 0,
              "ticks": ""
             }
            },
            "type": "scatter3d"
           }
          ],
          "scattercarpet": [
           {
            "marker": {
             "colorbar": {
              "outlinewidth": 0,
              "ticks": ""
             }
            },
            "type": "scattercarpet"
           }
          ],
          "scattergeo": [
           {
            "marker": {
             "colorbar": {
              "outlinewidth": 0,
              "ticks": ""
             }
            },
            "type": "scattergeo"
           }
          ],
          "scattergl": [
           {
            "marker": {
             "colorbar": {
              "outlinewidth": 0,
              "ticks": ""
             }
            },
            "type": "scattergl"
           }
          ],
          "scattermapbox": [
           {
            "marker": {
             "colorbar": {
              "outlinewidth": 0,
              "ticks": ""
             }
            },
            "type": "scattermapbox"
           }
          ],
          "scatterpolar": [
           {
            "marker": {
             "colorbar": {
              "outlinewidth": 0,
              "ticks": ""
             }
            },
            "type": "scatterpolar"
           }
          ],
          "scatterpolargl": [
           {
            "marker": {
             "colorbar": {
              "outlinewidth": 0,
              "ticks": ""
             }
            },
            "type": "scatterpolargl"
           }
          ],
          "scatterternary": [
           {
            "marker": {
             "colorbar": {
              "outlinewidth": 0,
              "ticks": ""
             }
            },
            "type": "scatterternary"
           }
          ],
          "surface": [
           {
            "colorbar": {
             "outlinewidth": 0,
             "ticks": ""
            },
            "colorscale": [
             [
              0,
              "#0d0887"
             ],
             [
              0.1111111111111111,
              "#46039f"
             ],
             [
              0.2222222222222222,
              "#7201a8"
             ],
             [
              0.3333333333333333,
              "#9c179e"
             ],
             [
              0.4444444444444444,
              "#bd3786"
             ],
             [
              0.5555555555555556,
              "#d8576b"
             ],
             [
              0.6666666666666666,
              "#ed7953"
             ],
             [
              0.7777777777777778,
              "#fb9f3a"
             ],
             [
              0.8888888888888888,
              "#fdca26"
             ],
             [
              1,
              "#f0f921"
             ]
            ],
            "type": "surface"
           }
          ],
          "table": [
           {
            "cells": {
             "fill": {
              "color": "#EBF0F8"
             },
             "line": {
              "color": "white"
             }
            },
            "header": {
             "fill": {
              "color": "#C8D4E3"
             },
             "line": {
              "color": "white"
             }
            },
            "type": "table"
           }
          ]
         },
         "layout": {
          "annotationdefaults": {
           "arrowcolor": "#2a3f5f",
           "arrowhead": 0,
           "arrowwidth": 1
          },
          "autotypenumbers": "strict",
          "coloraxis": {
           "colorbar": {
            "outlinewidth": 0,
            "ticks": ""
           }
          },
          "colorscale": {
           "diverging": [
            [
             0,
             "#8e0152"
            ],
            [
             0.1,
             "#c51b7d"
            ],
            [
             0.2,
             "#de77ae"
            ],
            [
             0.3,
             "#f1b6da"
            ],
            [
             0.4,
             "#fde0ef"
            ],
            [
             0.5,
             "#f7f7f7"
            ],
            [
             0.6,
             "#e6f5d0"
            ],
            [
             0.7,
             "#b8e186"
            ],
            [
             0.8,
             "#7fbc41"
            ],
            [
             0.9,
             "#4d9221"
            ],
            [
             1,
             "#276419"
            ]
           ],
           "sequential": [
            [
             0,
             "#0d0887"
            ],
            [
             0.1111111111111111,
             "#46039f"
            ],
            [
             0.2222222222222222,
             "#7201a8"
            ],
            [
             0.3333333333333333,
             "#9c179e"
            ],
            [
             0.4444444444444444,
             "#bd3786"
            ],
            [
             0.5555555555555556,
             "#d8576b"
            ],
            [
             0.6666666666666666,
             "#ed7953"
            ],
            [
             0.7777777777777778,
             "#fb9f3a"
            ],
            [
             0.8888888888888888,
             "#fdca26"
            ],
            [
             1,
             "#f0f921"
            ]
           ],
           "sequentialminus": [
            [
             0,
             "#0d0887"
            ],
            [
             0.1111111111111111,
             "#46039f"
            ],
            [
             0.2222222222222222,
             "#7201a8"
            ],
            [
             0.3333333333333333,
             "#9c179e"
            ],
            [
             0.4444444444444444,
             "#bd3786"
            ],
            [
             0.5555555555555556,
             "#d8576b"
            ],
            [
             0.6666666666666666,
             "#ed7953"
            ],
            [
             0.7777777777777778,
             "#fb9f3a"
            ],
            [
             0.8888888888888888,
             "#fdca26"
            ],
            [
             1,
             "#f0f921"
            ]
           ]
          },
          "colorway": [
           "#636efa",
           "#EF553B",
           "#00cc96",
           "#ab63fa",
           "#FFA15A",
           "#19d3f3",
           "#FF6692",
           "#B6E880",
           "#FF97FF",
           "#FECB52"
          ],
          "font": {
           "color": "#2a3f5f"
          },
          "geo": {
           "bgcolor": "white",
           "lakecolor": "white",
           "landcolor": "#E5ECF6",
           "showlakes": true,
           "showland": true,
           "subunitcolor": "white"
          },
          "hoverlabel": {
           "align": "left"
          },
          "hovermode": "closest",
          "mapbox": {
           "style": "light"
          },
          "paper_bgcolor": "white",
          "plot_bgcolor": "#E5ECF6",
          "polar": {
           "angularaxis": {
            "gridcolor": "white",
            "linecolor": "white",
            "ticks": ""
           },
           "bgcolor": "#E5ECF6",
           "radialaxis": {
            "gridcolor": "white",
            "linecolor": "white",
            "ticks": ""
           }
          },
          "scene": {
           "xaxis": {
            "backgroundcolor": "#E5ECF6",
            "gridcolor": "white",
            "gridwidth": 2,
            "linecolor": "white",
            "showbackground": true,
            "ticks": "",
            "zerolinecolor": "white"
           },
           "yaxis": {
            "backgroundcolor": "#E5ECF6",
            "gridcolor": "white",
            "gridwidth": 2,
            "linecolor": "white",
            "showbackground": true,
            "ticks": "",
            "zerolinecolor": "white"
           },
           "zaxis": {
            "backgroundcolor": "#E5ECF6",
            "gridcolor": "white",
            "gridwidth": 2,
            "linecolor": "white",
            "showbackground": true,
            "ticks": "",
            "zerolinecolor": "white"
           }
          },
          "shapedefaults": {
           "line": {
            "color": "#2a3f5f"
           }
          },
          "ternary": {
           "aaxis": {
            "gridcolor": "white",
            "linecolor": "white",
            "ticks": ""
           },
           "baxis": {
            "gridcolor": "white",
            "linecolor": "white",
            "ticks": ""
           },
           "bgcolor": "#E5ECF6",
           "caxis": {
            "gridcolor": "white",
            "linecolor": "white",
            "ticks": ""
           }
          },
          "title": {
           "x": 0.05
          },
          "xaxis": {
           "automargin": true,
           "gridcolor": "white",
           "linecolor": "white",
           "ticks": "",
           "title": {
            "standoff": 15
           },
           "zerolinecolor": "white",
           "zerolinewidth": 2
          },
          "yaxis": {
           "automargin": true,
           "gridcolor": "white",
           "linecolor": "white",
           "ticks": "",
           "title": {
            "standoff": 15
           },
           "zerolinecolor": "white",
           "zerolinewidth": 2
          }
         }
        }
       }
      }
     },
     "metadata": {},
     "output_type": "display_data"
    }
   ],
   "source": [
    "import plotly.graph_objects as go\n",
    "\n",
    "fig = go.Figure()\n",
    "fig.add_trace(go.Bar(\n",
    "    y=['giraffes', 'orangutans', 'monkeys'],\n",
    "    x=[20, 14, 23],\n",
    "    name='SF Zoo',\n",
    "    orientation='h',\n",
    "    # marker=dict(\n",
    "    #     color='rgba(246, 78, 139, 0.6)',\n",
    "    #     line=dict(color='rgba(246, 78, 139, 1.0)', width=3)\n",
    "    # )\n",
    "))\n",
    "fig.add_trace(go.Bar(\n",
    "    y=['giraffes', 'orangutans', 'monkeys'],\n",
    "    x=[12, 18, 29],\n",
    "    name='LA Zoo',\n",
    "    orientation='h',\n",
    "    # marker=dict(\n",
    "    #     color='rgba(58, 71, 80, 0.6)',\n",
    "    #     line=dict(color='rgba(58, 71, 80, 1.0)', width=3)\n",
    "    # )\n",
    "))\n",
    "\n",
    "fig.update_layout(barmode='stack')\n",
    "fig.show()"
   ]
  },
  {
   "cell_type": "code",
   "execution_count": null,
   "metadata": {},
   "outputs": [],
   "source": []
  }
 ],
 "metadata": {
  "kernelspec": {
   "display_name": "base",
   "language": "python",
   "name": "python3"
  },
  "language_info": {
   "codemirror_mode": {
    "name": "ipython",
    "version": 3
   },
   "file_extension": ".py",
   "mimetype": "text/x-python",
   "name": "python",
   "nbconvert_exporter": "python",
   "pygments_lexer": "ipython3",
   "version": "3.9.13"
  },
  "orig_nbformat": 4,
  "vscode": {
   "interpreter": {
    "hash": "c2f9328c4057bdb5fbe50953ede31cc7e15ec368bd827de0c4f10bbd6d3b74b9"
   }
  }
 },
 "nbformat": 4,
 "nbformat_minor": 2
}
